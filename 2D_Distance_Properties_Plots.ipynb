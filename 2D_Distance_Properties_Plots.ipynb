{
 "cells": [
  {
   "cell_type": "code",
   "execution_count": 1,
   "id": "0205a711",
   "metadata": {},
   "outputs": [],
   "source": [
    "from astropy.table import Table\n",
    "import numpy as np\n",
    "import matplotlib.pyplot as plt\n"
   ]
  },
  {
   "cell_type": "code",
   "execution_count": 3,
   "id": "8795d36e",
   "metadata": {},
   "outputs": [
    {
     "data": {
      "text/html": [
       "<div><i>Table length=5</i>\n",
       "<table id=\"table2796225909088\" class=\"table-striped table-bordered table-condensed\">\n",
       "<thead><tr><th>aimc</th><th>IN_DR7_LSS</th><th>RA</th><th>DEC</th><th>Z</th><th>ELPETRO_ABSMAG_r</th><th>u_r</th><th>sSFR</th><th>HImass</th><th>flag3727</th><th>t3</th><th>Z12logOH</th><th>Zerr</th><th>logNO</th><th>NOerr</th><th>vflag_VF</th><th>ID</th><th>2D_neighbor_ID</th><th>2D_neighbor_dist</th><th>2D_neighbor_ID_vir</th><th>2D_neighbor_dist_vir</th><th>3D_neighbor_ID</th><th>3D_neighbor_dist</th><th>3D_neighbor_ID_vir</th><th>3D_neighbor_dist_vir</th></tr></thead>\n",
       "<thead><tr><th>float64</th><th>float64</th><th>float64</th><th>float64</th><th>float64</th><th>float64</th><th>float64</th><th>float64</th><th>float64</th><th>float64</th><th>float64</th><th>float64</th><th>float64</th><th>float64</th><th>float64</th><th>int32</th><th>int32</th><th>int32</th><th>float64</th><th>int32</th><th>float64</th><th>int32</th><th>float64</th><th>int32</th><th>float64</th></tr></thead>\n",
       "<tr><td>0.0</td><td>1.0</td><td>147.17645340393182</td><td>-0.3540349522432606</td><td>0.006282840855419636</td><td>-15.534673690795898</td><td>1.5979467332363129</td><td>-9.897252082824707</td><td>nan</td><td>nan</td><td>nan</td><td>nan</td><td>nan</td><td>nan</td><td>nan</td><td>2</td><td>12</td><td>49</td><td>0.18150554228021565</td><td>585714</td><td>1.3634632510011546</td><td>573</td><td>0.3210655024172438</td><td>208</td><td>2.3657856725525463</td></tr>\n",
       "<tr><td>106.68</td><td>1.0</td><td>146.85676432411947</td><td>-0.27409664376066756</td><td>0.02196459472179413</td><td>-16.7003231048584</td><td>1.6220477223396301</td><td>-9.639364242553711</td><td>nan</td><td>nan</td><td>nan</td><td>nan</td><td>nan</td><td>nan</td><td>nan</td><td>2</td><td>31</td><td>79</td><td>0.6704515586457357</td><td>92</td><td>2.414294367856323</td><td>80</td><td>0.9556330809587631</td><td>585700</td><td>3.7385754919749274</td></tr>\n",
       "<tr><td>0.0</td><td>1.0</td><td>146.19277353258968</td><td>-0.6882589506846374</td><td>0.004080323036760092</td><td>-15.290872573852539</td><td>1.220979243516922</td><td>-9.548693656921387</td><td>nan</td><td>nan</td><td>nan</td><td>nan</td><td>nan</td><td>nan</td><td>nan</td><td>2</td><td>44</td><td>585695</td><td>0.035663331434249095</td><td>639857</td><td>0.46035331496314846</td><td>585695</td><td>0.221530846641702</td><td>585695</td><td>2.8927174640703734</td></tr>\n",
       "<tr><td>199.39</td><td>1.0</td><td>146.00780426178756</td><td>-0.6422574964819474</td><td>0.004776299931108952</td><td>-15.831652641296387</td><td>0.7728094607591629</td><td>-7.982375621795654</td><td>nan</td><td>0.0</td><td>1.5717060395681055</td><td>7.73051787768279</td><td>0.0179600111522654</td><td>-0.5320566539047968</td><td>0.44255404846002694</td><td>2</td><td>45</td><td>585695</td><td>0.006393284307917346</td><td>585695</td><td>0.08348257342324528</td><td>639857</td><td>0.6010801341408164</td><td>639857</td><td>7.109919536505821</td></tr>\n",
       "<tr><td>0.0</td><td>1.0</td><td>146.6190367018052</td><td>-0.43434631860351913</td><td>0.006036635022610426</td><td>-16.34455108642578</td><td>1.7559601366519928</td><td>-9.769034385681152</td><td>nan</td><td>nan</td><td>nan</td><td>nan</td><td>nan</td><td>nan</td><td>nan</td><td>2</td><td>49</td><td>585714</td><td>0.07059729101415332</td><td>585714</td><td>0.4172620229334301</td><td>585714</td><td>0.3596492056527832</td><td>585714</td><td>2.125689993784549</td></tr>\n",
       "</table></div>"
      ],
      "text/plain": [
       "<Table length=5>\n",
       "  aimc  IN_DR7_LSS ... 3D_neighbor_ID_vir 3D_neighbor_dist_vir\n",
       "float64  float64   ...       int32              float64       \n",
       "------- ---------- ... ------------------ --------------------\n",
       "    0.0        1.0 ...                208   2.3657856725525463\n",
       " 106.68        1.0 ...             585700   3.7385754919749274\n",
       "    0.0        1.0 ...             585695   2.8927174640703734\n",
       " 199.39        1.0 ...             639857    7.109919536505821\n",
       "    0.0        1.0 ...             585714    2.125689993784549"
      ]
     },
     "execution_count": 3,
     "metadata": {},
     "output_type": "execute_result"
    }
   ],
   "source": [
    "dwarf_table = Table.read('dwarf_table.txt', format = 'ascii.commented_header')\n",
    "dwarf_table[:5]"
   ]
  }
 ],
 "metadata": {
  "kernelspec": {
   "display_name": "Python 3 (ipykernel)",
   "language": "python",
   "name": "python3"
  },
  "language_info": {
   "codemirror_mode": {
    "name": "ipython",
    "version": 3
   },
   "file_extension": ".py",
   "mimetype": "text/x-python",
   "name": "python",
   "nbconvert_exporter": "python",
   "pygments_lexer": "ipython3",
   "version": "3.9.12"
  }
 },
 "nbformat": 4,
 "nbformat_minor": 5
}
