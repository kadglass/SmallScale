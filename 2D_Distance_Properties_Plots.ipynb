{
 "cells": [
  {
   "cell_type": "markdown",
   "id": "02a1e5d7",
   "metadata": {},
   "source": [
    "# 2D Distance Properties Plots\n",
    "\n",
    "### Importing Tables"
   ]
  },
  {
   "cell_type": "code",
   "execution_count": 1,
   "id": "0205a711",
   "metadata": {},
   "outputs": [],
   "source": [
    "from astropy.table import Table\n",
    "import numpy as np\n",
    "import matplotlib.pyplot as plt\n"
   ]
  },
  {
   "cell_type": "code",
   "execution_count": 2,
   "id": "8795d36e",
   "metadata": {},
   "outputs": [
    {
     "data": {
      "text/html": [
       "<div><i>Table length=5</i>\n",
       "<table id=\"table2145644976304\" class=\"table-striped table-bordered table-condensed\">\n",
       "<thead><tr><th>aimc</th><th>IN_DR7_LSS</th><th>RA</th><th>DEC</th><th>Z</th><th>ELPETRO_ABSMAG_r</th><th>u_r</th><th>sSFR</th><th>HImass</th><th>flag3727</th><th>t3</th><th>Z12logOH</th><th>Zerr</th><th>logNO</th><th>NOerr</th><th>vflag_VF</th><th>ID</th><th>2D_neighbor_ID</th><th>2D_neighbor_dist</th><th>2D_neighbor_ID_vir</th><th>2D_neighbor_dist_vir</th><th>3D_neighbor_ID</th><th>3D_neighbor_dist</th><th>3D_neighbor_ID_vir</th><th>3D_neighbor_dist_vir</th></tr></thead>\n",
       "<thead><tr><th>float64</th><th>float64</th><th>float64</th><th>float64</th><th>float64</th><th>float64</th><th>float64</th><th>float64</th><th>float64</th><th>float64</th><th>float64</th><th>float64</th><th>float64</th><th>float64</th><th>float64</th><th>int32</th><th>int32</th><th>int32</th><th>float64</th><th>int32</th><th>float64</th><th>int32</th><th>float64</th><th>int32</th><th>float64</th></tr></thead>\n",
       "<tr><td>0.0</td><td>1.0</td><td>147.17645340393182</td><td>-0.3540349522432606</td><td>0.006282840855419636</td><td>-15.534673690795898</td><td>1.5979467332363129</td><td>-9.897252082824707</td><td>nan</td><td>nan</td><td>nan</td><td>nan</td><td>nan</td><td>nan</td><td>nan</td><td>2</td><td>12</td><td>49</td><td>0.18150554228021565</td><td>585714</td><td>1.3634632510011546</td><td>573</td><td>0.3210655024172438</td><td>208</td><td>2.3657856725525463</td></tr>\n",
       "<tr><td>106.68</td><td>1.0</td><td>146.85676432411947</td><td>-0.27409664376066756</td><td>0.02196459472179413</td><td>-16.7003231048584</td><td>1.6220477223396301</td><td>-9.639364242553711</td><td>nan</td><td>nan</td><td>nan</td><td>nan</td><td>nan</td><td>nan</td><td>nan</td><td>2</td><td>31</td><td>79</td><td>0.6704515586457357</td><td>92</td><td>2.414294367856323</td><td>80</td><td>0.9556330809587631</td><td>585700</td><td>3.7385754919749274</td></tr>\n",
       "<tr><td>0.0</td><td>1.0</td><td>146.19277353258968</td><td>-0.6882589506846374</td><td>0.004080323036760092</td><td>-15.290872573852539</td><td>1.220979243516922</td><td>-9.548693656921387</td><td>nan</td><td>nan</td><td>nan</td><td>nan</td><td>nan</td><td>nan</td><td>nan</td><td>2</td><td>44</td><td>585695</td><td>0.035663331434249095</td><td>639857</td><td>0.46035331496314846</td><td>585695</td><td>0.221530846641702</td><td>585695</td><td>2.8927174640703734</td></tr>\n",
       "<tr><td>199.39</td><td>1.0</td><td>146.00780426178756</td><td>-0.6422574964819474</td><td>0.004776299931108952</td><td>-15.831652641296387</td><td>0.7728094607591629</td><td>-7.982375621795654</td><td>nan</td><td>0.0</td><td>1.5717060395681055</td><td>7.73051787768279</td><td>0.0179600111522654</td><td>-0.5320566539047968</td><td>0.44255404846002694</td><td>2</td><td>45</td><td>585695</td><td>0.006393284307917346</td><td>585695</td><td>0.08348257342324528</td><td>639857</td><td>0.6010801341408164</td><td>639857</td><td>7.109919536505821</td></tr>\n",
       "<tr><td>0.0</td><td>1.0</td><td>146.6190367018052</td><td>-0.43434631860351913</td><td>0.006036635022610426</td><td>-16.34455108642578</td><td>1.7559601366519928</td><td>-9.769034385681152</td><td>nan</td><td>nan</td><td>nan</td><td>nan</td><td>nan</td><td>nan</td><td>nan</td><td>2</td><td>49</td><td>585714</td><td>0.07059729101415332</td><td>585714</td><td>0.4172620229334301</td><td>585714</td><td>0.3596492056527832</td><td>585714</td><td>2.125689993784549</td></tr>\n",
       "</table></div>"
      ],
      "text/plain": [
       "<Table length=5>\n",
       "  aimc  IN_DR7_LSS ... 3D_neighbor_ID_vir 3D_neighbor_dist_vir\n",
       "float64  float64   ...       int32              float64       \n",
       "------- ---------- ... ------------------ --------------------\n",
       "    0.0        1.0 ...                208   2.3657856725525463\n",
       " 106.68        1.0 ...             585700   3.7385754919749274\n",
       "    0.0        1.0 ...             585695   2.8927174640703734\n",
       " 199.39        1.0 ...             639857    7.109919536505821\n",
       "    0.0        1.0 ...             585714    2.125689993784549"
      ]
     },
     "execution_count": 2,
     "metadata": {},
     "output_type": "execute_result"
    }
   ],
   "source": [
    "dwarf_table = Table.read('dwarf_table.txt', format = 'ascii.commented_header')\n",
    "dwarf_table[:5]"
   ]
  },
  {
   "cell_type": "code",
   "execution_count": 3,
   "id": "c6f787ba",
   "metadata": {},
   "outputs": [
    {
     "data": {
      "text/html": [
       "<div><i>Table length=5</i>\n",
       "<table id=\"table2145644974432\" class=\"table-striped table-bordered table-condensed\">\n",
       "<thead><tr><th>aimc</th><th>IN_DR7_LSS</th><th>RA</th><th>DEC</th><th>Z</th><th>ELPETRO_ABSMAG_r</th><th>u_r</th><th>sSFR</th><th>HImass</th><th>flag3727</th><th>t3</th><th>Z12logOH</th><th>Zerr</th><th>logNO</th><th>NOerr</th><th>vflag_VF</th><th>ID#</th><th>gamma_ratio</th></tr></thead>\n",
       "<thead><tr><th>float64</th><th>float64</th><th>float64</th><th>float64</th><th>float64</th><th>float64</th><th>float64</th><th>float64</th><th>float64</th><th>float64</th><th>float64</th><th>float64</th><th>float64</th><th>float64</th><th>float64</th><th>int32</th><th>int32</th><th>int32</th></tr></thead>\n",
       "<tr><td>-99.0</td><td>0.0</td><td>146.714215072841</td><td>-1.0412800233313741</td><td>0.021222278475761414</td><td>-19.30365562438965</td><td>2.3124398291110992</td><td>nan</td><td>nan</td><td>nan</td><td>nan</td><td>nan</td><td>nan</td><td>nan</td><td>nan</td><td>9</td><td>0</td><td>1</td></tr>\n",
       "<tr><td>1.0</td><td>1.0</td><td>146.6285851269414</td><td>-0.7651620976591762</td><td>0.0646563172340393</td><td>-19.97649574279785</td><td>2.976039946079254</td><td>-11.241625785827637</td><td>nan</td><td>nan</td><td>nan</td><td>nan</td><td>nan</td><td>nan</td><td>nan</td><td>2</td><td>1</td><td>2</td></tr>\n",
       "<tr><td>-99.0</td><td>0.0</td><td>146.63170644325592</td><td>-0.9883467023052999</td><td>0.05265425145626068</td><td>-18.431812286376953</td><td>1.7119742929935455</td><td>nan</td><td>nan</td><td>nan</td><td>nan</td><td>nan</td><td>nan</td><td>nan</td><td>nan</td><td>2</td><td>2</td><td>1</td></tr>\n",
       "<tr><td>1.0</td><td>1.0</td><td>146.9341288729797</td><td>-0.6704053610430766</td><td>0.12127048522233963</td><td>-21.559162139892578</td><td>3.0934733152389526</td><td>-11.71275806427002</td><td>nan</td><td>nan</td><td>nan</td><td>nan</td><td>nan</td><td>nan</td><td>nan</td><td>9</td><td>3</td><td>2</td></tr>\n",
       "<tr><td>-99.0</td><td>1.0</td><td>146.9634997327016</td><td>-0.5447758299302171</td><td>0.055980585515499115</td><td>-19.10099220275879</td><td>2.044341266155243</td><td>nan</td><td>nan</td><td>nan</td><td>nan</td><td>nan</td><td>nan</td><td>nan</td><td>nan</td><td>2</td><td>4</td><td>1</td></tr>\n",
       "</table></div>"
      ],
      "text/plain": [
       "<Table length=5>\n",
       "  aimc  IN_DR7_LSS         RA         ... vflag_VF  ID#  gamma_ratio\n",
       "float64  float64        float64       ...  int32   int32    int32   \n",
       "------- ---------- ------------------ ... -------- ----- -----------\n",
       "  -99.0        0.0   146.714215072841 ...        9     0           1\n",
       "    1.0        1.0  146.6285851269414 ...        2     1           2\n",
       "  -99.0        0.0 146.63170644325592 ...        2     2           1\n",
       "    1.0        1.0  146.9341288729797 ...        9     3           2\n",
       "  -99.0        1.0  146.9634997327016 ...        2     4           1"
      ]
     },
     "execution_count": 3,
     "metadata": {},
     "output_type": "execute_result"
    }
   ],
   "source": [
    "gal_table = Table.read('gal_table.txt', format = 'ascii.commented_header')\n",
    "gal_table[:5]"
   ]
  },
  {
   "cell_type": "markdown",
   "id": "97d02098",
   "metadata": {},
   "source": [
    "## Getting values for Difference in Metallicity and N/O Ratio (Target - Neighboring)"
   ]
  },
  {
   "cell_type": "code",
   "execution_count": 4,
   "id": "e1e20553",
   "metadata": {},
   "outputs": [],
   "source": [
    "t3mask = dwarf_table['t3'] < 3  # Makes a boolean selection mask (numpy array)\n",
    "dwarf_t3= dwarf_table[t3mask]\n",
    "\n",
    "#dwarf_t3\n",
    "#dist1[~np.isinf(dist1)]"
   ]
  },
  {
   "cell_type": "code",
   "execution_count": 5,
   "id": "29025155",
   "metadata": {},
   "outputs": [],
   "source": [
    "#creating the new columns\n",
    "dwarf_t3['2D_Z12logOH_diff'] = np.nan\n",
    "dwarf_t3['2D_logNO_diff'] = np.nan"
   ]
  },
  {
   "cell_type": "code",
   "execution_count": 6,
   "id": "2604e199",
   "metadata": {},
   "outputs": [],
   "source": [
    "for i in range(len(dwarf_t3)):\n",
    "    \n",
    "    di = gal_table['ID#'] == dwarf_t3['2D_neighbor_ID'][i] #finding 2D neighboring galaxy in the large table\n",
    "    \n",
    "    dwarf_t3['2D_Z12logOH_diff'][i] = dwarf_t3['Z12logOH'][i] - gal_table['Z12logOH'][di]\n",
    "    dwarf_t3['2D_logNO_diff'][i] = dwarf_t3['logNO'][i] - gal_table['logNO'][di]"
   ]
  },
  {
   "cell_type": "code",
   "execution_count": null,
   "id": "329a677b",
   "metadata": {},
   "outputs": [],
   "source": [
    "dwarf_table[:20]"
   ]
  },
  {
   "cell_type": "markdown",
   "id": "f750b36d",
   "metadata": {},
   "source": [
    "# Making Plots"
   ]
  },
  {
   "cell_type": "markdown",
   "id": "53e4a668",
   "metadata": {},
   "source": [
    "## Color (u-r)"
   ]
  },
  {
   "cell_type": "code",
   "execution_count": 7,
   "id": "e76e2e3c",
   "metadata": {},
   "outputs": [],
   "source": [
    "# Separating into Void, Wall, or Other Dwarf Galaxies\n",
    "\n",
    "dwarf_wall = dwarf_table['vflag_VF']==0\n",
    "dwarf_void = dwarf_table['vflag_VF']==1\n",
    "dwarf_other = ~(dwarf_wall | dwarf_void)\n",
    "\n",
    "dwarf_wall_t3 = dwarf_t3['vflag_VF']==0\n",
    "dwarf_void_t3 = dwarf_t3['vflag_VF']==1\n",
    "dwarf_other_t3 = ~(dwarf_wall_t3 | dwarf_void_t3)"
   ]
  },
  {
   "cell_type": "code",
   "execution_count": null,
   "id": "c7b6e47a",
   "metadata": {},
   "outputs": [],
   "source": [
    "plt.rcParams[\"figure.figsize\"] = (10,6)\n",
    "\n",
    "plt.figure(tight_layout = True)\n",
    "plt.plot(dwarf_table['2D_neighbor_dist'][dwarf_wall], dwarf_table['u_r'][dwarf_wall], \"k^\", alpha = 0.5, label = 'wall')\n",
    "plt.plot(dwarf_table['2D_neighbor_dist'][dwarf_void], dwarf_table['u_r'][dwarf_void], \"ro\", alpha = 0.2, label = 'void')\n",
    "plt.scatter(dwarf_table['2D_neighbor_dist'][dwarf_other], dwarf_table['u_r'][dwarf_other], facecolors='none', edgecolors='g', alpha = 0.5, label = 'other')\n",
    "plt.legend()\n",
    "plt.xlabel('Distance to Nearest Neighbor [$h^{-1}Mpc]$')\n",
    "plt.ylabel('u-r');"
   ]
  },
  {
   "cell_type": "code",
   "execution_count": null,
   "id": "5743176a",
   "metadata": {},
   "outputs": [],
   "source": [
    "#limiting x axis\n",
    "\n",
    "plt.rcParams[\"figure.figsize\"] = (10,6)\n",
    "\n",
    "plt.figure(tight_layout = True)\n",
    "plt.plot(dwarf_table['2D_neighbor_dist'][dwarf_wall], dwarf_table['u_r'][dwarf_wall], \"k^\", alpha = 0.5, label = 'wall')\n",
    "plt.plot(dwarf_table['2D_neighbor_dist'][dwarf_void], dwarf_table['u_r'][dwarf_void], \"ro\", alpha = 0.2, label = 'void')\n",
    "plt.scatter(dwarf_table['2D_neighbor_dist'][dwarf_other], dwarf_table['u_r'][dwarf_other], facecolors='none', edgecolors='g', alpha = 0.5, label = 'other')\n",
    "plt.legend()\n",
    "plt.xlabel('Distance to Nearest Neighbor [$h^{-1}Mpc]$')\n",
    "plt.ylabel('u-r')\n",
    "\n",
    "plt.xlim([0,1]);\n"
   ]
  },
  {
   "cell_type": "markdown",
   "id": "14c2e506",
   "metadata": {},
   "source": [
    "## Specific Star Formation Rate (sSFR)"
   ]
  },
  {
   "cell_type": "code",
   "execution_count": null,
   "id": "b6bc183d",
   "metadata": {},
   "outputs": [],
   "source": [
    "plt.rcParams[\"figure.figsize\"] = (10,6)\n",
    "\n",
    "plt.figure(tight_layout = True)\n",
    "plt.plot(dwarf_table['2D_neighbor_dist'][dwarf_wall], dwarf_table['sSFR'][dwarf_wall], \"k^\", alpha = 0.5, label = 'wall')\n",
    "plt.plot(dwarf_table['2D_neighbor_dist'][dwarf_void], dwarf_table['sSFR'][dwarf_void], \"ro\", alpha = 0.2, label = 'void')\n",
    "plt.scatter(dwarf_table['2D_neighbor_dist'][dwarf_other], dwarf_table['sSFR'][dwarf_other], facecolors='none', edgecolors='g', alpha = 0.5, label = 'other')\n",
    "plt.legend()\n",
    "plt.xlabel('Distance to Nearest Neighbor [$h^{-1}Mpc]$')\n",
    "plt.ylabel('sSFR [$yr^{-1}]$');"
   ]
  },
  {
   "cell_type": "code",
   "execution_count": null,
   "id": "d138da52",
   "metadata": {},
   "outputs": [],
   "source": [
    "#limiting x axis\n",
    "\n",
    "plt.rcParams[\"figure.figsize\"] = (10,6)\n",
    "\n",
    "plt.figure(tight_layout = True)\n",
    "plt.plot(dwarf_table['2D_neighbor_dist'][dwarf_wall], dwarf_table['sSFR'][dwarf_wall], \"k^\", alpha = 0.5, label = 'wall')\n",
    "plt.plot(dwarf_table['2D_neighbor_dist'][dwarf_void], dwarf_table['sSFR'][dwarf_void], \"ro\", alpha = 0.2, label = 'void')\n",
    "plt.scatter(dwarf_table['2D_neighbor_dist'][dwarf_other], dwarf_table['sSFR'][dwarf_other], facecolors='none', edgecolors='g', alpha = 0.5, label = 'other')\n",
    "plt.legend()\n",
    "plt.xlabel('Distance to Nearest Neighbor [$h^{-1}Mpc]$')\n",
    "plt.ylabel('sSFR [$yr^{-1}]$')\n",
    "plt.xlim([0,1]);\n"
   ]
  },
  {
   "cell_type": "markdown",
   "id": "558413fa",
   "metadata": {},
   "source": [
    "## Metallicity (12 + log(O/H))"
   ]
  },
  {
   "cell_type": "code",
   "execution_count": null,
   "id": "689a09d6",
   "metadata": {},
   "outputs": [],
   "source": [
    "plt.rcParams[\"figure.figsize\"] = (10,6)\n",
    "\n",
    "plt.figure(tight_layout = True)\n",
    "plt.plot(dwarf_t3['2D_neighbor_dist'][dwarf_wall_t3], dwarf_t3['Z12logOH'][dwarf_wall_t3], \"k^\", alpha = 0.5, label = 'wall')\n",
    "plt.plot(dwarf_t3['2D_neighbor_dist'][dwarf_void_t3], dwarf_t3['Z12logOH'][dwarf_void_t3], \"ro\", alpha = 0.2, label = 'void')\n",
    "plt.scatter(dwarf_t3['2D_neighbor_dist'][dwarf_other_t3], dwarf_t3['Z12logOH'][dwarf_other_t3], facecolors='none', edgecolors='g', alpha = 0.5, label = 'other')\n",
    "plt.legend()\n",
    "plt.xlabel('Distance to Nearest Neighbor [$h^{-1}Mpc]$')\n",
    "plt.ylabel('12 + log(O/H)');"
   ]
  },
  {
   "cell_type": "code",
   "execution_count": null,
   "id": "feda9984",
   "metadata": {},
   "outputs": [],
   "source": [
    "# limiting x axis\n",
    "\n",
    "plt.rcParams[\"figure.figsize\"] = (10,6)\n",
    "\n",
    "plt.figure(tight_layout = True)\n",
    "plt.plot(dwarf_table['2D_neighbor_dist'][dwarf_wall], dwarf_table['Z12logOH'][dwarf_wall], \"k^\", alpha = 0.5, label = 'wall')\n",
    "plt.plot(dwarf_table['2D_neighbor_dist'][dwarf_void], dwarf_table['Z12logOH'][dwarf_void], \"ro\", alpha = 0.2, label = 'void')\n",
    "plt.scatter(dwarf_table['2D_neighbor_dist'][dwarf_other], dwarf_table['Z12logOH'][dwarf_other], facecolors='none', edgecolors='g', alpha = 0.5, label = 'other')\n",
    "plt.legend()\n",
    "plt.xlabel('Distance to Nearest Neighbor [$h^{-1}Mpc]$')\n",
    "plt.ylabel('12 + log(O/H)')\n",
    "plt.xlim([0,1]);"
   ]
  },
  {
   "cell_type": "markdown",
   "id": "96f930bf",
   "metadata": {},
   "source": [
    "## Metallicity Difference (target - neighbor)"
   ]
  },
  {
   "cell_type": "code",
   "execution_count": null,
   "id": "209300e2",
   "metadata": {},
   "outputs": [],
   "source": [
    "plt.rcParams[\"figure.figsize\"] = (10,6)\n",
    "\n",
    "plt.figure(tight_layout = True)\n",
    "plt.plot(dwarf_table['2D_neighbor_dist'][dwarf_wall], dwarf_table['2D_Z12logOH_diff'][dwarf_wall], \"k^\", alpha = 0.5, label = 'wall')\n",
    "plt.plot(dwarf_table['2D_neighbor_dist'][dwarf_void], dwarf_table['2D_Z12logOH_diff'][dwarf_void], \"ro\", alpha = 0.2, label = 'void')\n",
    "plt.scatter(dwarf_table['2D_neighbor_dist'][dwarf_other], dwarf_table['2D_Z12logOH_diff'][dwarf_other], facecolors='none', edgecolors='g', alpha = 0.5, label = 'other')\n",
    "plt.legend()\n",
    "plt.xlabel('Distance to Nearest Neighbor [$h^{-1}Mpc]$')\n",
    "plt.ylabel('Δ12 + log(O/H) (target - neighbor)');"
   ]
  },
  {
   "cell_type": "code",
   "execution_count": null,
   "id": "c071543a",
   "metadata": {},
   "outputs": [],
   "source": [
    "#limiting x axis\n",
    "\n",
    "plt.rcParams[\"figure.figsize\"] = (10,6)\n",
    "\n",
    "plt.figure(tight_layout = True)\n",
    "plt.plot(dwarf_table['2D_neighbor_dist'][dwarf_wall], dwarf_table['2D_Z12logOH_diff'][dwarf_wall], \"k^\", alpha = 0.5, label = 'wall')\n",
    "plt.plot(dwarf_table['2D_neighbor_dist'][dwarf_void], dwarf_table['2D_Z12logOH_diff'][dwarf_void], \"ro\", alpha = 0.2, label = 'void')\n",
    "plt.scatter(dwarf_table['2D_neighbor_dist'][dwarf_other], dwarf_table['2D_Z12logOH_diff'][dwarf_other], facecolors='none', edgecolors='g', alpha = 0.5, label = 'other')\n",
    "plt.legend()\n",
    "plt.xlabel('Distance to Nearest Neighbor [$h^{-1}Mpc]$')\n",
    "plt.ylabel('Δ12 + log(O/H) (target - neighbor)')\n",
    "\n",
    "plt.xlim([0,1]);\n"
   ]
  },
  {
   "cell_type": "markdown",
   "id": "fc5cedd9",
   "metadata": {},
   "source": [
    "## N/O Ratio"
   ]
  },
  {
   "cell_type": "code",
   "execution_count": null,
   "id": "8e31465e",
   "metadata": {},
   "outputs": [],
   "source": [
    "plt.rcParams[\"figure.figsize\"] = (10,6)\n",
    "\n",
    "plt.figure(tight_layout = True)\n",
    "plt.plot(dwarf_table['2D_neighbor_dist'][dwarf_wall], dwarf_table['logNO'][dwarf_wall], \"k^\", alpha = 0.5, label = 'wall')\n",
    "plt.plot(dwarf_table['2D_neighbor_dist'][dwarf_void], dwarf_table['logNO'][dwarf_void], \"ro\", alpha = 0.2, label = 'void')\n",
    "plt.scatter(dwarf_table['2D_neighbor_dist'][dwarf_other], dwarf_table['logNO'][dwarf_other], facecolors='none', edgecolors='g', alpha = 0.5, label = 'other')\n",
    "plt.legend()\n",
    "plt.xlabel('Distance to Nearest Neighbor [$h^{-1}Mpc]$')\n",
    "plt.ylabel('log(N/O)');"
   ]
  },
  {
   "cell_type": "code",
   "execution_count": null,
   "id": "20801d6d",
   "metadata": {},
   "outputs": [],
   "source": [
    "# limiting x axis\n",
    "\n",
    "plt.rcParams[\"figure.figsize\"] = (10,6)\n",
    "\n",
    "plt.figure(tight_layout = True)\n",
    "plt.plot(dwarf_table['2D_neighbor_dist'][dwarf_wall], dwarf_table['logNO'][dwarf_wall], \"k^\", alpha = 0.5, label = 'wall')\n",
    "plt.plot(dwarf_table['2D_neighbor_dist'][dwarf_void], dwarf_table['logNO'][dwarf_void], \"ro\", alpha = 0.2, label = 'void')\n",
    "plt.scatter(dwarf_table['2D_neighbor_dist'][dwarf_other], dwarf_table['logNO'][dwarf_other], facecolors='none', edgecolors='g', alpha = 0.5, label = 'other')\n",
    "plt.legend()\n",
    "plt.xlabel('Distance to Nearest Neighbor [$h^{-1}Mpc]$')\n",
    "plt.ylabel('log(N/O)')\n",
    "\n",
    "plt.xlim([0,1]);"
   ]
  },
  {
   "cell_type": "markdown",
   "id": "db91f3a4",
   "metadata": {},
   "source": [
    "## N/O Ratio Difference (target - neighbor)"
   ]
  },
  {
   "cell_type": "code",
   "execution_count": null,
   "id": "f7136d1c",
   "metadata": {},
   "outputs": [],
   "source": [
    "plt.rcParams[\"figure.figsize\"] = (10,6)\n",
    "\n",
    "plt.figure(tight_layout = True)\n",
    "plt.plot(dwarf_table['2D_neighbor_dist'][dwarf_wall], dwarf_table['2D_logNO_diff'][dwarf_wall], \"k^\", alpha = 0.5, label = 'wall')\n",
    "plt.plot(dwarf_table['2D_neighbor_dist'][dwarf_void], dwarf_table['2D_logNO_diff'][dwarf_void], \"ro\", alpha = 0.2, label = 'void')\n",
    "plt.scatter(dwarf_table['2D_neighbor_dist'][dwarf_other], dwarf_table['2D_logNO_diff'][dwarf_other], facecolors='none', edgecolors='g', alpha = 0.5, label = 'other')\n",
    "plt.legend()\n",
    "plt.xlabel('Distance to Nearest Neighbor [$h^{-1}Mpc]$')\n",
    "plt.ylabel('Δlog(N/O) (target-neighbor)');\n",
    "\n"
   ]
  },
  {
   "cell_type": "code",
   "execution_count": null,
   "id": "a11937a7",
   "metadata": {},
   "outputs": [],
   "source": [
    "# limiting x axis\n",
    "\n",
    "plt.rcParams[\"figure.figsize\"] = (10,6)\n",
    "\n",
    "plt.figure(tight_layout = True)\n",
    "plt.plot(dwarf_table['2D_neighbor_dist'][dwarf_wall], dwarf_table['2D_logNO_diff'][dwarf_wall], \"k^\", alpha = 0.5, label = 'wall')\n",
    "plt.plot(dwarf_table['2D_neighbor_dist'][dwarf_void], dwarf_table['2D_logNO_diff'][dwarf_void], \"ro\", alpha = 0.2, label = 'void')\n",
    "plt.scatter(dwarf_table['2D_neighbor_dist'][dwarf_other], dwarf_table['2D_logNO_diff'][dwarf_other], facecolors='none', edgecolors='g', alpha = 0.5, label = 'other')\n",
    "plt.legend()\n",
    "plt.xlabel('Distance to Nearest Neighbor [$h^{-1}Mpc]$')\n",
    "plt.ylabel('Δlog(N/O) (target-neighbor)')\n",
    "\n",
    "plt.xlim([0,1]);"
   ]
  },
  {
   "cell_type": "markdown",
   "id": "9c9b70ed",
   "metadata": {},
   "source": [
    "# Profile Histograms\n"
   ]
  },
  {
   "cell_type": "code",
   "execution_count": 8,
   "id": "aba5ebba",
   "metadata": {},
   "outputs": [],
   "source": [
    "import numpy as np\n",
    "import matplotlib as mpl\n",
    "import matplotlib.pyplot as plt\n",
    "\n",
    "from scipy.stats import binned_statistic"
   ]
  },
  {
   "cell_type": "code",
   "execution_count": 9,
   "id": "4572bc31",
   "metadata": {},
   "outputs": [],
   "source": [
    "def profilehist(x, y, w=None, bins=10, uncertainty='stderr'):\n",
    "    \"\"\"Compute a profile histogram given x, y and optional weights.\n",
    "    \n",
    "    Parameters\n",
    "    ----------\n",
    "    x : (N,) array_like\n",
    "        Sequence of values to be binned.\n",
    "    y : (N,) array_like\n",
    "        Data on which the statistic will be computed.\n",
    "    w : None or (N,) array_like\n",
    "        Weights for each data point y.\n",
    "    bins : int or array_like\n",
    "        If int, define equal-length bins given by data min/max range; else, user-defined bin edges.\n",
    "    uncertainty : str\n",
    "        'stderr' to compute standard error on the mean; 'sample' for sample uncertainty\n",
    "        \n",
    "    Returns\n",
    "    -------\n",
    "    xc : array of dtype float\n",
    "        Bin centers in x.\n",
    "    yavg : array of dtype float\n",
    "        Average in each bin.\n",
    "    yerr : array of dtype float\n",
    "        Uncertainty in each bin (sample error or error on the mean).\n",
    "    \"\"\"\n",
    "    # Default to equal weights in each bin.\n",
    "    if w is None:\n",
    "        w = np.ones_like(y, dtype=np.float64)\n",
    "\n",
    "    # Compute weighted sums and construct the weighted means and uncertainties.\n",
    "    (Y, E, W), edges, idx = binned_statistic(x, [w*y, w*y**2, w], bins=bins, statistic='sum')\n",
    "    yavg = Y/W\n",
    "    ystd = np.sqrt(E/W - yavg**2)\n",
    "    yerr = ystd/np.sqrt(W)\n",
    "\n",
    "    # Compute bin centers.\n",
    "    xc = 0.5*(edges[1:] + edges[:-1])\n",
    "    \n",
    "    if uncertainty == 'sample':\n",
    "        return xc, yavg, ystd\n",
    "    elif uncertainty == 'stderr':\n",
    "        return xc, yavg, yerr\n",
    "    else:\n",
    "        raise ValueError(f'uncertainty={uncertainty} unknown; allowed: \"stderr\" and \"sample\"')"
   ]
  },
  {
   "cell_type": "markdown",
   "id": "8eb30dc0",
   "metadata": {},
   "source": [
    "### Scatterplots and Profile Histograms for Wall Dwarf Galaxies\n",
    "\n",
    "Here we'll make profile histograms binning NN distance from 0 to 3 Mpc/$h$ in bins of 0.1 Mpc/$h$.\n",
    "\n",
    "Note that the profile histograms may generate lots of warnings for empty bins."
   ]
  },
  {
   "cell_type": "code",
   "execution_count": null,
   "id": "3fcde791",
   "metadata": {},
   "outputs": [],
   "source": [
    "fig, axes = plt.subplots(2,3, figsize=(14,7), tight_layout=True)\n",
    "axes = axes.flatten()\n",
    "\n",
    "d = dwarf_table['2D_neighbor_dist'][dwarf_wall]\n",
    "for _name, ax in zip(['u_r', 'sSFR', 'logNO', '2D_logNO_diff', 'Z12logOH', '2D_Z12logOH_diff'], axes):\n",
    "    vals = dwarf_table[_name][dwarf_wall]\n",
    "    select = ~np.isnan(vals)\n",
    "    \n",
    "    xc, yavg, yerr = profilehist(d[select], vals[select], bins=np.linspace(0,3,31), uncertainty='sample')\n",
    "    ax.scatter(d[select], vals[select], alpha=0.1, color='k', marker='^')\n",
    "    ax.errorbar(xc, yavg, yerr=yerr, fmt='o', color='orange')\n",
    "    ax.set(xlabel='nearest-neighbor distance [Mpc $h^{-1}$]', ylabel=_name, xlim=(0,3));\n",
    "    \n",
    "    #fig.savefig('2D_wall_profile_hist.png')"
   ]
  },
  {
   "cell_type": "markdown",
   "id": "f4d9db01",
   "metadata": {},
   "source": [
    "### Scatterplots and Profile Histograms for Void Dwarf Galaxies"
   ]
  },
  {
   "cell_type": "code",
   "execution_count": null,
   "id": "c864fc95",
   "metadata": {},
   "outputs": [],
   "source": [
    "fig, axes = plt.subplots(2,3, figsize=(14,7), tight_layout=True)\n",
    "axes = axes.flatten()\n",
    "\n",
    "d = dwarf_table['2D_neighbor_dist'][dwarf_void]\n",
    "for _name, ax in zip(['u_r', 'sSFR', 'logNO', '2D_logNO_diff', 'Z12logOH', '2D_Z12logOH_diff'], axes):\n",
    "    vals = dwarf_table[_name][dwarf_void]\n",
    "    select = ~np.isnan(vals)\n",
    "    #print(_name, np.sum(select))\n",
    "    \n",
    "    xc, yavg, yerr = profilehist(d[select], vals[select], bins=np.linspace(0,3,31), uncertainty='sample')\n",
    "    ax.scatter(d[select], vals[select], alpha=0.1, color='r', marker='o')\n",
    "    ax.errorbar(xc, yavg, yerr=yerr, fmt='o', color='blue')\n",
    "    ax.set(xlabel='nearest-neighbor distance [Mpc $h^{-1}$]', ylabel=_name, xlim=(0,3));\n",
    "    \n",
    "    #fig.savefig('2D_void_profile_hist.png')\n"
   ]
  },
  {
   "cell_type": "markdown",
   "id": "03420d4a",
   "metadata": {},
   "source": [
    "### Profile Histograms for Wall and Void Dwarf Galaxies"
   ]
  },
  {
   "cell_type": "code",
   "execution_count": null,
   "id": "79ddb2f0",
   "metadata": {},
   "outputs": [],
   "source": [
    "fig, axes = plt.subplots(2,3, figsize=(14,7), tight_layout=True)\n",
    "axes = axes.flatten()\n",
    "\n",
    "#d = dwarf_table['2D_neighbor_dist'][dwarf_void]\n",
    "#for select, mc, label in zip([dwarf_wall, dwarf_void], ['orange', 'blue'], ['wall', 'void']):\n",
    "for select, mc, label, c, m in zip([dwarf_wall, dwarf_void], ['black', 'red'], ['wall', 'void'], ['k', 'r'], ['^', 'o']):\n",
    "    #for _name, ax in zip(['u_r', 'sSFR', 'logNO', '2D_logNO_diff', 'Z12logOH', '2D_Z12logOH_diff'], axes):\n",
    "    for _name, ax, yl, ylabel in zip(['u_r', 'sSFR', 'logNO', '2D_logNO_diff', 'Z12logOH', '2D_Z12logOH_diff'], axes,\n",
    "                               [(-0.5,2.5), (-11.5,-8.5), (-1.6,-0.8),(-1,0.5),(6.5,9),(-1.5,2)], \n",
    "                                     ['u-r', 'sSFR [$yr^{-1}]$', 'log(N/O)', 'Δlog(N/O) (target - neighbor)',\n",
    "                                      '12 + log(O/H)', 'Δ12 + log(O/H) (target - neighbor)']):\n",
    "        d = dwarf_table['2D_neighbor_dist'][select]\n",
    "        vals = dwarf_table[_name][select]\n",
    "        nonan = ~np.isnan(vals)\n",
    "        #print(_name, np.sum(nonan))\n",
    "\n",
    "        xc, yavg, yerr = profilehist(d[nonan], vals[nonan], bins=np.linspace(0,3,31), uncertainty='sample')\n",
    "        ax.scatter(d[nonan], vals[nonan], alpha=0.025, color=c, marker=m)\n",
    "        ax.errorbar(xc, yavg, yerr=yerr, fmt='o', color=mc, label=label)\n",
    "        #ax.set(xlabel='nearest-neighbor distance [Mpc $h^{-1}$]', ylabel=_name, xlim=(0,3));\n",
    "        ax.set(xlabel='Distance to Nearest Neighbor [$h^{-1}Mpc]$', ylabel=ylabel, xlim=(0,2), ylim=yl);\n",
    "        ax.legend()\n",
    "        \n",
    "        fig.savefig('2D_wall_void_profile_hists.png')"
   ]
  },
  {
   "cell_type": "markdown",
   "id": "5dab79e7",
   "metadata": {},
   "source": [
    "## u-r and sSRF Profile Hists"
   ]
  },
  {
   "cell_type": "code",
   "execution_count": null,
   "id": "378b3fd2",
   "metadata": {},
   "outputs": [],
   "source": [
    "fig, axes = plt.subplots(2,1, figsize=(4.67,7), tight_layout=True)\n",
    "axes = axes.flatten()\n",
    "\n",
    "\n",
    "for select, mc, label, c, m in zip([dwarf_wall, dwarf_void], ['black', 'red'], ['wall', 'void'], ['k', 'r'], ['^', 'o']):\n",
    "   \n",
    "    for _name, ax, yl, ylabel in zip(['u_r', 'sSFR'], axes,\n",
    "                               [(-0.5,2.5), (-11.5,-8.5)], \n",
    "                                     ['u-r', 'sSFR [$yr^{-1}]$']):\n",
    "        d = dwarf_table['2D_neighbor_dist'][select]\n",
    "        vals = dwarf_table[_name][select]\n",
    "        nonan = ~np.isnan(vals)\n",
    "        #print(_name, np.sum(nonan))\n",
    "\n",
    "        xc, yavg, yerr = profilehist(d[nonan], vals[nonan], bins=np.linspace(0,3,31), uncertainty='sample')\n",
    "        ax.scatter(d[nonan], vals[nonan], alpha=0.025, color=c, marker=m)\n",
    "        ax.errorbar(xc, yavg, yerr=yerr, fmt='o', color=mc, label=label)\n",
    "        \n",
    "        ax.set(xlabel='Distance to Nearest Neighbor [$h^{-1}Mpc]$', ylabel=ylabel, xlim=(0,2), ylim=yl);\n",
    "        ax.legend()\n",
    "        \n",
    "        fig.savefig('2D_ur_sSFR_profile_hists.png')"
   ]
  },
  {
   "cell_type": "code",
   "execution_count": null,
   "id": "bff27ceb",
   "metadata": {},
   "outputs": [],
   "source": []
  },
  {
   "cell_type": "markdown",
   "id": "16be8903",
   "metadata": {},
   "source": [
    "## Metallicity and LogNO Profile Hists (t3 condition)"
   ]
  },
  {
   "cell_type": "code",
   "execution_count": null,
   "id": "fd331947",
   "metadata": {},
   "outputs": [],
   "source": [
    "fig, axes = plt.subplots(2,2, figsize=(9.33,7), tight_layout=True)\n",
    "axes = axes.flatten()\n",
    "\n",
    "\n",
    "for select, mc, label, c, m in zip([dwarf_wall_t3, dwarf_void_t3], ['black', 'red'], ['wall', 'void'], ['k', 'r'], ['^', 'o']):\n",
    "    \n",
    "    for _name, ax, yl, ylabel in zip(['logNO', '2D_logNO_diff', 'Z12logOH', '2D_Z12logOH_diff'], axes,\n",
    "                               [(-2,-0.8),(-1,0.5),(6.5,9),(-1.5,2)], \n",
    "                                     ['log(N/O)', 'Δlog(N/O) (target - neighbor)',\n",
    "                                      '12 + log(O/H)', 'Δ12 + log(O/H) (target - neighbor)']):\n",
    "        d = dwarf_t3['2D_neighbor_dist'][select]\n",
    "        vals = dwarf_t3[_name][select]\n",
    "        nonan = ~np.isnan(vals)\n",
    "       \n",
    "\n",
    "        xc, yavg, yerr = profilehist(d[nonan], vals[nonan], bins=np.linspace(0,3,31), uncertainty='sample')\n",
    "        ax.scatter(d[nonan], vals[nonan], alpha=0.1, color=c, marker=m)\n",
    "        ax.errorbar(xc, yavg, yerr=yerr, fmt='o', color=mc, label=label)\n",
    "        \n",
    "        ax.set(xlabel='Distance to Nearest Neighbor [$h^{-1}Mpc]$', ylabel=ylabel, xlim=(0,2), ylim=yl);\n",
    "        ax.legend()\n",
    "        \n",
    "        fig.savefig('2D_NO_OH_profile_hists.png')"
   ]
  },
  {
   "cell_type": "markdown",
   "id": "cacba74a",
   "metadata": {},
   "source": [
    "### log(distance)"
   ]
  },
  {
   "cell_type": "code",
   "execution_count": null,
   "id": "c43b721c",
   "metadata": {},
   "outputs": [],
   "source": [
    "fig, axes = plt.subplots(2,3, figsize=(14,7), tight_layout=True)\n",
    "axes = axes.flatten()\n",
    "\n",
    "\n",
    "for select, mc, label, c, m in zip([dwarf_wall, dwarf_void], ['black', 'red'], ['wall', 'void'], ['k', 'r'], ['^', 'o']):\n",
    "   \n",
    "    for _name, ax, yl, ylabel in zip(['u_r', 'sSFR', 'logNO', '2D_logNO_diff', 'Z12logOH', '2D_Z12logOH_diff'], axes,\n",
    "                               [(-0.5,2.5), (-11.5,-8.5), (-1.6,-0.8),(-1,0.5),(6.5,9),(-1.5,2)], \n",
    "                                     ['u-r', 'sSFR [$yr^{-1}]$', 'log(N/O)', 'Δlog(N/O) (target - neighbor)',\n",
    "                                      '12 + log(O/H)', 'Δ12 + log(O/H) (target - neighbor)']):\n",
    "        \n",
    "        d = dwarf_table['2D_neighbor_dist'][select]\n",
    "        vals = dwarf_table[_name][select]\n",
    "        nonan = ~np.isnan(vals)\n",
    "       \n",
    "\n",
    "        xc, yavg, yerr = profilehist(d[nonan], vals[nonan],\n",
    "                                     bins=np.logspace(np.log10(0.05),np.log10(3),21), uncertainty='sample')\n",
    "        ax.scatter(d[nonan], vals[nonan], alpha=0.025, color=c, marker=m)\n",
    "        ax.errorbar(xc, yavg, yerr=yerr, fmt='o', color=mc, label=label)\n",
    "        ax.set(xlabel='Distance to Nearest Neighbor [$h^{-1}Mpc]$', ylabel=ylabel, xlim=(0.05,3), ylim=yl);\n",
    "        ax.set_xscale('log') #changing x axis to a logarithmic scale\n",
    "        ax.legend()\n",
    "        \n",
    "        fig.savefig('log_2D_wall_void_profile_hists.png')"
   ]
  },
  {
   "cell_type": "markdown",
   "id": "f113a5fe",
   "metadata": {},
   "source": [
    "# Linear Regressions\n",
    "\n",
    "Seaborn: https://seaborn.pydata.org/generated/seaborn.regplot.html\n",
    "\n",
    "### Wall Dwarf Galaxies\n"
   ]
  },
  {
   "cell_type": "code",
   "execution_count": null,
   "id": "991a87ed",
   "metadata": {},
   "outputs": [],
   "source": [
    "import numpy as np\n",
    "import matplotlib as mpl\n",
    "import matplotlib.pyplot as plt\n",
    "\n",
    "from scipy.stats import binned_statistic\n",
    "\n",
    "import seaborn as sns"
   ]
  },
  {
   "cell_type": "code",
   "execution_count": null,
   "id": "5d5d3778",
   "metadata": {},
   "outputs": [],
   "source": [
    "fig, axes = plt.subplots(2,3, figsize=(14,7), tight_layout=True)\n",
    "axes = axes.flatten()\n",
    "\n",
    "d = dwarf_table['2D_neighbor_dist'][dwarf_wall]\n",
    "for _name, ax, in zip(['u_r', 'sSFR', 'logNO', '2D_logNO_diff', 'Z12logOH', '2D_Z12logOH_diff'], axes):\n",
    "    vals = dwarf_table[_name][dwarf_wall]\n",
    "    nonan = ~np.isnan(vals)\n",
    "    \n",
    "    xedges = np.linspace(0,3,31)\n",
    "    xcenters = 0.5*(xedges[1:] + xedges[:-1])\n",
    "    \n",
    "    ax.scatter(d[nonan], vals[nonan], alpha=0.1, color='k', marker='^')\n",
    "    \n",
    "    \n",
    "    sns.regplot(x=d[nonan], y=vals[nonan], x_bins=xcenters, color='orange', ax=ax)\n",
    "    \n",
    "    ax.set(xlabel='nearest-neighbor distance [Mpc $h^{-1}$]', ylabel=_name, xlim=(0,3));\n",
    "    \n",
    "    #fig.savefig('2D_wall_linear_reg.png')\n",
    "    "
   ]
  },
  {
   "cell_type": "markdown",
   "id": "60a4a9ce",
   "metadata": {},
   "source": [
    "### Void Dwarf Galaxies Linear Regression Plots"
   ]
  },
  {
   "cell_type": "code",
   "execution_count": null,
   "id": "6575b9f3",
   "metadata": {},
   "outputs": [],
   "source": [
    "fig, axes = plt.subplots(2,3, figsize=(14,7), tight_layout=True)\n",
    "axes = axes.flatten()\n",
    "\n",
    "d = dwarf_table['2D_neighbor_dist'][dwarf_void]\n",
    "for _name, ax, in zip(['u_r', 'sSFR', 'logNO', '2D_logNO_diff', 'Z12logOH', '2D_Z12logOH_diff'], axes):\n",
    "    vals = dwarf_table[_name][dwarf_void]\n",
    "    nonan = ~np.isnan(vals)\n",
    "    \n",
    "    xedges = np.linspace(0,3,31)\n",
    "    xcenters = 0.5*(xedges[1:] + xedges[:-1])\n",
    "    \n",
    "    ax.scatter(d[nonan], vals[nonan], alpha=0.1, color='r', marker='o')\n",
    "   \n",
    "    sns.regplot(x=d[nonan], y=vals[nonan], x_bins=xcenters, color='blue', ax=ax)\n",
    "    \n",
    "    ax.set(xlabel='nearest-neighbor distance [Mpc $h^{-1}$]', ylabel=_name, xlim=(0,3));\n",
    "    \n",
    "    #fig.savefig('2D_void_linear_reg.png')"
   ]
  },
  {
   "cell_type": "markdown",
   "id": "e9c5cf4c",
   "metadata": {},
   "source": [
    "### Linear Regressions for Wall and Void Dwarf Galaxies"
   ]
  },
  {
   "cell_type": "code",
   "execution_count": null,
   "id": "bc40d0ea",
   "metadata": {},
   "outputs": [],
   "source": [
    "fig, axes = plt.subplots(2,3, figsize=(14,7), tight_layout=True)\n",
    "axes = axes.flatten()\n",
    "\n",
    "#d = dwarf_table['2D_neighbor_dist'][dwarf_void]\n",
    "for select, mc, label in zip([dwarf_wall, dwarf_void], ['orange', 'blue'], ['wall', 'void']):\n",
    "    for _name, ax in zip(['u_r', 'sSFR', 'logNO', '2D_logNO_diff', 'Z12logOH', '2D_Z12logOH_diff'], axes):\n",
    "        d = dwarf_table['2D_neighbor_dist'][select]\n",
    "        vals = dwarf_table[_name][select]\n",
    "        nonan = ~np.isnan(vals)\n",
    "       \n",
    "        xedges = np.linspace(0,3,21)\n",
    "        xcenters = 0.5*(xedges[1:] + xedges[:-1])\n",
    "        \n",
    "        sns.regplot(x=d[nonan], y=vals[nonan], x_bins=xcenters, color=mc, ax=ax, label=label)\n",
    "        \n",
    "        ax.set(xlabel='nearest-neighbor distance [Mpc $h^{-1}$]', ylabel=_name, xlim=(0,3));\n",
    "        ax.legend()\n",
    "        \n",
    "        #fig.savefig('2D_wall_void_linear_reg.png')"
   ]
  },
  {
   "cell_type": "code",
   "execution_count": null,
   "id": "2785ac89",
   "metadata": {},
   "outputs": [],
   "source": [
    "fig, axes = plt.subplots(2,3, figsize=(14,7), tight_layout=True)\n",
    "axes = axes.flatten()\n",
    "\n",
    "#d = dwarf_table['2D_neighbor_dist'][dwarf_void]\n",
    "for select, mc, label, c, m in zip([dwarf_wall, dwarf_void], ['black', 'red'], ['wall', 'void'], ['k', 'r'], ['^', 'o']):\n",
    "    #for _name, ax in zip(['u_r', 'sSFR', 'logNO', '2D_logNO_diff', 'Z12logOH', '2D_Z12logOH_diff'], axes):\n",
    "    \n",
    "    for _name, ax, yl, ylabel in zip(['u_r', 'sSFR', 'logNO', '2D_logNO_diff', 'Z12logOH', '2D_Z12logOH_diff'], axes,\n",
    "                               [(-0.5,2.5), (-11.5,-8.5), (-1.6,-0.8),(-1,0.5),(6.5,9),(-1.5,2)], \n",
    "                                     ['u-r', 'sSFR [$yr^{-1}]$', 'log(N/O)', 'Δlog(N/O) (target - neighbor)',\n",
    "                                      '12 + log(O/H)', 'Δ12 + log(O/H) (target - neighbor)']):\n",
    "        d = dwarf_table['2D_neighbor_dist'][select]\n",
    "        vals = dwarf_table[_name][select]\n",
    "        nonan = ~np.isnan(vals)\n",
    "       \n",
    "        ax.scatter(d[nonan], vals[nonan], alpha=0.025, color=c, marker=m)\n",
    "        \n",
    "        xedges = np.linspace(0,3,31)\n",
    "        xcenters = 0.5*(xedges[1:] + xedges[:-1])\n",
    "        \n",
    "        sns.regplot(x=d[nonan], y=vals[nonan], x_bins=xcenters, color=mc, ax=ax, label=label)\n",
    "        \n",
    "        #ax.set(xlabel='nearest-neighbor distance [Mpc $h^{-1}$]', ylabel=_name, xlim=(0,2));\n",
    "        \n",
    "        ax.set(xlabel='Distance to Nearest Neighbor [$h^{-1}Mpc]$', ylabel=ylabel, xlim=(0,2), ylim=yl);\n",
    "        \n",
    "        ax.legend()\n",
    "        \n",
    "        fig.savefig('2D_wall_void_linear_reg_edit.png')"
   ]
  },
  {
   "cell_type": "markdown",
   "id": "9002b443",
   "metadata": {},
   "source": [
    "### log x axis for linear reg."
   ]
  },
  {
   "cell_type": "code",
   "execution_count": null,
   "id": "d5d8c2d4",
   "metadata": {},
   "outputs": [],
   "source": [
    "fig, axes = plt.subplots(2,3, figsize=(14,7), tight_layout=True)\n",
    "axes = axes.flatten()\n",
    "\n",
    "\n",
    "for select, mc, label, c, m in zip([dwarf_wall, dwarf_void], ['black', 'red'], ['wall', 'void'], ['k', 'r'], ['^', 'o']):\n",
    "    \n",
    "    for _name, ax, yl, ylabel in zip(['u_r', 'sSFR', 'logNO', '2D_logNO_diff', 'Z12logOH', '2D_Z12logOH_diff'], axes,\n",
    "                               [(-0.5,2.5), (-11.5,-8.5), (-1.6,-0.8),(-1,0.5),(6.5,9),(-1.5,2)], \n",
    "                                     ['u-r', 'sSFR [$yr^{-1}]$', 'log(N/O)', 'Δlog(N/O) (target - neighbor)',\n",
    "                                      '12 + log(O/H)', 'Δ12 + log(O/H) (target - neighbor)']):\n",
    "        \n",
    "        d = dwarf_table['2D_neighbor_dist'][select]\n",
    "        vals = dwarf_table[_name][select]\n",
    "        nonan = ~np.isnan(vals)\n",
    "       \n",
    "        ax.scatter(d[nonan], vals[nonan], alpha=0.025, color=c, marker=m)\n",
    "        \n",
    "        #xedges = np.linspace(0,3,31)\n",
    "        #xcenters = 0.5*(xedges[1:] + xedges[:-1])\n",
    "        \n",
    "        logbins = np.logspace(np.log10(0.05),np.log10(3),21) #making bins even logarithmicly \n",
    "        \n",
    "        xcenters = 0.5*(logbins[1:] + logbins[:-1])\n",
    "        \n",
    "        sns.regplot(x=d[nonan], y=vals[nonan], x_bins=xcenters, color=mc, ax=ax, label=label)\n",
    "        \n",
    "        ax.set(xlabel='Distance to Nearest Neighbor [$h^{-1}Mpc]$', ylabel=ylabel, xlim=(0.05,3), ylim=yl);\n",
    "        \n",
    "        ax.set_xscale('log') #changing x axis to a logarithmic scale\n",
    "        \n",
    "        ax.legend()\n",
    "        \n",
    "        fig.savefig('log_2D_wall_void_linear_reg.png')"
   ]
  }
 ],
 "metadata": {
  "kernelspec": {
   "display_name": "Python 3 (ipykernel)",
   "language": "python",
   "name": "python3"
  },
  "language_info": {
   "codemirror_mode": {
    "name": "ipython",
    "version": 3
   },
   "file_extension": ".py",
   "mimetype": "text/x-python",
   "name": "python",
   "nbconvert_exporter": "python",
   "pygments_lexer": "ipython3",
   "version": "3.9.12"
  }
 },
 "nbformat": 4,
 "nbformat_minor": 5
}
