{
 "cells": [
  {
   "cell_type": "code",
   "execution_count": 1,
   "id": "55383f7f",
   "metadata": {},
   "outputs": [],
   "source": [
    "#import astropy\n",
    "from astropy.io import fits\n",
    "\n",
    "from astropy.table import Table\n",
    "\n",
    "import numpy as np\n",
    "import matplotlib as mpl\n",
    "import matplotlib.pyplot as plt\n",
    "\n",
    "from astropy.table import Table, join\n",
    "\n",
    "from numpy.random import default_rng"
   ]
  },
  {
   "cell_type": "code",
   "execution_count": 2,
   "id": "5dc39a54",
   "metadata": {},
   "outputs": [],
   "source": [
    "#Reading in data file\n",
    "\n",
    "fits_NSA_file = r'C:\\Users\\caeho\\OneDrive\\Documents\\University of Rochester REU\\NSA_v1_0_1_VAGC_vflag-V2-VF.fits'\n",
    "#data = r'C:\\Users\\caeho\\OneDrive\\Documents\\University of Rochester REU\\NSA_v1_0_1_VAGC_vflag-V2-VF.fits'\n",
    "\n",
    "hdul = fits.open(fits_NSA_file)"
   ]
  },
  {
   "cell_type": "code",
   "execution_count": 3,
   "id": "a39a55e6",
   "metadata": {},
   "outputs": [
    {
     "data": {
      "text/plain": [
       "XTENSION= 'BINTABLE'           / binary table extension                         \n",
       "BITPIX  =                    8 / array data type                                \n",
       "NAXIS   =                    2 / number of array dimensions                     \n",
       "NAXIS1  =                 4091 / length of dimension 1                          \n",
       "NAXIS2  =               641409 / length of dimension 2                          \n",
       "PCOUNT  =                    0 / number of group parameters                     \n",
       "GCOUNT  =                    1 / number of groups                               \n",
       "TFIELDS =                  141 / number of table fields                         \n",
       "TTYPE1  = 'IAUNAME '                                                            \n",
       "TFORM1  = '19A     '                                                            \n",
       "TTYPE2  = 'SUBDIR  '                                                            \n",
       "TFORM2  = '27A     '                                                            \n",
       "TTYPE3  = 'RA      '                                                            \n",
       "TFORM3  = 'D       '                                                            \n",
       "TTYPE4  = 'DEC     '                                                            \n",
       "TFORM4  = 'D       '                                                            \n",
       "TTYPE5  = 'ISDSS   '                                                            \n",
       "TFORM5  = 'J       '                                                            \n",
       "TTYPE6  = 'INED    '                                                            \n",
       "TFORM6  = 'J       '                                                            \n",
       "TTYPE7  = 'ISIXDF  '                                                            \n",
       "TFORM7  = 'J       '                                                            \n",
       "TTYPE8  = 'IALFALFA'                                                            \n",
       "TFORM8  = 'J       '                                                            \n",
       "TTYPE9  = 'IZCAT   '                                                            \n",
       "TFORM9  = 'J       '                                                            \n",
       "TTYPE10 = 'ITWODF  '                                                            \n",
       "TFORM10 = 'J       '                                                            \n",
       "TTYPE11 = 'MAG     '                                                            \n",
       "TFORM11 = 'E       '                                                            \n",
       "TTYPE12 = 'Z       '                                                            \n",
       "TFORM12 = 'E       '                                                            \n",
       "TTYPE13 = 'ZSRC    '                                                            \n",
       "TFORM13 = '7A      '                                                            \n",
       "TTYPE14 = 'SIZE    '                                                            \n",
       "TFORM14 = 'E       '                                                            \n",
       "TTYPE15 = 'RUN     '                                                            \n",
       "TFORM15 = 'I       '                                                            \n",
       "TTYPE16 = 'CAMCOL  '                                                            \n",
       "TFORM16 = 'B       '                                                            \n",
       "TTYPE17 = 'FIELD   '                                                            \n",
       "TFORM17 = 'I       '                                                            \n",
       "TTYPE18 = 'RERUN   '                                                            \n",
       "TFORM18 = '3A      '                                                            \n",
       "TTYPE19 = 'XPOS    '                                                            \n",
       "TFORM19 = 'E       '                                                            \n",
       "TTYPE20 = 'YPOS    '                                                            \n",
       "TFORM20 = 'E       '                                                            \n",
       "TTYPE21 = 'NSAID   '                                                            \n",
       "TFORM21 = 'J       '                                                            \n",
       "TTYPE22 = 'ZDIST   '                                                            \n",
       "TFORM22 = 'E       '                                                            \n",
       "TTYPE23 = 'SERSIC_NMGY'                                                         \n",
       "TFORM23 = '7E      '                                                            \n",
       "TDIM23  = '(7)     '                                                            \n",
       "TTYPE24 = 'SERSIC_NMGY_IVAR'                                                    \n",
       "TFORM24 = '7E      '                                                            \n",
       "TDIM24  = '(7)     '                                                            \n",
       "TTYPE25 = 'SERSIC_OK'                                                           \n",
       "TFORM25 = 'I       '                                                            \n",
       "TTYPE26 = 'SERSIC_RNMGY'                                                        \n",
       "TFORM26 = '7E      '                                                            \n",
       "TDIM26  = '(7)     '                                                            \n",
       "TTYPE27 = 'SERSIC_ABSMAG'                                                       \n",
       "TFORM27 = '7E      '                                                            \n",
       "TDIM27  = '(7)     '                                                            \n",
       "TTYPE28 = 'SERSIC_AMIVAR'                                                       \n",
       "TFORM28 = '7E      '                                                            \n",
       "TDIM28  = '(7)     '                                                            \n",
       "TTYPE29 = 'EXTINCTION'                                                          \n",
       "TFORM29 = '7E      '                                                            \n",
       "TDIM29  = '(7)     '                                                            \n",
       "TTYPE30 = 'SERSIC_KCORRECT'                                                     \n",
       "TFORM30 = '7E      '                                                            \n",
       "TDIM30  = '(7)     '                                                            \n",
       "TTYPE31 = 'SERSIC_KCOEFF'                                                       \n",
       "TFORM31 = '5E      '                                                            \n",
       "TDIM31  = '(5)     '                                                            \n",
       "TTYPE32 = 'SERSIC_MTOL'                                                         \n",
       "TFORM32 = '7E      '                                                            \n",
       "TDIM32  = '(7)     '                                                            \n",
       "TTYPE33 = 'SERSIC_B300'                                                         \n",
       "TFORM33 = 'E       '                                                            \n",
       "TTYPE34 = 'SERSIC_B1000'                                                        \n",
       "TFORM34 = 'E       '                                                            \n",
       "TTYPE35 = 'SERSIC_METS'                                                         \n",
       "TFORM35 = 'E       '                                                            \n",
       "TTYPE36 = 'SERSIC_MASS'                                                         \n",
       "TFORM36 = 'E       '                                                            \n",
       "TTYPE37 = 'XCEN    '                                                            \n",
       "TFORM37 = 'D       '                                                            \n",
       "TTYPE38 = 'YCEN    '                                                            \n",
       "TFORM38 = 'D       '                                                            \n",
       "TTYPE39 = 'NPROF   '                                                            \n",
       "TFORM39 = '7B      '                                                            \n",
       "TDIM39  = '(7)     '                                                            \n",
       "TTYPE40 = 'PROFMEAN'                                                            \n",
       "TFORM40 = '105E    '                                                            \n",
       "TDIM40  = '(7,15)  '                                                            \n",
       "TTYPE41 = 'PROFMEAN_IVAR'                                                       \n",
       "TFORM41 = '105E    '                                                            \n",
       "TDIM41  = '(7,15)  '                                                            \n",
       "TTYPE42 = 'QSTOKES '                                                            \n",
       "TFORM42 = '105E    '                                                            \n",
       "TDIM42  = '(7,15)  '                                                            \n",
       "TTYPE43 = 'USTOKES '                                                            \n",
       "TFORM43 = '105E    '                                                            \n",
       "TDIM43  = '(7,15)  '                                                            \n",
       "TTYPE44 = 'BASTOKES'                                                            \n",
       "TFORM44 = '105E    '                                                            \n",
       "TDIM44  = '(7,15)  '                                                            \n",
       "TTYPE45 = 'PHISTOKES'                                                           \n",
       "TFORM45 = '105E    '                                                            \n",
       "TDIM45  = '(7,15)  '                                                            \n",
       "TTYPE46 = 'PETRO_FLUX'                                                          \n",
       "TFORM46 = '7E      '                                                            \n",
       "TDIM46  = '(7)     '                                                            \n",
       "TTYPE47 = 'PETRO_FLUX_IVAR'                                                     \n",
       "TFORM47 = '7E      '                                                            \n",
       "TDIM47  = '(7)     '                                                            \n",
       "TTYPE48 = 'FIBER_FLUX'                                                          \n",
       "TFORM48 = '7E      '                                                            \n",
       "TDIM48  = '(7)     '                                                            \n",
       "TTYPE49 = 'FIBER_FLUX_IVAR'                                                     \n",
       "TFORM49 = '7E      '                                                            \n",
       "TDIM49  = '(7)     '                                                            \n",
       "TTYPE50 = 'PETRO_BA50'                                                          \n",
       "TFORM50 = 'E       '                                                            \n",
       "TTYPE51 = 'PETRO_PHI50'                                                         \n",
       "TFORM51 = 'E       '                                                            \n",
       "TTYPE52 = 'PETRO_BA90'                                                          \n",
       "TFORM52 = 'E       '                                                            \n",
       "TTYPE53 = 'PETRO_PHI90'                                                         \n",
       "TFORM53 = 'E       '                                                            \n",
       "TTYPE54 = 'SERSIC_FLUX'                                                         \n",
       "TFORM54 = '7E      '                                                            \n",
       "TDIM54  = '(7)     '                                                            \n",
       "TTYPE55 = 'SERSIC_FLUX_IVAR'                                                    \n",
       "TFORM55 = '7E      '                                                            \n",
       "TDIM55  = '(7)     '                                                            \n",
       "TTYPE56 = 'SERSIC_N'                                                            \n",
       "TFORM56 = 'E       '                                                            \n",
       "TTYPE57 = 'SERSIC_BA'                                                           \n",
       "TFORM57 = 'E       '                                                            \n",
       "TTYPE58 = 'SERSIC_PHI'                                                          \n",
       "TFORM58 = 'E       '                                                            \n",
       "TTYPE59 = 'ASYMMETRY'                                                           \n",
       "TFORM59 = '7E      '                                                            \n",
       "TDIM59  = '(7)     '                                                            \n",
       "TTYPE60 = 'CLUMPY  '                                                            \n",
       "TFORM60 = '7E      '                                                            \n",
       "TDIM60  = '(7)     '                                                            \n",
       "TTYPE61 = 'DFLAGS  '                                                            \n",
       "TFORM61 = '7J      '                                                            \n",
       "TDIM61  = '(7)     '                                                            \n",
       "TTYPE62 = 'AID     '                                                            \n",
       "TFORM62 = 'J       '                                                            \n",
       "TTYPE63 = 'PID     '                                                            \n",
       "TFORM63 = 'J       '                                                            \n",
       "TTYPE64 = 'DVERSION'                                                            \n",
       "TFORM64 = '8A      '                                                            \n",
       "TTYPE65 = 'PROFTHETA'                                                           \n",
       "TFORM65 = '15E     '                                                            \n",
       "TDIM65  = '(15)    '                                                            \n",
       "TTYPE66 = 'PETRO_THETA'                                                         \n",
       "TFORM66 = 'E       '                                                            \n",
       "TTYPE67 = 'PETRO_TH50'                                                          \n",
       "TFORM67 = 'E       '                                                            \n",
       "TTYPE68 = 'PETRO_TH90'                                                          \n",
       "TFORM68 = 'E       '                                                            \n",
       "TTYPE69 = 'SERSIC_TH50'                                                         \n",
       "TFORM69 = 'E       '                                                            \n",
       "TTYPE70 = 'PLATE   '                                                            \n",
       "TFORM70 = 'J       '                                                            \n",
       "TTYPE71 = 'FIBERID '                                                            \n",
       "TFORM71 = 'I       '                                                            \n",
       "TTYPE72 = 'MJD     '                                                            \n",
       "TFORM72 = 'J       '                                                            \n",
       "TTYPE73 = 'RACAT   '                                                            \n",
       "TFORM73 = 'D       '                                                            \n",
       "TTYPE74 = 'DECCAT  '                                                            \n",
       "TFORM74 = 'D       '                                                            \n",
       "TTYPE75 = 'ZSDSSLINE'                                                           \n",
       "TFORM75 = 'E       '                                                            \n",
       "TTYPE76 = 'SURVEY  '                                                            \n",
       "TFORM76 = '6A      '                                                            \n",
       "TTYPE77 = 'PROGRAMNAME'                                                         \n",
       "TFORM77 = '27A     '                                                            \n",
       "TTYPE78 = 'PLATEQUALITY'                                                        \n",
       "TFORM78 = '8A      '                                                            \n",
       "TTYPE79 = 'TILE    '                                                            \n",
       "TFORM79 = 'J       '                                                            \n",
       "TTYPE80 = 'PLUG_RA '                                                            \n",
       "TFORM80 = 'D       '                                                            \n",
       "TTYPE81 = 'PLUG_DEC'                                                            \n",
       "TFORM81 = 'D       '                                                            \n",
       "TTYPE82 = 'ELPETRO_BA'                                                          \n",
       "TFORM82 = 'E       '                                                            \n",
       "TTYPE83 = 'ELPETRO_PHI'                                                         \n",
       "TFORM83 = 'E       '                                                            \n",
       "TTYPE84 = 'ELPETRO_FLUX_R'                                                      \n",
       "TFORM84 = 'E       '                                                            \n",
       "TTYPE85 = 'ELPETRO_FLUX_IVAR_R'                                                 \n",
       "TFORM85 = 'E       '                                                            \n",
       "TTYPE86 = 'ELPETRO_THETA_R'                                                     \n",
       "TFORM86 = 'E       '                                                            \n",
       "TTYPE87 = 'ELPETRO_TH50_R'                                                      \n",
       "TFORM87 = 'E       '                                                            \n",
       "TTYPE88 = 'ELPETRO_TH90_R'                                                      \n",
       "TFORM88 = 'E       '                                                            \n",
       "TTYPE89 = 'ELPETRO_THETA'                                                       \n",
       "TFORM89 = 'E       '                                                            \n",
       "TTYPE90 = 'ELPETRO_FLUX'                                                        \n",
       "TFORM90 = '7E      '                                                            \n",
       "TDIM90  = '(7)     '                                                            \n",
       "TTYPE91 = 'ELPETRO_FLUX_IVAR'                                                   \n",
       "TFORM91 = '7E      '                                                            \n",
       "TDIM91  = '(7)     '                                                            \n",
       "TTYPE92 = 'ELPETRO_TH50'                                                        \n",
       "TFORM92 = '7E      '                                                            \n",
       "TDIM92  = '(7)     '                                                            \n",
       "TTYPE93 = 'ELPETRO_TH90'                                                        \n",
       "TFORM93 = '7E      '                                                            \n",
       "TDIM93  = '(7)     '                                                            \n",
       "TTYPE94 = 'ELPETRO_APCORR_R'                                                    \n",
       "TFORM94 = 'E       '                                                            \n",
       "TTYPE95 = 'ELPETRO_APCORR'                                                      \n",
       "TFORM95 = '7E      '                                                            \n",
       "TDIM95  = '(7)     '                                                            \n",
       "TTYPE96 = 'ELPETRO_APCORR_SELF'                                                 \n",
       "TFORM96 = '7E      '                                                            \n",
       "TDIM96  = '(7)     '                                                            \n",
       "TTYPE97 = 'ELPETRO_NMGY'                                                        \n",
       "TFORM97 = '7E      '                                                            \n",
       "TDIM97  = '(7)     '                                                            \n",
       "TTYPE98 = 'ELPETRO_NMGY_IVAR'                                                   \n",
       "TFORM98 = '7E      '                                                            \n",
       "TDIM98  = '(7)     '                                                            \n",
       "TTYPE99 = 'ELPETRO_OK'                                                          \n",
       "TFORM99 = 'I       '                                                            \n",
       "TTYPE100= 'ELPETRO_RNMGY'                                                       \n",
       "TFORM100= '7E      '                                                            \n",
       "TDIM100 = '(7)     '                                                            \n",
       "TTYPE101= 'ELPETRO_ABSMAG'                                                      \n",
       "TFORM101= '7E      '                                                            \n",
       "TDIM101 = '(7)     '                                                            \n",
       "TTYPE102= 'ELPETRO_AMIVAR'                                                      \n",
       "TFORM102= '7E      '                                                            \n",
       "TDIM102 = '(7)     '                                                            \n",
       "TTYPE103= 'ELPETRO_KCORRECT'                                                    \n",
       "TFORM103= '7E      '                                                            \n",
       "TDIM103 = '(7)     '                                                            \n",
       "TTYPE104= 'ELPETRO_KCOEFF'                                                      \n",
       "TFORM104= '5E      '                                                            \n",
       "TDIM104 = '(5)     '                                                            \n",
       "TTYPE105= 'ELPETRO_MASS'                                                        \n",
       "TFORM105= 'E       '                                                            \n",
       "TTYPE106= 'ELPETRO_MTOL'                                                        \n",
       "TFORM106= '7E      '                                                            \n",
       "TDIM106 = '(7)     '                                                            \n",
       "TTYPE107= 'ELPETRO_B300'                                                        \n",
       "TFORM107= 'E       '                                                            \n",
       "TTYPE108= 'ELPETRO_B1000'                                                       \n",
       "TFORM108= 'E       '                                                            \n",
       "TTYPE109= 'ELPETRO_METS'                                                        \n",
       "TFORM109= 'E       '                                                            \n",
       "TTYPE110= 'IN_DR7_LSS'                                                          \n",
       "TFORM110= 'D       '                                                            \n",
       "TTYPE111= 'u_r     '                                                            \n",
       "TFORM111= 'D       '                                                            \n",
       "TTYPE112= 'g_r     '                                                            \n",
       "TFORM112= 'D       '                                                            \n",
       "TTYPE113= 'NUV_r   '                                                            \n",
       "TFORM113= 'D       '                                                            \n",
       "TTYPE114= 'index   '                                                            \n",
       "TFORM114= 'K       '                                                            \n",
       "TTYPE115= 'imc     '                                                            \n",
       "TFORM115= 'K       '                                                            \n",
       "TTYPE116= 'aimc    '                                                            \n",
       "TFORM116= 'D       '                                                            \n",
       "TTYPE117= 'cd      '                                                            \n",
       "TFORM117= 'D       '                                                            \n",
       "TTYPE118= 'conx1   '                                                            \n",
       "TFORM118= 'D       '                                                            \n",
       "TTYPE119= 'u_r_KIAS'                                                            \n",
       "TFORM119= 'D       '                                                            \n",
       "TTYPE120= 'prmag   '                                                            \n",
       "TFORM120= 'D       '                                                            \n",
       "TTYPE121= 'BPTclass'                                                            \n",
       "TFORM121= 'D       '                                                            \n",
       "TTYPE122= 'SFR     '                                                            \n",
       "TFORM122= 'D       '                                                            \n",
       "TTYPE123= 'sSFR    '                                                            \n",
       "TFORM123= 'D       '                                                            \n",
       "TTYPE124= 'HImass  '                                                            \n",
       "TFORM124= 'D       '                                                            \n",
       "TTYPE125= 'flag3727'                                                            \n",
       "TFORM125= 'D       '                                                            \n",
       "TTYPE126= 't3      '                                                            \n",
       "TFORM126= 'D       '                                                            \n",
       "TTYPE127= 'Z12logOH'                                                            \n",
       "TFORM127= 'D       '                                                            \n",
       "TTYPE128= 'Zerr    '                                                            \n",
       "TFORM128= 'D       '                                                            \n",
       "TTYPE129= 'N12logNH'                                                            \n",
       "TFORM129= 'D       '                                                            \n",
       "TTYPE130= 'NHerr   '                                                            \n",
       "TFORM130= 'D       '                                                            \n",
       "TTYPE131= 'logNO   '                                                            \n",
       "TFORM131= 'D       '                                                            \n",
       "TTYPE132= 'NOerr   '                                                            \n",
       "TFORM132= 'D       '                                                            \n",
       "TTYPE133= 'Ne12logNeH'                                                          \n",
       "TFORM133= 'D       '                                                            \n",
       "TTYPE134= 'NeHerr  '                                                            \n",
       "TFORM134= 'D       '                                                            \n",
       "TTYPE135= 'logNeO  '                                                            \n",
       "TFORM135= 'D       '                                                            \n",
       "TTYPE136= 'NeOerr  '                                                            \n",
       "TFORM136= 'D       '                                                            \n",
       "TTYPE137= 'Z_N2O2  '                                                            \n",
       "TFORM137= 'D       '                                                            \n",
       "TTYPE138= 'vorvol  '                                                            \n",
       "TFORM138= 'D       '                                                            \n",
       "TTYPE139= 'V2_depth'                                                            \n",
       "TFORM139= 'D       '                                                            \n",
       "TTYPE140= 'vflag_V2'                                                            \n",
       "TFORM140= 'K       '                                                            \n",
       "TTYPE141= 'vflag_VF'                                                            \n",
       "TFORM141= 'K       '                                                            "
      ]
     },
     "execution_count": 3,
     "metadata": {},
     "output_type": "execute_result"
    }
   ],
   "source": [
    "# Names of all the collumns in the data base\n",
    "\n",
    "data_header = hdul[1].header\n",
    "data_header"
   ]
  },
  {
   "cell_type": "code",
   "execution_count": 4,
   "id": "755b0a8c",
   "metadata": {},
   "outputs": [],
   "source": [
    "data = hdul[1].data"
   ]
  },
  {
   "cell_type": "markdown",
   "id": "585bda6c",
   "metadata": {},
   "source": [
    "## Making Table to use in SciServer Query\n",
    "\n",
    "http://skyserver.sdss.org/dr17/MoreTools/browser?table=galSpecLine&id=1237668296598749280&spec=&apid=apogee.n.s.s3.4128.2M13102744%201826172&fieldId=0x112d14c220880000&ra=197.614455634642&dec=18.438168849489&plateId=2947606031712151552&mangaid=\n",
    "\n",
    "https://apps.sciserver.org/login-portal/Account/Login?callbackUrl=http%3a%2f%2fskyserver.sdss.org%2fCasJobs%2flogin.aspx%3Fnexturl%3DSubmitJob.aspx\n"
   ]
  },
  {
   "cell_type": "code",
   "execution_count": 5,
   "id": "17928fec",
   "metadata": {},
   "outputs": [],
   "source": [
    "my_emission_lines = Table()"
   ]
  },
  {
   "cell_type": "code",
   "execution_count": 6,
   "id": "e664d354",
   "metadata": {},
   "outputs": [],
   "source": [
    "my_emission_lines['PLATE'] = data['PLATE']\n",
    "my_emission_lines['FIBERID'] = data['FIBERID']\n",
    "my_emission_lines['MJD'] = data['MJD']\n",
    "my_emission_lines['ID'] = [i for i in range(len(my_emission_lines))]"
   ]
  },
  {
   "cell_type": "code",
   "execution_count": 7,
   "id": "914f879d",
   "metadata": {},
   "outputs": [
    {
     "data": {
      "text/html": [
       "<div><i>Table length=641409</i>\n",
       "<table id=\"table1776997829648\" class=\"table-striped table-bordered table-condensed\">\n",
       "<thead><tr><th>PLATE</th><th>FIBERID</th><th>MJD</th><th>ID</th></tr></thead>\n",
       "<thead><tr><th>int32</th><th>int16</th><th>int32</th><th>int32</th></tr></thead>\n",
       "<tr><td>266</td><td>1</td><td>51630</td><td>0</td></tr>\n",
       "<tr><td>266</td><td>4</td><td>51630</td><td>1</td></tr>\n",
       "<tr><td>266</td><td>6</td><td>51630</td><td>2</td></tr>\n",
       "<tr><td>266</td><td>11</td><td>51630</td><td>3</td></tr>\n",
       "<tr><td>266</td><td>12</td><td>51630</td><td>4</td></tr>\n",
       "<tr><td>266</td><td>13</td><td>51630</td><td>5</td></tr>\n",
       "<tr><td>266</td><td>16</td><td>51630</td><td>6</td></tr>\n",
       "<tr><td>266</td><td>17</td><td>51630</td><td>7</td></tr>\n",
       "<tr><td>266</td><td>19</td><td>51630</td><td>8</td></tr>\n",
       "<tr><td>266</td><td>20</td><td>51630</td><td>9</td></tr>\n",
       "<tr><td>...</td><td>...</td><td>...</td><td>...</td></tr>\n",
       "<tr><td>726</td><td>401</td><td>52226</td><td>641399</td></tr>\n",
       "<tr><td>0</td><td>0</td><td>0</td><td>641400</td></tr>\n",
       "<tr><td>0</td><td>0</td><td>0</td><td>641401</td></tr>\n",
       "<tr><td>0</td><td>0</td><td>0</td><td>641402</td></tr>\n",
       "<tr><td>0</td><td>0</td><td>0</td><td>641403</td></tr>\n",
       "<tr><td>0</td><td>0</td><td>0</td><td>641404</td></tr>\n",
       "<tr><td>0</td><td>0</td><td>0</td><td>641405</td></tr>\n",
       "<tr><td>0</td><td>0</td><td>0</td><td>641406</td></tr>\n",
       "<tr><td>0</td><td>0</td><td>0</td><td>641407</td></tr>\n",
       "<tr><td>0</td><td>0</td><td>0</td><td>641408</td></tr>\n",
       "</table></div>"
      ],
      "text/plain": [
       "<Table length=641409>\n",
       "PLATE FIBERID  MJD    ID  \n",
       "int32  int16  int32 int32 \n",
       "----- ------- ----- ------\n",
       "  266       1 51630      0\n",
       "  266       4 51630      1\n",
       "  266       6 51630      2\n",
       "  266      11 51630      3\n",
       "  266      12 51630      4\n",
       "  266      13 51630      5\n",
       "  266      16 51630      6\n",
       "  266      17 51630      7\n",
       "  266      19 51630      8\n",
       "  266      20 51630      9\n",
       "  ...     ...   ...    ...\n",
       "  726     401 52226 641399\n",
       "    0       0     0 641400\n",
       "    0       0     0 641401\n",
       "    0       0     0 641402\n",
       "    0       0     0 641403\n",
       "    0       0     0 641404\n",
       "    0       0     0 641405\n",
       "    0       0     0 641406\n",
       "    0       0     0 641407\n",
       "    0       0     0 641408"
      ]
     },
     "execution_count": 7,
     "metadata": {},
     "output_type": "execute_result"
    }
   ],
   "source": [
    "my_emission_lines"
   ]
  },
  {
   "cell_type": "code",
   "execution_count": 8,
   "id": "e5d0ccc7",
   "metadata": {},
   "outputs": [],
   "source": [
    "#my_emission_lines.write('my_emission_lines.txt', format = 'ascii.commented_header', overwrite = True)"
   ]
  },
  {
   "cell_type": "markdown",
   "id": "86eec94b",
   "metadata": {},
   "source": [
    "## Code for the sciserver query"
   ]
  },
  {
   "cell_type": "code",
   "execution_count": 9,
   "id": "4580e71b",
   "metadata": {},
   "outputs": [],
   "source": [
    "'''SELECT T.ID, E.Flux_OII_3726, E.Flux_OII_3726_Err, E.AoN_OII_3726, E.Fit_Warning_OII_3726,\n",
    "E.Flux_OII_3728, E.Flux_OII_3728_Err, E.AoN_OII_3728, E.Fit_Warning_OII_3728,\n",
    "E.Flux_Hb_4861, E.Flux_Hb_4861_Err, E.AoN_Hb_4861, E.Fit_Warning_Hb_4861,\n",
    "E.Flux_OIII_5006, E.Flux_OIII_5006_Err, E.AoN_OIII_5006, E.Fit_Warning_OIII_5006,\n",
    "E.Flux_Ha_6562, E.Flux_Ha_6562_Err, E.AoN_Ha_6562, E.Fit_Warning_Ha_6562,\n",
    "E.Flux_NII_6583, E.Flux_NII_6583_Err, E.AoN_NII_6583, E.Fit_Warning_NII_6583\n",
    "\n",
    "INTO mydb.metallicity_lines_2\n",
    "FROM DR17.emissionLinesPort as E, mydb.my_emission_lines as T\n",
    "WHERE E.plate = T.PLATE\n",
    "  and E.fiberID = T.FIBERID\n",
    "  and E.mjd = T.MJD''';"
   ]
  },
  {
   "cell_type": "code",
   "execution_count": 10,
   "id": "b1e9d56e",
   "metadata": {},
   "outputs": [],
   "source": [
    "'''SELECT T.ID, E.Fit_Warning_OII_3726, E.Fit_Warning_OII_3728,\n",
    "E.Fit_Warning_Hb_4861, \n",
    "E.Fit_Warning_OIII_5006, \n",
    "E.Fit_Warning_Ha_6562, \n",
    "E.Fit_Warning_NII_6583\n",
    "\n",
    "INTO mydb.metallicity_lines\n",
    "FROM DR17.emissionLinesPort as E, mydb.my_emission_lines as T\n",
    "WHERE E.plate = T.PLATE\n",
    "  and E.fiberID = T.FIBERID\n",
    "  and E.mjd = T.MJD''';"
   ]
  },
  {
   "cell_type": "markdown",
   "id": "b2f9435a",
   "metadata": {},
   "source": [
    "## Finding the Emission line ratios"
   ]
  },
  {
   "cell_type": "markdown",
   "id": "d500cf9b",
   "metadata": {},
   "source": [
    "### Output table of Sciserver query"
   ]
  },
  {
   "cell_type": "code",
   "execution_count": 11,
   "id": "f844e43d",
   "metadata": {},
   "outputs": [
    {
     "data": {
      "text/html": [
       "<div><i>Table length=577599</i>\n",
       "<table id=\"table1774373414272\" class=\"table-striped table-bordered table-condensed\">\n",
       "<thead><tr><th>ID</th><th>Flux_OII_3726</th><th>Flux_OII_3726_Err</th><th>AoN_OII_3726</th><th>Fit_Warning_OII_3726</th><th>Flux_OII_3728</th><th>Flux_OII_3728_Err</th><th>AoN_OII_3728</th><th>Fit_Warning_OII_3728</th><th>Flux_Hb_4861</th><th>Flux_Hb_4861_Err</th><th>AoN_Hb_4861</th><th>Fit_Warning_Hb_4861</th><th>Flux_OIII_5006</th><th>Flux_OIII_5006_Err</th><th>AoN_OIII_5006</th><th>Fit_Warning_OIII_5006</th><th>Flux_Ha_6562</th><th>Flux_Ha_6562_Err</th><th>AoN_Ha_6562</th><th>Fit_Warning_Ha_6562</th><th>Flux_NII_6583</th><th>Flux_NII_6583_Err</th><th>AoN_NII_6583</th><th>Fit_Warning_NII_6583</th></tr></thead>\n",
       "<thead><tr><th>int32</th><th>float64</th><th>float64</th><th>float64</th><th>int32</th><th>float64</th><th>float64</th><th>float64</th><th>int32</th><th>float64</th><th>float64</th><th>float64</th><th>int32</th><th>float64</th><th>float64</th><th>float64</th><th>int32</th><th>float64</th><th>float64</th><th>float64</th><th>int32</th><th>float64</th><th>float64</th><th>float64</th><th>int32</th></tr></thead>\n",
       "<tr><td>624968</td><td>197.7464</td><td>996.8217</td><td>5.278359</td><td>0</td><td>65.75143</td><td>874.3153</td><td>5.019125</td><td>0</td><td>130.4304</td><td>21.61718</td><td>2.394611</td><td>0</td><td>77.1938</td><td>9.683894</td><td>4.225906</td><td>0</td><td>160.2706</td><td>11.24422</td><td>9.119009</td><td>0</td><td>118.7026</td><td>9.336207</td><td>7.029901</td><td>0</td></tr>\n",
       "<tr><td>181466</td><td>44.65248</td><td>30.78345</td><td>2.814116</td><td>0</td><td>61.96756</td><td>47.6878</td><td>2.092101</td><td>0</td><td>43.86883</td><td>8.844721</td><td>3.229478</td><td>0</td><td>34.22841</td><td>15.14382</td><td>0.8279873</td><td>0</td><td>137.3125</td><td>9.488812</td><td>6.088147</td><td>0</td><td>52.27084</td><td>6.962756</td><td>2.52898</td><td>0</td></tr>\n",
       "<tr><td>181467</td><td>613.7192</td><td>89.69002</td><td>8.925945</td><td>0</td><td>0.0</td><td>0.0</td><td>0.0</td><td>0</td><td>518.6335</td><td>31.5441</td><td>15.23328</td><td>0</td><td>629.1237</td><td>35.58446</td><td>15.66695</td><td>0</td><td>1704.55</td><td>47.74506</td><td>52.90891</td><td>0</td><td>871.1273</td><td>27.97931</td><td>24.0493</td><td>0</td></tr>\n",
       "<tr><td>181468</td><td>269.973</td><td>33.32312</td><td>21.57568</td><td>0</td><td>0.0</td><td>0.0</td><td>0.0</td><td>0</td><td>92.22195</td><td>8.588817</td><td>10.65208</td><td>0</td><td>174.3472</td><td>10.92831</td><td>17.87229</td><td>0</td><td>349.1066</td><td>11.29485</td><td>31.9993</td><td>0</td><td>115.5755</td><td>6.179114</td><td>10.11316</td><td>0</td></tr>\n",
       "<tr><td>181469</td><td>158.5275</td><td>23.97647</td><td>23.60255</td><td>0</td><td>156.4064</td><td>23.89189</td><td>23.29607</td><td>0</td><td>101.2445</td><td>10.40549</td><td>12.25041</td><td>0</td><td>123.9745</td><td>12.02522</td><td>14.65656</td><td>0</td><td>350.3659</td><td>24.61716</td><td>33.31092</td><td>0</td><td>68.10983</td><td>4.915858</td><td>6.457958</td><td>0</td></tr>\n",
       "<tr><td>181470</td><td>113.5886</td><td>27.45255</td><td>5.935031</td><td>0</td><td>21.08032</td><td>0.0</td><td>0.07613808</td><td>0</td><td>36.11251</td><td>37.89804</td><td>0.2256234</td><td>0</td><td>31.43009</td><td>9.749749</td><td>2.692218</td><td>0</td><td>62.92384</td><td>12.53808</td><td>2.162645</td><td>0</td><td>90.38005</td><td>12.32894</td><td>3.709697</td><td>0</td></tr>\n",
       "<tr><td>181471</td><td>40.54684</td><td>10.04015</td><td>7.768414</td><td>0</td><td>42.27688</td><td>14.92668</td><td>8.094906</td><td>0</td><td>46.08158</td><td>4.799643</td><td>7.172256</td><td>0</td><td>12.63428</td><td>6.61896</td><td>1.921427</td><td>0</td><td>223.0443</td><td>7.085387</td><td>27.26821</td><td>0</td><td>75.15742</td><td>3.670277</td><td>9.164997</td><td>0</td></tr>\n",
       "<tr><td>181472</td><td>11.36805</td><td>40.54984</td><td>1.957225</td><td>0</td><td>9.233362</td><td>36.99691</td><td>1.624449</td><td>0</td><td>0.0</td><td>0.0</td><td>0.0</td><td>0</td><td>0.0</td><td>0.0</td><td>0.0</td><td>0</td><td>15.86666</td><td>10.36273</td><td>0.730974</td><td>0</td><td>20.02959</td><td>8.626047</td><td>1.415692</td><td>0</td></tr>\n",
       "<tr><td>181473</td><td>591.8664</td><td>0.0</td><td>0.6553681</td><td>0</td><td>5108.749</td><td>152561.7</td><td>239.0119</td><td>0</td><td>52.16858</td><td>7.869503</td><td>5.676058</td><td>0</td><td>68.99948</td><td>8.325183</td><td>7.252437</td><td>0</td><td>134.8866</td><td>7.673877</td><td>15.21134</td><td>0</td><td>21.58595</td><td>4.491259</td><td>2.062106</td><td>0</td></tr>\n",
       "<tr><td>181474</td><td>374.6684</td><td>90.28132</td><td>1.732161</td><td>0</td><td>0.0</td><td>0.0</td><td>0.0</td><td>0</td><td>24.39401</td><td>10.312</td><td>1.767735</td><td>0</td><td>6.547326</td><td>8.149628</td><td>0.6368545</td><td>0</td><td>37.88424</td><td>13.72113</td><td>1.148621</td><td>0</td><td>38.35063</td><td>12.76001</td><td>1.331861</td><td>0</td></tr>\n",
       "<tr><td>...</td><td>...</td><td>...</td><td>...</td><td>...</td><td>...</td><td>...</td><td>...</td><td>...</td><td>...</td><td>...</td><td>...</td><td>...</td><td>...</td><td>...</td><td>...</td><td>...</td><td>...</td><td>...</td><td>...</td><td>...</td><td>...</td><td>...</td><td>...</td><td>...</td></tr>\n",
       "<tr><td>258564</td><td>63.6713</td><td>36.60407</td><td>4.825238</td><td>0</td><td>25.49971</td><td>29.75644</td><td>4.941447</td><td>0</td><td>49.82573</td><td>7.237065</td><td>6.789273</td><td>0</td><td>14.12111</td><td>4.580142</td><td>2.317479</td><td>0</td><td>176.8591</td><td>11.73488</td><td>19.43415</td><td>0</td><td>49.13998</td><td>5.662699</td><td>5.369636</td><td>0</td></tr>\n",
       "<tr><td>258559</td><td>48.29412</td><td>23.82163</td><td>11.99657</td><td>0</td><td>151.9739</td><td>30.74081</td><td>18.25348</td><td>0</td><td>65.96928</td><td>5.537348</td><td>9.560458</td><td>0</td><td>40.39507</td><td>4.788877</td><td>5.013599</td><td>0</td><td>179.254</td><td>4.949889</td><td>19.96357</td><td>0</td><td>50.09386</td><td>3.280735</td><td>6.278956</td><td>0</td></tr>\n",
       "<tr><td>258560</td><td>23.61562</td><td>20.3718</td><td>3.457011</td><td>0</td><td>18.07862</td><td>21.87426</td><td>1.342619</td><td>0</td><td>16.23421</td><td>5.671798</td><td>2.906161</td><td>0</td><td>13.55614</td><td>8.120951</td><td>2.6102</td><td>0</td><td>28.40508</td><td>7.493904</td><td>2.225812</td><td>0</td><td>28.88979</td><td>9.037913</td><td>1.831591</td><td>0</td></tr>\n",
       "<tr><td>258555</td><td>231.8812</td><td>275.937</td><td>5.29107</td><td>0</td><td>24.47192</td><td>437.0355</td><td>1.798661</td><td>0</td><td>120.6988</td><td>18.16393</td><td>6.437852</td><td>0</td><td>79.68111</td><td>26.69708</td><td>1.778874</td><td>0</td><td>478.6613</td><td>22.96952</td><td>19.76872</td><td>0</td><td>277.6103</td><td>19.68217</td><td>9.825809</td><td>0</td></tr>\n",
       "<tr><td>258556</td><td>0.0</td><td>0.0</td><td>0.0</td><td>0</td><td>10.22162</td><td>12.92476</td><td>1.017681</td><td>0</td><td>7.155073</td><td>5.937305</td><td>0.7140761</td><td>0</td><td>6.204377</td><td>6.649156</td><td>0.7146592</td><td>0</td><td>0.4990712</td><td>71.41424</td><td>0.08100978</td><td>0</td><td>0.0</td><td>0.0</td><td>0.0</td><td>0</td></tr>\n",
       "<tr><td>258557</td><td>13.79014</td><td>118.3598</td><td>1.596616</td><td>0</td><td>20.40397</td><td>100.147</td><td>2.277164</td><td>0</td><td>7.060903</td><td>6.156335</td><td>0.7254078</td><td>0</td><td>10.68497</td><td>7.636971</td><td>1.096954</td><td>0</td><td>20.49312</td><td>5.705789</td><td>1.889036</td><td>0</td><td>9.525472</td><td>5.127437</td><td>0.7249631</td><td>0</td></tr>\n",
       "<tr><td>258551</td><td>14.55177</td><td>7.988371</td><td>3.142545</td><td>0</td><td>15.89195</td><td>11.22913</td><td>4.225949</td><td>0</td><td>10.10877</td><td>8.351659</td><td>1.895724</td><td>0</td><td>0.0</td><td>0.0</td><td>0.0</td><td>0</td><td>5.689131</td><td>0.0</td><td>0.3196677</td><td>0</td><td>10.02687</td><td>9.441009</td><td>0.6615798</td><td>0</td></tr>\n",
       "<tr><td>258552</td><td>282.5839</td><td>452.3896</td><td>8.992638</td><td>0</td><td>557.3867</td><td>468.4614</td><td>22.35369</td><td>0</td><td>392.734</td><td>22.89218</td><td>18.58927</td><td>0</td><td>319.989</td><td>19.75484</td><td>16.4356</td><td>0</td><td>1461.749</td><td>37.01131</td><td>71.76562</td><td>0</td><td>560.0292</td><td>21.07367</td><td>26.82592</td><td>0</td></tr>\n",
       "<tr><td>258553</td><td>64.80319</td><td>50.80451</td><td>3.541323</td><td>0</td><td>48.50111</td><td>44.28656</td><td>5.981228</td><td>0</td><td>2.272362</td><td>46.03584</td><td>0.2968929</td><td>0</td><td>24.18361</td><td>15.39006</td><td>0.8808733</td><td>0</td><td>74.58948</td><td>11.95401</td><td>3.145087</td><td>0</td><td>83.03685</td><td>7.911956</td><td>5.339498</td><td>0</td></tr>\n",
       "<tr><td>258554</td><td>252.9151</td><td>56.48792</td><td>3.66923</td><td>0</td><td>0.0</td><td>0.0</td><td>0.0</td><td>0</td><td>15.01286</td><td>0.0</td><td>0.07025008</td><td>0</td><td>0.0</td><td>0.0</td><td>0.0</td><td>0</td><td>46.56501</td><td>17.32141</td><td>1.750294</td><td>0</td><td>90.90508</td><td>19.8262</td><td>2.883307</td><td>0</td></tr>\n",
       "</table></div>"
      ],
      "text/plain": [
       "<Table length=577599>\n",
       "  ID   Flux_OII_3726 Flux_OII_3726_Err ... AoN_NII_6583 Fit_Warning_NII_6583\n",
       "int32     float64         float64      ...   float64           int32        \n",
       "------ ------------- ----------------- ... ------------ --------------------\n",
       "624968      197.7464          996.8217 ...     7.029901                    0\n",
       "181466      44.65248          30.78345 ...      2.52898                    0\n",
       "181467      613.7192          89.69002 ...      24.0493                    0\n",
       "181468       269.973          33.32312 ...     10.11316                    0\n",
       "181469      158.5275          23.97647 ...     6.457958                    0\n",
       "181470      113.5886          27.45255 ...     3.709697                    0\n",
       "181471      40.54684          10.04015 ...     9.164997                    0\n",
       "181472      11.36805          40.54984 ...     1.415692                    0\n",
       "181473      591.8664               0.0 ...     2.062106                    0\n",
       "181474      374.6684          90.28132 ...     1.331861                    0\n",
       "   ...           ...               ... ...          ...                  ...\n",
       "258564       63.6713          36.60407 ...     5.369636                    0\n",
       "258559      48.29412          23.82163 ...     6.278956                    0\n",
       "258560      23.61562           20.3718 ...     1.831591                    0\n",
       "258555      231.8812           275.937 ...     9.825809                    0\n",
       "258556           0.0               0.0 ...          0.0                    0\n",
       "258557      13.79014          118.3598 ...    0.7249631                    0\n",
       "258551      14.55177          7.988371 ...    0.6615798                    0\n",
       "258552      282.5839          452.3896 ...     26.82592                    0\n",
       "258553      64.80319          50.80451 ...     5.339498                    0\n",
       "258554      252.9151          56.48792 ...     2.883307                    0"
      ]
     },
     "execution_count": 11,
     "metadata": {},
     "output_type": "execute_result"
    }
   ],
   "source": [
    "#metallicity_lines = Table.read(r'C:\\Users\\caeho\\OneDrive\\Documents\\University of Rochester REU\\metallicity_lines_casey_cloud12.csv',\n",
    "                               #format = 'ascii.fast_csv')\n",
    "\n",
    "metallicity_lines = Table.read(r'C:\\Users\\caeho\\OneDrive\\Documents\\University of Rochester REU\\metallicity_lines_2_casey_cloud12.csv',\n",
    "                               format = 'ascii.fast_csv')\n",
    "metallicity_lines"
   ]
  },
  {
   "cell_type": "markdown",
   "id": "25eab42b",
   "metadata": {},
   "source": [
    "# Masks for the emission lines"
   ]
  },
  {
   "cell_type": "code",
   "execution_count": 12,
   "id": "3eca4fbf",
   "metadata": {},
   "outputs": [],
   "source": [
    "flux_max = 1e4\n",
    "\n",
    "O2_3726_mask = (metallicity_lines['Flux_OII_3726'] < 0) | (metallicity_lines['Flux_OII_3726'] > flux_max)\n",
    "O2_3728_mask = (metallicity_lines['Flux_OII_3728'] < 0) | (metallicity_lines['Flux_OII_3728'] > flux_max)\n",
    "Hb_4861_mask = (metallicity_lines['Flux_Hb_4861'] < 0) | (metallicity_lines['Flux_Hb_4861'] > flux_max)\n",
    "O3_5006_mask = (metallicity_lines['Flux_OIII_5006'] < 0) | (metallicity_lines['Flux_OIII_5006'] > flux_max)\n",
    "Ha_6562_mask = (metallicity_lines['Flux_Ha_6562'] < 0) | (metallicity_lines['Flux_Ha_6562'] > flux_max)\n",
    "N2_6583_mask = (metallicity_lines['Flux_NII_6583'] < 0) | (metallicity_lines['Flux_NII_6583'] > flux_max)"
   ]
  },
  {
   "cell_type": "markdown",
   "id": "e9c262bf",
   "metadata": {},
   "source": [
    "# Ratio Calculation"
   ]
  },
  {
   "cell_type": "code",
   "execution_count": 13,
   "id": "073cad39",
   "metadata": {},
   "outputs": [
    {
     "name": "stderr",
     "output_type": "stream",
     "text": [
      "C:\\Users\\caeho\\AppData\\Local\\Temp\\ipykernel_21364\\4250300831.py:1: RuntimeWarning: divide by zero encountered in true_divide\n",
      "  metallicity_lines['N2'] = metallicity_lines['Flux_NII_6583'] / metallicity_lines['Flux_Ha_6562']\n",
      "C:\\Users\\caeho\\AppData\\Local\\Temp\\ipykernel_21364\\4250300831.py:1: RuntimeWarning: invalid value encountered in true_divide\n",
      "  metallicity_lines['N2'] = metallicity_lines['Flux_NII_6583'] / metallicity_lines['Flux_Ha_6562']\n",
      "C:\\Users\\caeho\\AppData\\Local\\Temp\\ipykernel_21364\\4250300831.py:2: RuntimeWarning: divide by zero encountered in true_divide\n",
      "  metallicity_lines['O3N2'] = metallicity_lines['Flux_OIII_5006'] / metallicity_lines['Flux_Hb_4861'] / metallicity_lines['Flux_NII_6583']\n",
      "C:\\Users\\caeho\\AppData\\Local\\Temp\\ipykernel_21364\\4250300831.py:2: RuntimeWarning: invalid value encountered in true_divide\n",
      "  metallicity_lines['O3N2'] = metallicity_lines['Flux_OIII_5006'] / metallicity_lines['Flux_Hb_4861'] / metallicity_lines['Flux_NII_6583']\n",
      "C:\\Users\\caeho\\AppData\\Local\\Temp\\ipykernel_21364\\4250300831.py:3: RuntimeWarning: divide by zero encountered in true_divide\n",
      "  metallicity_lines['N2O2'] = metallicity_lines['Flux_NII_6583'] / (metallicity_lines['Flux_OII_3726'] + metallicity_lines['Flux_OII_3728'])\n",
      "C:\\Users\\caeho\\AppData\\Local\\Temp\\ipykernel_21364\\4250300831.py:3: RuntimeWarning: invalid value encountered in true_divide\n",
      "  metallicity_lines['N2O2'] = metallicity_lines['Flux_NII_6583'] / (metallicity_lines['Flux_OII_3726'] + metallicity_lines['Flux_OII_3728'])\n"
     ]
    }
   ],
   "source": [
    "metallicity_lines['N2'] = metallicity_lines['Flux_NII_6583'] / metallicity_lines['Flux_Ha_6562']\n",
    "metallicity_lines['O3N2'] = metallicity_lines['Flux_OIII_5006'] / metallicity_lines['Flux_Hb_4861'] / metallicity_lines['Flux_NII_6583']\n",
    "metallicity_lines['N2O2'] = metallicity_lines['Flux_NII_6583'] / (metallicity_lines['Flux_OII_3726'] + metallicity_lines['Flux_OII_3728'])"
   ]
  },
  {
   "cell_type": "markdown",
   "id": "dbf488f4",
   "metadata": {},
   "source": [
    "### Setting ratios that used bad flux line data to NaN"
   ]
  },
  {
   "cell_type": "code",
   "execution_count": 14,
   "id": "a43dbe80",
   "metadata": {},
   "outputs": [],
   "source": [
    "metallicity_lines['N2'][N2_6583_mask | Ha_6562_mask] = np.nan\n",
    "metallicity_lines['N2O2'][N2_6583_mask | O2_3726_mask | O2_3728_mask] = np.nan\n",
    "metallicity_lines['O3N2'][N2_6583_mask | O3_5006_mask | Hb_4861_mask] = np.nan"
   ]
  },
  {
   "cell_type": "markdown",
   "id": "e307b124",
   "metadata": {},
   "source": [
    "# Emission Line Error Calculation"
   ]
  },
  {
   "cell_type": "markdown",
   "id": "a95d720c",
   "metadata": {},
   "source": [
    "### Error for N2 ratio"
   ]
  },
  {
   "cell_type": "code",
   "execution_count": 15,
   "id": "6adcf527",
   "metadata": {},
   "outputs": [],
   "source": [
    "rng = default_rng()\n",
    "\n",
    "n2_rand = rng.normal(loc = metallicity_lines['Flux_NII_6583'],\n",
    "                     scale = np.abs(metallicity_lines['Flux_NII_6583_Err']),\n",
    "                     size = (500, len(metallicity_lines)))\n",
    "               "
   ]
  },
  {
   "cell_type": "code",
   "execution_count": 16,
   "id": "c05841e0",
   "metadata": {},
   "outputs": [],
   "source": [
    "Ha_rand = rng.normal(loc = metallicity_lines['Flux_Ha_6562'],\n",
    "                     scale = np.abs(metallicity_lines['Flux_Ha_6562_Err']),\n",
    "                     size = (500,len(metallicity_lines)))"
   ]
  },
  {
   "cell_type": "code",
   "execution_count": 17,
   "id": "a1fe5294",
   "metadata": {},
   "outputs": [
    {
     "name": "stderr",
     "output_type": "stream",
     "text": [
      "C:\\Users\\caeho\\AppData\\Local\\Temp\\ipykernel_21364\\1486517192.py:1: RuntimeWarning: divide by zero encountered in true_divide\n",
      "  N2_rand = n2_rand / Ha_rand\n",
      "C:\\Users\\caeho\\AppData\\Local\\Temp\\ipykernel_21364\\1486517192.py:1: RuntimeWarning: invalid value encountered in true_divide\n",
      "  N2_rand = n2_rand / Ha_rand\n"
     ]
    }
   ],
   "source": [
    "N2_rand = n2_rand / Ha_rand\n",
    "\n",
    "\n",
    "#N2_err = np.std(N2_rand, axis = 0)"
   ]
  },
  {
   "cell_type": "code",
   "execution_count": 18,
   "id": "45feb9ff",
   "metadata": {},
   "outputs": [
    {
     "name": "stderr",
     "output_type": "stream",
     "text": [
      "C:\\Users\\caeho\\anaconda3\\lib\\site-packages\\numpy\\core\\_methods.py:212: RuntimeWarning: invalid value encountered in reduce\n",
      "  arrmean = umr_sum(arr, axis, dtype, keepdims=True, where=where)\n",
      "C:\\Users\\caeho\\anaconda3\\lib\\site-packages\\numpy\\core\\_methods.py:230: RuntimeWarning: invalid value encountered in subtract\n",
      "  x = asanyarray(arr - arrmean)\n"
     ]
    }
   ],
   "source": [
    "metallicity_lines['N2_err'] = np.std(N2_rand, axis = 0)"
   ]
  },
  {
   "cell_type": "code",
   "execution_count": 20,
   "id": "61618c82",
   "metadata": {},
   "outputs": [],
   "source": [
    "del Ha_rand\n",
    "del N2_rand\n"
   ]
  },
  {
   "cell_type": "markdown",
   "id": "fddd2db6",
   "metadata": {},
   "source": [
    "### Error for O3N2 ratio"
   ]
  },
  {
   "cell_type": "code",
   "execution_count": 21,
   "id": "8a76907b",
   "metadata": {},
   "outputs": [
    {
     "data": {
      "text/plain": [
       "\"Hb_rand = rng.normal(loc = metallicity_lines['Flux_Hb_4861'],\\n                     scale = np.abs(metallicity_lines['Flux_Hb_4861_Err']),\\n                     size = (500,len(metallicity_lines)))\\n\\nO3N2_rand = O3_rand / Hb_rand / n2_rand\\n\\n\\nO3N2_err = np.std(O3N2_rand, axis = 0)\\n\\n#print(N2_err.shape())\\n\\n#N2_metallicity_lines['N2_err'] = N2_err[N2_mask]\""
      ]
     },
     "execution_count": 21,
     "metadata": {},
     "output_type": "execute_result"
    }
   ],
   "source": [
    "O3_rand = rng.normal(loc = metallicity_lines['Flux_OIII_5006'],\n",
    "                     scale = np.abs(metallicity_lines['Flux_OIII_5006_Err']),\n",
    "                     size = (500,len(metallicity_lines)))\n"
   ]
  },
  {
   "cell_type": "code",
   "execution_count": 22,
   "id": "596c4670",
   "metadata": {},
   "outputs": [],
   "source": [
    "Hb_rand = rng.normal(loc = metallicity_lines['Flux_Hb_4861'],\n",
    "                     scale = np.abs(metallicity_lines['Flux_Hb_4861_Err']),\n",
    "                     size = (500,len(metallicity_lines)))\n"
   ]
  },
  {
   "cell_type": "code",
   "execution_count": 23,
   "id": "6bc99ed2",
   "metadata": {},
   "outputs": [
    {
     "name": "stderr",
     "output_type": "stream",
     "text": [
      "C:\\Users\\caeho\\AppData\\Local\\Temp\\ipykernel_21364\\302400804.py:1: RuntimeWarning: divide by zero encountered in true_divide\n",
      "  O3N2_rand = O3_rand / Hb_rand / n2_rand\n",
      "C:\\Users\\caeho\\AppData\\Local\\Temp\\ipykernel_21364\\302400804.py:1: RuntimeWarning: invalid value encountered in true_divide\n",
      "  O3N2_rand = O3_rand / Hb_rand / n2_rand\n"
     ]
    }
   ],
   "source": [
    "O3N2_rand = O3_rand / Hb_rand / n2_rand\n",
    "\n",
    "\n",
    "metallicity_lines['O3N2_err'] = np.std(O3N2_rand, axis = 0)"
   ]
  },
  {
   "cell_type": "code",
   "execution_count": 25,
   "id": "206192e6",
   "metadata": {},
   "outputs": [],
   "source": [
    "del O3_rand\n",
    "del O3N2_rand\n",
    "del Hb_rand"
   ]
  },
  {
   "cell_type": "code",
   "execution_count": 26,
   "id": "ff8bc57e",
   "metadata": {},
   "outputs": [
    {
     "data": {
      "text/html": [
       "<div><i>Table length=577599</i>\n",
       "<table id=\"table1774373414272\" class=\"table-striped table-bordered table-condensed\">\n",
       "<thead><tr><th>ID</th><th>Flux_OII_3726</th><th>Flux_OII_3726_Err</th><th>AoN_OII_3726</th><th>Fit_Warning_OII_3726</th><th>Flux_OII_3728</th><th>Flux_OII_3728_Err</th><th>AoN_OII_3728</th><th>Fit_Warning_OII_3728</th><th>Flux_Hb_4861</th><th>Flux_Hb_4861_Err</th><th>AoN_Hb_4861</th><th>Fit_Warning_Hb_4861</th><th>Flux_OIII_5006</th><th>Flux_OIII_5006_Err</th><th>AoN_OIII_5006</th><th>Fit_Warning_OIII_5006</th><th>Flux_Ha_6562</th><th>Flux_Ha_6562_Err</th><th>AoN_Ha_6562</th><th>Fit_Warning_Ha_6562</th><th>Flux_NII_6583</th><th>Flux_NII_6583_Err</th><th>AoN_NII_6583</th><th>Fit_Warning_NII_6583</th><th>N2</th><th>O3N2</th><th>N2O2</th><th>N2_err</th><th>O3N2_err</th></tr></thead>\n",
       "<thead><tr><th>int32</th><th>float64</th><th>float64</th><th>float64</th><th>int32</th><th>float64</th><th>float64</th><th>float64</th><th>int32</th><th>float64</th><th>float64</th><th>float64</th><th>int32</th><th>float64</th><th>float64</th><th>float64</th><th>int32</th><th>float64</th><th>float64</th><th>float64</th><th>int32</th><th>float64</th><th>float64</th><th>float64</th><th>int32</th><th>float64</th><th>float64</th><th>float64</th><th>float64</th><th>float64</th></tr></thead>\n",
       "<tr><td>624968</td><td>197.7464</td><td>996.8217</td><td>5.278359</td><td>0</td><td>65.75143</td><td>874.3153</td><td>5.019125</td><td>0</td><td>130.4304</td><td>21.61718</td><td>2.394611</td><td>0</td><td>77.1938</td><td>9.683894</td><td>4.225906</td><td>0</td><td>160.2706</td><td>11.24422</td><td>9.119009</td><td>0</td><td>118.7026</td><td>9.336207</td><td>7.029901</td><td>0</td><td>0.7406386448918267</td><td>0.004985897689893699</td><td>0.4504879603752334</td><td>0.08076203527246907</td><td>0.0012864575931210104</td></tr>\n",
       "<tr><td>181466</td><td>44.65248</td><td>30.78345</td><td>2.814116</td><td>0</td><td>61.96756</td><td>47.6878</td><td>2.092101</td><td>0</td><td>43.86883</td><td>8.844721</td><td>3.229478</td><td>0</td><td>34.22841</td><td>15.14382</td><td>0.8279873</td><td>0</td><td>137.3125</td><td>9.488812</td><td>6.088147</td><td>0</td><td>52.27084</td><td>6.962756</td><td>2.52898</td><td>0</td><td>0.38067065999089666</td><td>0.014926953997987526</td><td>0.4902534270292902</td><td>0.0526952510006224</td><td>0.008431795088380326</td></tr>\n",
       "<tr><td>181467</td><td>613.7192</td><td>89.69002</td><td>8.925945</td><td>0</td><td>0.0</td><td>0.0</td><td>0.0</td><td>0</td><td>518.6335</td><td>31.5441</td><td>15.23328</td><td>0</td><td>629.1237</td><td>35.58446</td><td>15.66695</td><td>0</td><td>1704.55</td><td>47.74506</td><td>52.90891</td><td>0</td><td>871.1273</td><td>27.97931</td><td>24.0493</td><td>0</td><td>0.5110599865067027</td><td>0.001392495678892359</td><td>1.4194232476350748</td><td>0.020846397447879077</td><td>0.00012742870748142976</td></tr>\n",
       "<tr><td>181468</td><td>269.973</td><td>33.32312</td><td>21.57568</td><td>0</td><td>0.0</td><td>0.0</td><td>0.0</td><td>0</td><td>92.22195</td><td>8.588817</td><td>10.65208</td><td>0</td><td>174.3472</td><td>10.92831</td><td>17.87229</td><td>0</td><td>349.1066</td><td>11.29485</td><td>31.9993</td><td>0</td><td>115.5755</td><td>6.179114</td><td>10.11316</td><td>0</td><td>0.33106077054974037</td><td>0.016357423395718006</td><td>0.42810021742915033</td><td>0.020433912057630267</td><td>0.002154536738585869</td></tr>\n",
       "<tr><td>181469</td><td>158.5275</td><td>23.97647</td><td>23.60255</td><td>0</td><td>156.4064</td><td>23.89189</td><td>23.29607</td><td>0</td><td>101.2445</td><td>10.40549</td><td>12.25041</td><td>0</td><td>123.9745</td><td>12.02522</td><td>14.65656</td><td>0</td><td>350.3659</td><td>24.61716</td><td>33.31092</td><td>0</td><td>68.10983</td><td>4.915858</td><td>6.457958</td><td>0</td><td>0.19439628685325827</td><td>0.017978403742152538</td><td>0.21626706429507908</td><td>0.01972229508895073</td><td>0.002956321848730028</td></tr>\n",
       "<tr><td>181470</td><td>113.5886</td><td>27.45255</td><td>5.935031</td><td>0</td><td>21.08032</td><td>0.0</td><td>0.07613808</td><td>0</td><td>36.11251</td><td>37.89804</td><td>0.2256234</td><td>0</td><td>31.43009</td><td>9.749749</td><td>2.692218</td><td>0</td><td>62.92384</td><td>12.53808</td><td>2.162645</td><td>0</td><td>90.38005</td><td>12.32894</td><td>3.709697</td><td>0</td><td>1.4363403441366578</td><td>0.009629757977800336</td><td>0.6711277553870633</td><td>0.42076664019761695</td><td>0.13535634903171814</td></tr>\n",
       "<tr><td>181471</td><td>40.54684</td><td>10.04015</td><td>7.768414</td><td>0</td><td>42.27688</td><td>14.92668</td><td>8.094906</td><td>0</td><td>46.08158</td><td>4.799643</td><td>7.172256</td><td>0</td><td>12.63428</td><td>6.61896</td><td>1.921427</td><td>0</td><td>223.0443</td><td>7.085387</td><td>27.26821</td><td>0</td><td>75.15742</td><td>3.670277</td><td>9.164997</td><td>0</td><td>0.33696185017953834</td><td>0.003647970123874448</td><td>0.907438352201519</td><td>0.01866216528252022</td><td>0.002153007021652646</td></tr>\n",
       "<tr><td>181472</td><td>11.36805</td><td>40.54984</td><td>1.957225</td><td>0</td><td>9.233362</td><td>36.99691</td><td>1.624449</td><td>0</td><td>0.0</td><td>0.0</td><td>0.0</td><td>0</td><td>0.0</td><td>0.0</td><td>0.0</td><td>0</td><td>15.86666</td><td>10.36273</td><td>0.730974</td><td>0</td><td>20.02959</td><td>8.626047</td><td>1.415692</td><td>0</td><td>1.262369648054474</td><td>nan</td><td>0.9722435530147157</td><td>10.567178667488106</td><td>nan</td></tr>\n",
       "<tr><td>181473</td><td>591.8664</td><td>0.0</td><td>0.6553681</td><td>0</td><td>5108.749</td><td>152561.7</td><td>239.0119</td><td>0</td><td>52.16858</td><td>7.869503</td><td>5.676058</td><td>0</td><td>68.99948</td><td>8.325183</td><td>7.252437</td><td>0</td><td>134.8866</td><td>7.673877</td><td>15.21134</td><td>0</td><td>21.58595</td><td>4.491259</td><td>2.062106</td><td>0</td><td>0.16003035142111968</td><td>0.061272504924515976</td><td>0.003786599951998165</td><td>0.03629188661973844</td><td>0.021828724996644455</td></tr>\n",
       "<tr><td>181474</td><td>374.6684</td><td>90.28132</td><td>1.732161</td><td>0</td><td>0.0</td><td>0.0</td><td>0.0</td><td>0</td><td>24.39401</td><td>10.312</td><td>1.767735</td><td>0</td><td>6.547326</td><td>8.149628</td><td>0.6368545</td><td>0</td><td>37.88424</td><td>13.72113</td><td>1.148621</td><td>0</td><td>38.35063</td><td>12.76001</td><td>1.331861</td><td>0</td><td>1.0123109240148411</td><td>0.006998553153425987</td><td>0.10235885919388985</td><td>1.0490409421277944</td><td>1.8393128409686434</td></tr>\n",
       "<tr><td>...</td><td>...</td><td>...</td><td>...</td><td>...</td><td>...</td><td>...</td><td>...</td><td>...</td><td>...</td><td>...</td><td>...</td><td>...</td><td>...</td><td>...</td><td>...</td><td>...</td><td>...</td><td>...</td><td>...</td><td>...</td><td>...</td><td>...</td><td>...</td><td>...</td><td>...</td><td>...</td><td>...</td><td>...</td><td>...</td></tr>\n",
       "<tr><td>258564</td><td>63.6713</td><td>36.60407</td><td>4.825238</td><td>0</td><td>25.49971</td><td>29.75644</td><td>4.941447</td><td>0</td><td>49.82573</td><td>7.237065</td><td>6.789273</td><td>0</td><td>14.12111</td><td>4.580142</td><td>2.317479</td><td>0</td><td>176.8591</td><td>11.73488</td><td>19.43415</td><td>0</td><td>49.13998</td><td>5.662699</td><td>5.369636</td><td>0</td><td>0.2778481853633768</td><td>0.005767401557840595</td><td>0.5510757363856258</td><td>0.034136728188387644</td><td>0.002335323971764292</td></tr>\n",
       "<tr><td>258559</td><td>48.29412</td><td>23.82163</td><td>11.99657</td><td>0</td><td>151.9739</td><td>30.74081</td><td>18.25348</td><td>0</td><td>65.96928</td><td>5.537348</td><td>9.560458</td><td>0</td><td>40.39507</td><td>4.788877</td><td>5.013599</td><td>0</td><td>179.254</td><td>4.949889</td><td>19.96357</td><td>0</td><td>50.09386</td><td>3.280735</td><td>6.278956</td><td>0</td><td>0.27945741796556844</td><td>0.012223684252808276</td><td>0.25013409529888997</td><td>0.01942897562165035</td><td>0.0020310471794766772</td></tr>\n",
       "<tr><td>258560</td><td>23.61562</td><td>20.3718</td><td>3.457011</td><td>0</td><td>18.07862</td><td>21.87426</td><td>1.342619</td><td>0</td><td>16.23421</td><td>5.671798</td><td>2.906161</td><td>0</td><td>13.55614</td><td>8.120951</td><td>2.6102</td><td>0</td><td>28.40508</td><td>7.493904</td><td>2.225812</td><td>0</td><td>28.88979</td><td>9.037913</td><td>1.831591</td><td>0</td><td>1.017064201192181</td><td>0.02890416986320685</td><td>0.6928964288592382</td><td>0.5218023877308413</td><td>0.11656194609048237</td></tr>\n",
       "<tr><td>258555</td><td>231.8812</td><td>275.937</td><td>5.29107</td><td>0</td><td>24.47192</td><td>437.0355</td><td>1.798661</td><td>0</td><td>120.6988</td><td>18.16393</td><td>6.437852</td><td>0</td><td>79.68111</td><td>26.69708</td><td>1.778874</td><td>0</td><td>478.6613</td><td>22.96952</td><td>19.76872</td><td>0</td><td>277.6103</td><td>19.68217</td><td>9.825809</td><td>0</td><td>0.5799723102745094</td><td>0.0023780273635084117</td><td>1.082921479559133</td><td>0.04835756856242604</td><td>0.000949251832927287</td></tr>\n",
       "<tr><td>258556</td><td>0.0</td><td>0.0</td><td>0.0</td><td>0</td><td>10.22162</td><td>12.92476</td><td>1.017681</td><td>0</td><td>7.155073</td><td>5.937305</td><td>0.7140761</td><td>0</td><td>6.204377</td><td>6.649156</td><td>0.7146592</td><td>0</td><td>0.4990712</td><td>71.41424</td><td>0.08100978</td><td>0</td><td>0.0</td><td>0.0</td><td>0.0</td><td>0</td><td>0.0</td><td>inf</td><td>0.0</td><td>0.0</td><td>nan</td></tr>\n",
       "<tr><td>258557</td><td>13.79014</td><td>118.3598</td><td>1.596616</td><td>0</td><td>20.40397</td><td>100.147</td><td>2.277164</td><td>0</td><td>7.060903</td><td>6.156335</td><td>0.7254078</td><td>0</td><td>10.68497</td><td>7.636971</td><td>1.096954</td><td>0</td><td>20.49312</td><td>5.705789</td><td>1.889036</td><td>0</td><td>9.525472</td><td>5.127437</td><td>0.7249631</td><td>0</td><td>0.4648131665651692</td><td>0.15886438908765568</td><td>0.2785705491384335</td><td>0.5939636854454496</td><td>10.698062530846498</td></tr>\n",
       "<tr><td>258551</td><td>14.55177</td><td>7.988371</td><td>3.142545</td><td>0</td><td>15.89195</td><td>11.22913</td><td>4.225949</td><td>0</td><td>10.10877</td><td>8.351659</td><td>1.895724</td><td>0</td><td>0.0</td><td>0.0</td><td>0.0</td><td>0</td><td>5.689131</td><td>0.0</td><td>0.3196677</td><td>0</td><td>10.02687</td><td>9.441009</td><td>0.6615798</td><td>0</td><td>1.7624607343371073</td><td>0.0</td><td>0.3293575817935522</td><td>1.7044251558942356</td><td>0.0</td></tr>\n",
       "<tr><td>258552</td><td>282.5839</td><td>452.3896</td><td>8.992638</td><td>0</td><td>557.3867</td><td>468.4614</td><td>22.35369</td><td>0</td><td>392.734</td><td>22.89218</td><td>18.58927</td><td>0</td><td>319.989</td><td>19.75484</td><td>16.4356</td><td>0</td><td>1461.749</td><td>37.01131</td><td>71.76562</td><td>0</td><td>560.0292</td><td>21.07367</td><td>26.82592</td><td>0</td><td>0.3831226838533838</td><td>0.0014548756543380657</td><td>0.6667247639381663</td><td>0.01625307305980638</td><td>0.00013515464488208414</td></tr>\n",
       "<tr><td>258553</td><td>64.80319</td><td>50.80451</td><td>3.541323</td><td>0</td><td>48.50111</td><td>44.28656</td><td>5.981228</td><td>0</td><td>2.272362</td><td>46.03584</td><td>0.2968929</td><td>0</td><td>24.18361</td><td>15.39006</td><td>0.8808733</td><td>0</td><td>74.58948</td><td>11.95401</td><td>3.145087</td><td>0</td><td>83.03685</td><td>7.911956</td><td>5.339498</td><td>0</td><td>1.1132514933741327</td><td>0.12816597525577098</td><td>0.7328658312173502</td><td>0.2252125248771538</td><td>0.07454033175438884</td></tr>\n",
       "<tr><td>258554</td><td>252.9151</td><td>56.48792</td><td>3.66923</td><td>0</td><td>0.0</td><td>0.0</td><td>0.0</td><td>0</td><td>15.01286</td><td>0.0</td><td>0.07025008</td><td>0</td><td>0.0</td><td>0.0</td><td>0.0</td><td>0</td><td>46.56501</td><td>17.32141</td><td>1.750294</td><td>0</td><td>90.90508</td><td>19.8262</td><td>2.883307</td><td>0</td><td>1.952218629395763</td><td>0.0</td><td>0.3594292313902966</td><td>46.893188429015325</td><td>0.0</td></tr>\n",
       "</table></div>"
      ],
      "text/plain": [
       "<Table length=577599>\n",
       "  ID   Flux_OII_3726 ...        N2_err               O3N2_err       \n",
       "int32     float64    ...       float64               float64        \n",
       "------ ------------- ... -------------------- ----------------------\n",
       "624968      197.7464 ...  0.08076203527246907  0.0012864575931210104\n",
       "181466      44.65248 ...   0.0526952510006224   0.008431795088380326\n",
       "181467      613.7192 ... 0.020846397447879077 0.00012742870748142976\n",
       "181468       269.973 ... 0.020433912057630267   0.002154536738585869\n",
       "181469      158.5275 ...  0.01972229508895073   0.002956321848730028\n",
       "181470      113.5886 ...  0.42076664019761695    0.13535634903171814\n",
       "181471      40.54684 ...  0.01866216528252022   0.002153007021652646\n",
       "181472      11.36805 ...   10.567178667488106                    nan\n",
       "181473      591.8664 ...  0.03629188661973844   0.021828724996644455\n",
       "181474      374.6684 ...   1.0490409421277944     1.8393128409686434\n",
       "   ...           ... ...                  ...                    ...\n",
       "258564       63.6713 ... 0.034136728188387644   0.002335323971764292\n",
       "258559      48.29412 ...  0.01942897562165035  0.0020310471794766772\n",
       "258560      23.61562 ...   0.5218023877308413    0.11656194609048237\n",
       "258555      231.8812 ...  0.04835756856242604   0.000949251832927287\n",
       "258556           0.0 ...                  0.0                    nan\n",
       "258557      13.79014 ...   0.5939636854454496     10.698062530846498\n",
       "258551      14.55177 ...   1.7044251558942356                    0.0\n",
       "258552      282.5839 ...  0.01625307305980638 0.00013515464488208414\n",
       "258553      64.80319 ...   0.2252125248771538    0.07454033175438884\n",
       "258554      252.9151 ...   46.893188429015325                    0.0"
      ]
     },
     "execution_count": 26,
     "metadata": {},
     "output_type": "execute_result"
    }
   ],
   "source": [
    "metallicity_lines"
   ]
  },
  {
   "cell_type": "markdown",
   "id": "8433d32c",
   "metadata": {},
   "source": [
    "### Error for N2O2 ratio"
   ]
  },
  {
   "cell_type": "code",
   "execution_count": 27,
   "id": "dcdb0161",
   "metadata": {},
   "outputs": [
    {
     "data": {
      "text/plain": [
       "\"O2_8_rand = rng.normal(loc = metallicity_lines['Flux_Hb_4861'],\\n                     scale = np.abs(metallicity_lines['Flux_Hb_4861_Err']),\\n                     size = (500,len(metallicity_lines)))\\n\\nO3N2_rand = n2_rand / O2_6_rand + O2_8_rand\\n\\n\\nO3N2_err = np.std(O3N2_rand, axis = 0)\""
      ]
     },
     "execution_count": 27,
     "metadata": {},
     "output_type": "execute_result"
    }
   ],
   "source": [
    "O2_6_rand = rng.normal(loc = metallicity_lines['Flux_OIII_5006'],\n",
    "                     scale = np.abs(metallicity_lines['Flux_OIII_5006_Err']),\n",
    "                     size = (500,len(metallicity_lines)))\n",
    "               \n"
   ]
  },
  {
   "cell_type": "code",
   "execution_count": 28,
   "id": "a2b909ae",
   "metadata": {},
   "outputs": [],
   "source": [
    "O2_8_rand = rng.normal(loc = metallicity_lines['Flux_Hb_4861'],\n",
    "                     scale = np.abs(metallicity_lines['Flux_Hb_4861_Err']),\n",
    "                     size = (500,len(metallicity_lines)))"
   ]
  },
  {
   "cell_type": "code",
   "execution_count": 29,
   "id": "ed68e8af",
   "metadata": {},
   "outputs": [
    {
     "name": "stderr",
     "output_type": "stream",
     "text": [
      "C:\\Users\\caeho\\AppData\\Local\\Temp\\ipykernel_21364\\1748425554.py:1: RuntimeWarning: divide by zero encountered in true_divide\n",
      "  N2O2_rand = n2_rand / (O2_6_rand + O2_8_rand)\n",
      "C:\\Users\\caeho\\AppData\\Local\\Temp\\ipykernel_21364\\1748425554.py:1: RuntimeWarning: invalid value encountered in true_divide\n",
      "  N2O2_rand = n2_rand / (O2_6_rand + O2_8_rand)\n"
     ]
    }
   ],
   "source": [
    "N2O2_rand = n2_rand / (O2_6_rand + O2_8_rand)\n",
    "\n",
    "\n",
    "metallicity_lines['N2O2_err'] = np.std(N2O2_rand, axis = 0)"
   ]
  },
  {
   "cell_type": "code",
   "execution_count": 31,
   "id": "c12f8400",
   "metadata": {},
   "outputs": [],
   "source": [
    "metallicity_lines.sort('ID')"
   ]
  },
  {
   "cell_type": "code",
   "execution_count": 41,
   "id": "fbd52909",
   "metadata": {},
   "outputs": [
    {
     "data": {
      "text/html": [
       "<div><i>Table length=577599</i>\n",
       "<table id=\"table1774373414272\" class=\"table-striped table-bordered table-condensed\">\n",
       "<thead><tr><th>ID</th><th>Flux_OII_3726</th><th>Flux_OII_3726_Err</th><th>AoN_OII_3726</th><th>Fit_Warning_OII_3726</th><th>Flux_OII_3728</th><th>Flux_OII_3728_Err</th><th>AoN_OII_3728</th><th>Fit_Warning_OII_3728</th><th>Flux_Hb_4861</th><th>Flux_Hb_4861_Err</th><th>AoN_Hb_4861</th><th>Fit_Warning_Hb_4861</th><th>Flux_OIII_5006</th><th>Flux_OIII_5006_Err</th><th>AoN_OIII_5006</th><th>Fit_Warning_OIII_5006</th><th>Flux_Ha_6562</th><th>Flux_Ha_6562_Err</th><th>AoN_Ha_6562</th><th>Fit_Warning_Ha_6562</th><th>Flux_NII_6583</th><th>Flux_NII_6583_Err</th><th>AoN_NII_6583</th><th>Fit_Warning_NII_6583</th><th>N2</th><th>O3N2</th><th>N2O2</th><th>N2_err</th><th>O3N2_err</th><th>N2O2_err</th></tr></thead>\n",
       "<thead><tr><th>int32</th><th>float64</th><th>float64</th><th>float64</th><th>int32</th><th>float64</th><th>float64</th><th>float64</th><th>int32</th><th>float64</th><th>float64</th><th>float64</th><th>int32</th><th>float64</th><th>float64</th><th>float64</th><th>int32</th><th>float64</th><th>float64</th><th>float64</th><th>int32</th><th>float64</th><th>float64</th><th>float64</th><th>int32</th><th>float64</th><th>float64</th><th>float64</th><th>float64</th><th>float64</th><th>float64</th></tr></thead>\n",
       "<tr><td>0</td><td>0.0</td><td>0.0</td><td>0.0</td><td>0</td><td>2302374.0</td><td>-1.0</td><td>149858.7</td><td>0</td><td>313.4042</td><td>31.67812</td><td>6.587177</td><td>0</td><td>162.9074</td><td>28.42247</td><td>4.279893</td><td>0</td><td>837.1578</td><td>32.07712</td><td>20.99884</td><td>0</td><td>414.1785</td><td>25.24004</td><td>11.57794</td><td>0</td><td>0.4947436433131245</td><td>0.001255013649526481</td><td>nan</td><td>0.03437708322122293</td><td>0.0002788940323672723</td><td>0.09309809440111833</td></tr>\n",
       "<tr><td>1</td><td>192.2379</td><td>52.48717</td><td>8.39427</td><td>0</td><td>70.9487</td><td>30.32029</td><td>6.640627</td><td>0</td><td>131.4462</td><td>20.52234</td><td>3.846179</td><td>0</td><td>116.5771</td><td>22.24648</td><td>2.648105</td><td>0</td><td>244.9139</td><td>13.13114</td><td>9.859274</td><td>0</td><td>138.5529</td><td>12.42743</td><td>4.977406</td><td>0</td><td>0.5657208512869216</td><td>0.006401026006795794</td><td>0.5264435955325992</td><td>0.060459862987763804</td><td>0.0018919426106776987</td><td>0.08748463119953064</td></tr>\n",
       "<tr><td>2</td><td>116.9629</td><td>52.59673</td><td>9.034183</td><td>0</td><td>51.39409</td><td>44.90188</td><td>7.39815</td><td>0</td><td>64.2797</td><td>7.223473</td><td>6.617993</td><td>0</td><td>52.29416</td><td>6.014575</td><td>7.291222</td><td>0</td><td>181.8369</td><td>11.5996</td><td>16.54687</td><td>0</td><td>37.52691</td><td>4.169205</td><td>3.690372</td><td>0</td><td>0.20637675851271112</td><td>0.021678865176341867</td><td>0.2229008133253036</td><td>0.027143914863317953</td><td>0.004412781747401044</td><td>0.04343572346945603</td></tr>\n",
       "<tr><td>3</td><td>295.0035</td><td>0.0</td><td>0.7238898</td><td>0</td><td>20.34645</td><td>50.9314</td><td>0.4781288</td><td>0</td><td>21.25503</td><td>23.63364</td><td>0.4320016</td><td>0</td><td>14.64689</td><td>7.942626</td><td>0.7449239</td><td>0</td><td>22.40354</td><td>14.73625</td><td>0.8888078</td><td>0</td><td>3.859374</td><td>16.66992</td><td>0.2518785</td><td>0</td><td>0.17226625792173916</td><td>0.17855286821060004</td><td>0.01223838468977084</td><td>6.872230375586703</td><td>6.598236507502017</td><td>9.21386599340642</td></tr>\n",
       "<tr><td>4</td><td>213.6354</td><td>50.00315</td><td>4.327431</td><td>0</td><td>0.0</td><td>0.0</td><td>0.0</td><td>0</td><td>122.7841</td><td>14.60981</td><td>7.34291</td><td>0</td><td>54.94538</td><td>13.075</td><td>2.110974</td><td>0</td><td>418.27</td><td>28.17848</td><td>25.79067</td><td>0</td><td>133.1413</td><td>9.142488</td><td>8.093614</td><td>0</td><td>0.31831424677839676</td><td>0.003361059935014224</td><td>0.6232174068529841</td><td>0.03204577655418447</td><td>0.00100422186012563</td><td>0.09787017634556416</td></tr>\n",
       "<tr><td>5</td><td>129.7995</td><td>68.06233</td><td>2.638555</td><td>0</td><td>3.570505</td><td>47.58883</td><td>0.4605937</td><td>0</td><td>9.649635</td><td>7.012145</td><td>1.562424</td><td>0</td><td>50.19369</td><td>8.76984</td><td>4.192921</td><td>0</td><td>36.72042</td><td>5.628926</td><td>3.404545</td><td>0</td><td>26.7472</td><td>4.374588</td><td>3.297989</td><td>0</td><td>0.7284012546697451</td><td>0.194473268150988</td><td>0.20054884154799274</td><td>0.18028618700163646</td><td>1.2663686821427482</td><td>0.12000276651775059</td></tr>\n",
       "<tr><td>6</td><td>59.64645</td><td>39.49405</td><td>2.643844</td><td>0</td><td>214.9941</td><td>131.7551</td><td>0.9242029</td><td>0</td><td>29.5305</td><td>20.33411</td><td>1.339125</td><td>0</td><td>88.88235</td><td>33.88754</td><td>1.427458</td><td>0</td><td>34.51428</td><td>9.096785</td><td>2.37329</td><td>0</td><td>83.44656</td><td>21.11874</td><td>1.412124</td><td>0</td><td>2.4177401353874397</td><td>0.03606918174968211</td><td>0.3038391817959875</td><td>1.1447232694885159</td><td>0.18983204402506162</td><td>0.5857125392504999</td></tr>\n",
       "<tr><td>7</td><td>214.9932</td><td>77.79688</td><td>9.62856</td><td>0</td><td>5.299157</td><td>378.2553</td><td>0.5659652</td><td>0</td><td>114.4035</td><td>10.16365</td><td>9.162242</td><td>0</td><td>40.63301</td><td>9.361188</td><td>3.122903</td><td>0</td><td>367.8805</td><td>12.38555</td><td>31.88556</td><td>0</td><td>136.0415</td><td>7.283781</td><td>11.46271</td><td>0</td><td>0.3697980730155581</td><td>0.002610767946147577</td><td>0.6175497954293531</td><td>0.022621542798595125</td><td>0.0006549799389314251</td><td>0.09667950005956748</td></tr>\n",
       "<tr><td>8</td><td>297.3337</td><td>0.0</td><td>0.517943</td><td>0</td><td>104.8759</td><td>34.29311</td><td>3.711418</td><td>0</td><td>182.9754</td><td>38.33382</td><td>1.433774</td><td>0</td><td>85.52454</td><td>26.7755</td><td>1.266181</td><td>0</td><td>79.5206</td><td>26.14431</td><td>1.116995</td><td>0</td><td>19.26255</td><td>15.46164</td><td>0.6043308</td><td>0</td><td>0.24223345900307594</td><td>0.02426522164951037</td><td>0.04789182058309896</td><td>0.30414997476158334</td><td>0.18934957004947725</td><td>0.06480939050511576</td></tr>\n",
       "<tr><td>9</td><td>4.102431</td><td>0.0</td><td>0.7655823</td><td>0</td><td>37.42653</td><td>26.59085</td><td>1.644992</td><td>0</td><td>80.13692</td><td>20.62696</td><td>1.314559</td><td>0</td><td>131.9563</td><td>0.0</td><td>0.1961446</td><td>0</td><td>11.19851</td><td>5.664833</td><td>0.9219346</td><td>0</td><td>19.04692</td><td>6.240154</td><td>1.526959</td><td>0</td><td>1.700844130156601</td><td>0.08645153826890557</td><td>0.45864186200083357</td><td>239.75546378209273</td><td>0.08782499829921117</td><td>0.030134215090977117</td></tr>\n",
       "<tr><td>...</td><td>...</td><td>...</td><td>...</td><td>...</td><td>...</td><td>...</td><td>...</td><td>...</td><td>...</td><td>...</td><td>...</td><td>...</td><td>...</td><td>...</td><td>...</td><td>...</td><td>...</td><td>...</td><td>...</td><td>...</td><td>...</td><td>...</td><td>...</td><td>...</td><td>...</td><td>...</td><td>...</td><td>...</td><td>...</td><td>...</td></tr>\n",
       "<tr><td>641374</td><td>50.62523</td><td>9.708063</td><td>11.64908</td><td>0</td><td>69.22051</td><td>12.15763</td><td>16.31609</td><td>0</td><td>98.58736</td><td>5.747073</td><td>19.42454</td><td>0</td><td>33.04729</td><td>3.656783</td><td>6.15568</td><td>0</td><td>440.6206</td><td>11.50978</td><td>69.44439</td><td>0</td><td>172.5823</td><td>4.92387</td><td>27.12303</td><td>0</td><td>0.3916800530887571</td><td>0.0019423091759885964</td><td>1.4400370008979877</td><td>0.015154018233614716</td><td>0.00025288947513268364</td><td>0.07979852322655318</td></tr>\n",
       "<tr><td>641375</td><td>0.0</td><td>0.0</td><td>0.0</td><td>0</td><td>125.0705</td><td>39.07922</td><td>1.191539</td><td>0</td><td>14.47432</td><td>11.87446</td><td>0.6694203</td><td>0</td><td>2.97362</td><td>12.05001</td><td>0.2148166</td><td>0</td><td>0.0</td><td>0.0</td><td>0.0</td><td>0</td><td>0.0</td><td>0.0</td><td>0.0</td><td>0</td><td>nan</td><td>inf</td><td>0.0</td><td>nan</td><td>nan</td><td>0.0</td></tr>\n",
       "<tr><td>641376</td><td>0.1207105</td><td>12.88885</td><td>0.0118802</td><td>0</td><td>33.56152</td><td>15.27867</td><td>4.872003</td><td>0</td><td>0.0</td><td>0.0</td><td>0.0</td><td>0</td><td>15.83381</td><td>8.320716</td><td>2.360935</td><td>0</td><td>16.68035</td><td>3.289391</td><td>3.364792</td><td>0</td><td>32.51971</td><td>3.576568</td><td>6.550076</td><td>0</td><td>1.9495819931835965</td><td>inf</td><td>0.9654856438322872</td><td>0.4936300863808103</td><td>nan</td><td>13.143256031811404</td></tr>\n",
       "<tr><td>641379</td><td>600.5265</td><td>50.42589</td><td>83.91415</td><td>0</td><td>662.5776</td><td>44.06093</td><td>109.4421</td><td>0</td><td>479.51</td><td>12.21069</td><td>66.71048</td><td>0</td><td>1287.708</td><td>22.27637</td><td>178.0032</td><td>0</td><td>1781.661</td><td>28.51264</td><td>188.3021</td><td>0</td><td>332.8737</td><td>7.347434</td><td>35.21698</td><td>0</td><td>0.1868333538198344</td><td>0.008067523549113617</td><td>0.26353623584944424</td><td>0.0049963415278052575</td><td>0.0003058311371590482</td><td>0.004740838606129126</td></tr>\n",
       "<tr><td>641380</td><td>8.983627</td><td>21.65874</td><td>1.268456</td><td>0</td><td>211.7966</td><td>53.10347</td><td>2.919005</td><td>0</td><td>76.06757</td><td>25.15371</td><td>1.279762</td><td>0</td><td>137.851</td><td>0.0</td><td>0.3814604</td><td>0</td><td>59.22818</td><td>14.40745</td><td>2.108576</td><td>0</td><td>41.42926</td><td>15.61758</td><td>1.830866</td><td>0</td><td>0.6994856164751305</td><td>0.04374245986351956</td><td>0.18764932241871457</td><td>0.3767275241110767</td><td>0.11789630326668694</td><td>0.08063408203954239</td></tr>\n",
       "<tr><td>641384</td><td>70.5065</td><td>17.02049</td><td>5.419371</td><td>0</td><td>9.225496e-16</td><td>0.0</td><td>2.102937e-16</td><td>0</td><td>28.0718</td><td>7.505869</td><td>2.871501</td><td>0</td><td>9.826018</td><td>4.51053</td><td>1.490833</td><td>0</td><td>70.45833</td><td>5.145789</td><td>7.582046</td><td>0</td><td>27.38733</td><td>4.473897</td><td>2.45164</td><td>0</td><td>0.38870251395399236</td><td>0.012780787070854673</td><td>0.3884369526213895</td><td>0.06916670966125733</td><td>0.008311208685611037</td><td>0.26244006292680044</td></tr>\n",
       "<tr><td>641386</td><td>160.1024</td><td>27.71559</td><td>5.57357</td><td>0</td><td>10.44178</td><td>34.12572</td><td>1.597675</td><td>0</td><td>8.531949</td><td>10.15742</td><td>0.7216423</td><td>0</td><td>24.66601</td><td>11.04525</td><td>1.791547</td><td>0</td><td>43.80958</td><td>10.23839</td><td>2.619523</td><td>0</td><td>67.85996</td><td>11.26378</td><td>3.990015</td><td>0</td><td>1.5489753610968195</td><td>0.04260269305541301</td><td>0.3979025259026723</td><td>0.5473381842865608</td><td>9.41475737638616</td><td>7.8800496393681305</td></tr>\n",
       "<tr><td>641387</td><td>108.3733</td><td>376.1262</td><td>4.045282</td><td>0</td><td>60.3622</td><td>542.5168</td><td>3.160479</td><td>0</td><td>69.65878</td><td>12.13581</td><td>4.549259</td><td>0</td><td>132.7663</td><td>80.1306</td><td>0.3429005</td><td>0</td><td>247.8913</td><td>17.51283</td><td>15.71259</td><td>0</td><td>99.76692</td><td>11.19483</td><td>6.171894</td><td>0</td><td>0.40246236959506043</td><td>0.01910404900101717</td><td>0.5912621825282764</td><td>0.05674840108989944</td><td>0.01289818892567306</td><td>2.086271980179972</td></tr>\n",
       "<tr><td>641389</td><td>17.76692</td><td>19.58613</td><td>3.300128</td><td>0</td><td>21.41701</td><td>15.77201</td><td>5.397708</td><td>0</td><td>13.18189</td><td>5.023009</td><td>2.019652</td><td>0</td><td>13.11031</td><td>5.698148</td><td>1.556646</td><td>0</td><td>22.70494</td><td>5.841574</td><td>3.378865</td><td>0</td><td>18.36746</td><td>6.056262</td><td>3.629372</td><td>0</td><td>0.8089631595591092</td><td>0.05414846814358394</td><td>0.4687498165702113</td><td>0.5267549838654513</td><td>0.34514203194869775</td><td>0.4917466792807444</td></tr>\n",
       "<tr><td>641399</td><td>190.2034</td><td>27.05417</td><td>2.559309</td><td>0</td><td>0.0</td><td>0.0</td><td>0.0</td><td>0</td><td>94.51438</td><td>24.42043</td><td>1.365052</td><td>0</td><td>16.23301</td><td>20.23708</td><td>0.4941676</td><td>0</td><td>33.65402</td><td>19.59786</td><td>0.8082637</td><td>0</td><td>85.98047</td><td>18.55069</td><td>2.372231</td><td>0</td><td>2.5548350538806357</td><td>0.0019975669852989653</td><td>0.45204486355133505</td><td>2428.708539244492</td><td>0.0037199902846185755</td><td>0.8827621657751433</td></tr>\n",
       "</table></div>"
      ],
      "text/plain": [
       "<Table length=577599>\n",
       "  ID   Flux_OII_3726 ...        O3N2_err              N2O2_err      \n",
       "int32     float64    ...        float64               float64       \n",
       "------ ------------- ... ---------------------- --------------------\n",
       "     0           0.0 ...  0.0002788940323672723  0.09309809440111833\n",
       "     1      192.2379 ...  0.0018919426106776987  0.08748463119953064\n",
       "     2      116.9629 ...   0.004412781747401044  0.04343572346945603\n",
       "     3      295.0035 ...      6.598236507502017     9.21386599340642\n",
       "     4      213.6354 ...    0.00100422186012563  0.09787017634556416\n",
       "     5      129.7995 ...     1.2663686821427482  0.12000276651775059\n",
       "     6      59.64645 ...    0.18983204402506162   0.5857125392504999\n",
       "     7      214.9932 ...  0.0006549799389314251  0.09667950005956748\n",
       "     8      297.3337 ...    0.18934957004947725  0.06480939050511576\n",
       "     9      4.102431 ...    0.08782499829921117 0.030134215090977117\n",
       "   ...           ... ...                    ...                  ...\n",
       "641374      50.62523 ... 0.00025288947513268364  0.07979852322655318\n",
       "641375           0.0 ...                    nan                  0.0\n",
       "641376     0.1207105 ...                    nan   13.143256031811404\n",
       "641379      600.5265 ...  0.0003058311371590482 0.004740838606129126\n",
       "641380      8.983627 ...    0.11789630326668694  0.08063408203954239\n",
       "641384       70.5065 ...   0.008311208685611037  0.26244006292680044\n",
       "641386      160.1024 ...       9.41475737638616   7.8800496393681305\n",
       "641387      108.3733 ...    0.01289818892567306    2.086271980179972\n",
       "641389      17.76692 ...    0.34514203194869775   0.4917466792807444\n",
       "641399      190.2034 ...  0.0037199902846185755   0.8827621657751433"
      ]
     },
     "execution_count": 41,
     "metadata": {},
     "output_type": "execute_result"
    }
   ],
   "source": [
    "metallicity_lines"
   ]
  },
  {
   "cell_type": "code",
   "execution_count": 40,
   "id": "366f9d3d",
   "metadata": {},
   "outputs": [],
   "source": [
    "metallicity_lines.write('line_ratios.txt', format = 'ascii.commented_header', overwrite = True,\n",
    "                        include_names = ['ID', 'N2', 'N2O2', 'O3N2', 'N2_err', 'N2O2_err', 'O3N2_err'])"
   ]
  },
  {
   "cell_type": "code",
   "execution_count": null,
   "id": "6b20995a",
   "metadata": {},
   "outputs": [],
   "source": []
  }
 ],
 "metadata": {
  "kernelspec": {
   "display_name": "Python 3 (ipykernel)",
   "language": "python",
   "name": "python3"
  },
  "language_info": {
   "codemirror_mode": {
    "name": "ipython",
    "version": 3
   },
   "file_extension": ".py",
   "mimetype": "text/x-python",
   "name": "python",
   "nbconvert_exporter": "python",
   "pygments_lexer": "ipython3",
   "version": "3.9.12"
  }
 },
 "nbformat": 4,
 "nbformat_minor": 5
}
