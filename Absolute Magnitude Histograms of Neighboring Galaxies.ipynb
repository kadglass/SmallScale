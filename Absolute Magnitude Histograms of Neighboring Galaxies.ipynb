{
 "cells": [
  {
   "cell_type": "markdown",
   "id": "1dfe7c22",
   "metadata": {},
   "source": [
    "# Absolute Magnitude Histograms of Neighboring Galaxies"
   ]
  },
  {
   "cell_type": "markdown",
   "id": "c147770b",
   "metadata": {},
   "source": [
    "## Importing Tables"
   ]
  },
  {
   "cell_type": "code",
   "execution_count": 20,
   "id": "f2df772f",
   "metadata": {},
   "outputs": [],
   "source": [
    "from astropy.table import Table\n",
    "import numpy as np\n",
    "import matplotlib.pyplot as plt\n"
   ]
  },
  {
   "cell_type": "code",
   "execution_count": 21,
   "id": "22caecbe",
   "metadata": {},
   "outputs": [
    {
     "data": {
      "text/html": [
       "<div><i>Table length=5</i>\n",
       "<table id=\"table2263913504624\" class=\"table-striped table-bordered table-condensed\">\n",
       "<thead><tr><th>aimc</th><th>IN_DR7_LSS</th><th>RA</th><th>DEC</th><th>Z</th><th>ELPETRO_ABSMAG_r</th><th>u_r</th><th>sSFR</th><th>HImass</th><th>flag3727</th><th>t3</th><th>Z12logOH</th><th>Zerr</th><th>logNO</th><th>NOerr</th><th>vflag_VF</th><th>ID</th><th>2D_neighbor_ID</th><th>2D_neighbor_dist</th><th>2D_neighbor_ID_vir</th><th>2D_neighbor_dist_vir</th><th>3D_neighbor_ID</th><th>3D_neighbor_dist</th><th>3D_neighbor_ID_vir</th><th>3D_neighbor_dist_vir</th></tr></thead>\n",
       "<thead><tr><th>float64</th><th>float64</th><th>float64</th><th>float64</th><th>float64</th><th>float64</th><th>float64</th><th>float64</th><th>float64</th><th>float64</th><th>float64</th><th>float64</th><th>float64</th><th>float64</th><th>float64</th><th>int32</th><th>int32</th><th>int32</th><th>float64</th><th>int32</th><th>float64</th><th>int32</th><th>float64</th><th>int32</th><th>float64</th></tr></thead>\n",
       "<tr><td>0.0</td><td>1.0</td><td>147.17645340393182</td><td>-0.3540349522432606</td><td>0.006282840855419636</td><td>-15.534673690795898</td><td>1.5979467332363129</td><td>-9.897252082824707</td><td>nan</td><td>nan</td><td>nan</td><td>nan</td><td>nan</td><td>nan</td><td>nan</td><td>2</td><td>12</td><td>49</td><td>0.18150554228021565</td><td>585714</td><td>1.3634632510011546</td><td>573</td><td>0.3210655024172438</td><td>208</td><td>2.3657856725525463</td></tr>\n",
       "<tr><td>106.68</td><td>1.0</td><td>146.85676432411947</td><td>-0.27409664376066756</td><td>0.02196459472179413</td><td>-16.7003231048584</td><td>1.6220477223396301</td><td>-9.639364242553711</td><td>nan</td><td>nan</td><td>nan</td><td>nan</td><td>nan</td><td>nan</td><td>nan</td><td>2</td><td>31</td><td>79</td><td>0.6704515586457357</td><td>92</td><td>2.414294367856323</td><td>80</td><td>0.9556330809587631</td><td>585700</td><td>3.7385754919749274</td></tr>\n",
       "<tr><td>0.0</td><td>1.0</td><td>146.19277353258968</td><td>-0.6882589506846374</td><td>0.004080323036760092</td><td>-15.290872573852539</td><td>1.220979243516922</td><td>-9.548693656921387</td><td>nan</td><td>nan</td><td>nan</td><td>nan</td><td>nan</td><td>nan</td><td>nan</td><td>2</td><td>44</td><td>585695</td><td>0.035663331434249095</td><td>639857</td><td>0.46035331496314846</td><td>585695</td><td>0.221530846641702</td><td>585695</td><td>2.8927174640703734</td></tr>\n",
       "<tr><td>199.39</td><td>1.0</td><td>146.00780426178756</td><td>-0.6422574964819474</td><td>0.004776299931108952</td><td>-15.831652641296387</td><td>0.7728094607591629</td><td>-7.982375621795654</td><td>nan</td><td>0.0</td><td>1.5717060395681055</td><td>7.73051787768279</td><td>0.0179600111522654</td><td>-0.5320566539047968</td><td>0.44255404846002694</td><td>2</td><td>45</td><td>585695</td><td>0.006393284307917346</td><td>585695</td><td>0.08348257342324528</td><td>639857</td><td>0.6010801341408164</td><td>639857</td><td>7.109919536505821</td></tr>\n",
       "<tr><td>0.0</td><td>1.0</td><td>146.6190367018052</td><td>-0.43434631860351913</td><td>0.006036635022610426</td><td>-16.34455108642578</td><td>1.7559601366519928</td><td>-9.769034385681152</td><td>nan</td><td>nan</td><td>nan</td><td>nan</td><td>nan</td><td>nan</td><td>nan</td><td>2</td><td>49</td><td>585714</td><td>0.07059729101415332</td><td>585714</td><td>0.4172620229334301</td><td>585714</td><td>0.3596492056527832</td><td>585714</td><td>2.125689993784549</td></tr>\n",
       "</table></div>"
      ],
      "text/plain": [
       "<Table length=5>\n",
       "  aimc  IN_DR7_LSS ... 3D_neighbor_ID_vir 3D_neighbor_dist_vir\n",
       "float64  float64   ...       int32              float64       \n",
       "------- ---------- ... ------------------ --------------------\n",
       "    0.0        1.0 ...                208   2.3657856725525463\n",
       " 106.68        1.0 ...             585700   3.7385754919749274\n",
       "    0.0        1.0 ...             585695   2.8927174640703734\n",
       " 199.39        1.0 ...             639857    7.109919536505821\n",
       "    0.0        1.0 ...             585714    2.125689993784549"
      ]
     },
     "execution_count": 21,
     "metadata": {},
     "output_type": "execute_result"
    }
   ],
   "source": [
    "dwarf_table = Table.read('dwarf_table.txt', format = 'ascii.commented_header')\n",
    "dwarf_table[:5]"
   ]
  },
  {
   "cell_type": "code",
   "execution_count": 22,
   "id": "e5c952e8",
   "metadata": {},
   "outputs": [
    {
     "data": {
      "text/html": [
       "<div><i>Table length=5</i>\n",
       "<table id=\"table2263915142256\" class=\"table-striped table-bordered table-condensed\">\n",
       "<thead><tr><th>aimc</th><th>IN_DR7_LSS</th><th>RA</th><th>DEC</th><th>Z</th><th>ELPETRO_ABSMAG_r</th><th>u_r</th><th>sSFR</th><th>HImass</th><th>flag3727</th><th>t3</th><th>Z12logOH</th><th>Zerr</th><th>logNO</th><th>NOerr</th><th>vflag_VF</th><th>ID#</th><th>gamma_ratio</th></tr></thead>\n",
       "<thead><tr><th>float64</th><th>float64</th><th>float64</th><th>float64</th><th>float64</th><th>float64</th><th>float64</th><th>float64</th><th>float64</th><th>float64</th><th>float64</th><th>float64</th><th>float64</th><th>float64</th><th>float64</th><th>int32</th><th>int32</th><th>int32</th></tr></thead>\n",
       "<tr><td>-99.0</td><td>0.0</td><td>146.714215072841</td><td>-1.0412800233313741</td><td>0.021222278475761414</td><td>-19.30365562438965</td><td>2.3124398291110992</td><td>nan</td><td>nan</td><td>nan</td><td>nan</td><td>nan</td><td>nan</td><td>nan</td><td>nan</td><td>9</td><td>0</td><td>1</td></tr>\n",
       "<tr><td>1.0</td><td>1.0</td><td>146.6285851269414</td><td>-0.7651620976591762</td><td>0.0646563172340393</td><td>-19.97649574279785</td><td>2.976039946079254</td><td>-11.241625785827637</td><td>nan</td><td>nan</td><td>nan</td><td>nan</td><td>nan</td><td>nan</td><td>nan</td><td>2</td><td>1</td><td>2</td></tr>\n",
       "<tr><td>-99.0</td><td>0.0</td><td>146.63170644325592</td><td>-0.9883467023052999</td><td>0.05265425145626068</td><td>-18.431812286376953</td><td>1.7119742929935455</td><td>nan</td><td>nan</td><td>nan</td><td>nan</td><td>nan</td><td>nan</td><td>nan</td><td>nan</td><td>2</td><td>2</td><td>1</td></tr>\n",
       "<tr><td>1.0</td><td>1.0</td><td>146.9341288729797</td><td>-0.6704053610430766</td><td>0.12127048522233963</td><td>-21.559162139892578</td><td>3.0934733152389526</td><td>-11.71275806427002</td><td>nan</td><td>nan</td><td>nan</td><td>nan</td><td>nan</td><td>nan</td><td>nan</td><td>9</td><td>3</td><td>2</td></tr>\n",
       "<tr><td>-99.0</td><td>1.0</td><td>146.9634997327016</td><td>-0.5447758299302171</td><td>0.055980585515499115</td><td>-19.10099220275879</td><td>2.044341266155243</td><td>nan</td><td>nan</td><td>nan</td><td>nan</td><td>nan</td><td>nan</td><td>nan</td><td>nan</td><td>2</td><td>4</td><td>1</td></tr>\n",
       "</table></div>"
      ],
      "text/plain": [
       "<Table length=5>\n",
       "  aimc  IN_DR7_LSS         RA         ... vflag_VF  ID#  gamma_ratio\n",
       "float64  float64        float64       ...  int32   int32    int32   \n",
       "------- ---------- ------------------ ... -------- ----- -----------\n",
       "  -99.0        0.0   146.714215072841 ...        9     0           1\n",
       "    1.0        1.0  146.6285851269414 ...        2     1           2\n",
       "  -99.0        0.0 146.63170644325592 ...        2     2           1\n",
       "    1.0        1.0  146.9341288729797 ...        9     3           2\n",
       "  -99.0        1.0  146.9634997327016 ...        2     4           1"
      ]
     },
     "execution_count": 22,
     "metadata": {},
     "output_type": "execute_result"
    }
   ],
   "source": [
    "gal_table = Table.read('gal_table.txt', format = 'ascii.commented_header')\n",
    "gal_table[:5]"
   ]
  },
  {
   "cell_type": "code",
   "execution_count": 24,
   "id": "7acc329a",
   "metadata": {},
   "outputs": [],
   "source": [
    "#creating the new columns\n",
    "dwarf_table['2D_neighbor_ABSMAG_r'] = np.nan\n",
    "dwarf_table['2D_neighbor_ABSMAG_r_diff'] = np.nan\n",
    "\n",
    "dwarf_table['2D_neighbor_vir_ABSMAG_r'] = np.nan\n",
    "dwarf_table['2D_neighbor_vir_ABSMAG_r_diff'] = np.nan\n",
    "\n"
   ]
  },
  {
   "cell_type": "code",
   "execution_count": 25,
   "id": "4a97077b",
   "metadata": {},
   "outputs": [],
   "source": [
    "for i in range(len(dwarf_table)):\n",
    "    \n",
    "    di = gal_table['ID#'] == dwarf_table['2D_neighbor_ID'][i] #finding 2D neighboring galaxy in the large table\n",
    "    \n",
    "    v = gal_table['ID#'] == dwarf_table['2D_neighbor_ID'][i]\n",
    "    \n",
    "    dwarf_table['2D_neighbor_ABSMAG_r'][i] = gal_table['ELPETRO_ABSMAG_r'][di]\n",
    "    dwarf_table['2D_neighbor_ABSMAG_r_diff'][i] = gal_table['ELPETRO_ABSMAG_r'][di] - dwarf_table['ELPETRO_ABSMAG_r'][i] \n",
    "    \n",
    "    dwarf_table['2D_neighbor_vir_ABSMAG_r'][i] = gal_table['ELPETRO_ABSMAG_r'][v]\n",
    "    dwarf_table['2D_neighbor_vir_ABSMAG_r_diff'][i] = gal_table['ELPETRO_ABSMAG_r'][v] - dwarf_table['ELPETRO_ABSMAG_r'][i] "
   ]
  },
  {
   "cell_type": "code",
   "execution_count": 10,
   "id": "211c87b1",
   "metadata": {},
   "outputs": [
    {
     "data": {
      "text/html": [
       "<div><i>Table length=12950</i>\n",
       "<table id=\"table2263809213440\" class=\"table-striped table-bordered table-condensed\">\n",
       "<thead><tr><th>aimc</th><th>IN_DR7_LSS</th><th>RA</th><th>DEC</th><th>Z</th><th>ELPETRO_ABSMAG_r</th><th>u_r</th><th>sSFR</th><th>HImass</th><th>flag3727</th><th>t3</th><th>Z12logOH</th><th>Zerr</th><th>logNO</th><th>NOerr</th><th>vflag_VF</th><th>ID</th><th>2D_neighbor_ID</th><th>2D_neighbor_dist</th><th>2D_neighbor_ID_vir</th><th>2D_neighbor_dist_vir</th><th>3D_neighbor_ID</th><th>3D_neighbor_dist</th><th>3D_neighbor_ID_vir</th><th>3D_neighbor_dist_vir</th><th>2D_neighbor_ABSMAG_r</th><th>2D_neighbor_ABSMAG_r_diff</th><th>2D_neighbor_vir_ABSMAG_r</th><th>2D_neighbor_vir_ABSMAG_r_diff</th></tr></thead>\n",
       "<thead><tr><th>float64</th><th>float64</th><th>float64</th><th>float64</th><th>float64</th><th>float64</th><th>float64</th><th>float64</th><th>float64</th><th>float64</th><th>float64</th><th>float64</th><th>float64</th><th>float64</th><th>float64</th><th>int32</th><th>int32</th><th>int32</th><th>float64</th><th>int32</th><th>float64</th><th>int32</th><th>float64</th><th>int32</th><th>float64</th><th>float64</th><th>float64</th><th>float64</th><th>float64</th></tr></thead>\n",
       "<tr><td>0.0</td><td>1.0</td><td>147.17645340393182</td><td>-0.3540349522432606</td><td>0.006282840855419636</td><td>-15.534673690795898</td><td>1.5979467332363129</td><td>-9.897252082824707</td><td>nan</td><td>nan</td><td>nan</td><td>nan</td><td>nan</td><td>nan</td><td>nan</td><td>2</td><td>12</td><td>49</td><td>0.18150554228021565</td><td>585714</td><td>1.3634632510011546</td><td>573</td><td>0.3210655024172438</td><td>208</td><td>2.3657856725525463</td><td>-16.34455108642578</td><td>-0.8098773956298828</td><td>-16.34455108642578</td><td>-0.8098773956298828</td></tr>\n",
       "<tr><td>106.68</td><td>1.0</td><td>146.85676432411947</td><td>-0.27409664376066756</td><td>0.02196459472179413</td><td>-16.7003231048584</td><td>1.6220477223396301</td><td>-9.639364242553711</td><td>nan</td><td>nan</td><td>nan</td><td>nan</td><td>nan</td><td>nan</td><td>nan</td><td>2</td><td>31</td><td>79</td><td>0.6704515586457357</td><td>92</td><td>2.414294367856323</td><td>80</td><td>0.9556330809587631</td><td>585700</td><td>3.7385754919749274</td><td>-17.468507766723633</td><td>-0.7681846618652344</td><td>-17.468507766723633</td><td>-0.7681846618652344</td></tr>\n",
       "<tr><td>0.0</td><td>1.0</td><td>146.19277353258968</td><td>-0.6882589506846374</td><td>0.004080323036760092</td><td>-15.290872573852539</td><td>1.220979243516922</td><td>-9.548693656921387</td><td>nan</td><td>nan</td><td>nan</td><td>nan</td><td>nan</td><td>nan</td><td>nan</td><td>2</td><td>44</td><td>585695</td><td>0.035663331434249095</td><td>639857</td><td>0.46035331496314846</td><td>585695</td><td>0.221530846641702</td><td>585695</td><td>2.8927174640703734</td><td>-16.230024337768555</td><td>-0.9391517639160156</td><td>-16.230024337768555</td><td>-0.9391517639160156</td></tr>\n",
       "<tr><td>199.39</td><td>1.0</td><td>146.00780426178756</td><td>-0.6422574964819474</td><td>0.004776299931108952</td><td>-15.831652641296387</td><td>0.7728094607591629</td><td>-7.982375621795654</td><td>nan</td><td>0.0</td><td>1.5717060395681055</td><td>7.73051787768279</td><td>0.0179600111522654</td><td>-0.5320566539047968</td><td>0.44255404846002694</td><td>2</td><td>45</td><td>585695</td><td>0.006393284307917346</td><td>585695</td><td>0.08348257342324528</td><td>639857</td><td>0.6010801341408164</td><td>639857</td><td>7.109919536505821</td><td>-16.230024337768555</td><td>-0.39837169647216797</td><td>-16.230024337768555</td><td>-0.39837169647216797</td></tr>\n",
       "<tr><td>0.0</td><td>1.0</td><td>146.6190367018052</td><td>-0.43434631860351913</td><td>0.006036635022610426</td><td>-16.34455108642578</td><td>1.7559601366519928</td><td>-9.769034385681152</td><td>nan</td><td>nan</td><td>nan</td><td>nan</td><td>nan</td><td>nan</td><td>nan</td><td>2</td><td>49</td><td>585714</td><td>0.07059729101415332</td><td>585714</td><td>0.4172620229334301</td><td>585714</td><td>0.3596492056527832</td><td>585714</td><td>2.125689993784549</td><td>-18.811906814575195</td><td>-2.467355728149414</td><td>-18.811906814575195</td><td>-2.467355728149414</td></tr>\n",
       "<tr><td>21.37</td><td>1.0</td><td>146.28299647851426</td><td>0.0641463074401177</td><td>0.021579895168542862</td><td>-16.594152450561523</td><td>2.861306369304657</td><td>-10.189197540283203</td><td>nan</td><td>nan</td><td>nan</td><td>nan</td><td>nan</td><td>nan</td><td>nan</td><td>2</td><td>91</td><td>80</td><td>0.038323438909891316</td><td>92</td><td>0.17226127693210824</td><td>92</td><td>0.10268810550034341</td><td>92</td><td>0.3052372880294029</td><td>-18.4257755279541</td><td>-1.8316230773925781</td><td>-18.4257755279541</td><td>-1.8316230773925781</td></tr>\n",
       "<tr><td>0.0</td><td>1.0</td><td>145.3209420527222</td><td>0.771115298508063</td><td>0.00658948952332139</td><td>-14.810564994812012</td><td>1.925416886806488</td><td>-9.748167991638184</td><td>nan</td><td>0.0</td><td>3.57494352664153</td><td>7.007952737418975</td><td>0.2935407103312847</td><td>-0.9956427104372425</td><td>0.4090425521885854</td><td>2</td><td>186</td><td>208</td><td>0.16133006586884238</td><td>208</td><td>0.576340261650062</td><td>208</td><td>0.6516081633066332</td><td>208</td><td>2.3278241244801396</td><td>-20.45183563232422</td><td>-5.641270637512207</td><td>-20.45183563232422</td><td>-5.641270637512207</td></tr>\n",
       "<tr><td>-99.0</td><td>1.0</td><td>145.4212238164792</td><td>0.5359777701124617</td><td>0.1459859162569046</td><td>-14.866592407226562</td><td>-3.4473413228988647</td><td>nan</td><td>nan</td><td>nan</td><td>nan</td><td>nan</td><td>nan</td><td>nan</td><td>nan</td><td>9</td><td>209</td><td>206</td><td>0.23624643923335842</td><td>206</td><td>0.5428900018158784</td><td>206</td><td>0.53709656480362</td><td>206</td><td>1.2342380947105809</td><td>-21.88896369934082</td><td>-7.022371292114258</td><td>-21.88896369934082</td><td>-7.022371292114258</td></tr>\n",
       "<tr><td>0.0</td><td>1.0</td><td>146.26576246056774</td><td>1.2304320197663696</td><td>0.006355164106935263</td><td>-14.2352876663208</td><td>1.6930833458900452</td><td>-9.700735092163086</td><td>nan</td><td>0.0</td><td>4.040375795270858</td><td>7.048466376827344</td><td>0.3785143362106475</td><td>-1.2323400004904403</td><td>0.5170923842950506</td><td>2</td><td>238</td><td>55137</td><td>0.13915957213413985</td><td>55243</td><td>0.8924983833408165</td><td>55137</td><td>0.18685834815465546</td><td>208</td><td>1.4133282793228592</td><td>-14.308648109436035</td><td>-0.07336044311523438</td><td>-14.308648109436035</td><td>-0.07336044311523438</td></tr>\n",
       "<tr><td>2.0</td><td>1.0</td><td>146.0454337391056</td><td>0.17976464937135217</td><td>0.011124187149107456</td><td>-16.65953826904297</td><td>1.9549891352653503</td><td>-9.48812198638916</td><td>nan</td><td>0.0</td><td>0.8719724346175348</td><td>8.582080122358757</td><td>0.2984090656160034</td><td>-1.430188311491932</td><td>0.32451776651737074</td><td>2</td><td>254</td><td>54956</td><td>1.4001952825790003</td><td>77446</td><td>11.368924619290762</td><td>54956</td><td>1.6348528134242828</td><td>626</td><td>12.31200649897427</td><td>-15.580753326416016</td><td>1.0787849426269531</td><td>-15.580753326416016</td><td>1.0787849426269531</td></tr>\n",
       "<tr><td>...</td><td>...</td><td>...</td><td>...</td><td>...</td><td>...</td><td>...</td><td>...</td><td>...</td><td>...</td><td>...</td><td>...</td><td>...</td><td>...</td><td>...</td><td>...</td><td>...</td><td>...</td><td>...</td><td>...</td><td>...</td><td>...</td><td>...</td><td>...</td><td>...</td><td>...</td><td>...</td><td>...</td><td>...</td></tr>\n",
       "<tr><td>0.0</td><td>1.0</td><td>185.11534575536984</td><td>1.4697403700576224</td><td>0.005367112811654806</td><td>-16.99053192138672</td><td>1.5569166839122772</td><td>-10.174919128417969</td><td>9.15</td><td>0.0</td><td>6.328823551593593</td><td>6.528073645761513</td><td>0.173028013765695</td><td>-0.8062691763949887</td><td>0.23739017922032943</td><td>2</td><td>640890</td><td>64435</td><td>0.1204015917334063</td><td>620206</td><td>2.8104190268972493</td><td>64435</td><td>0.13891726626288028</td><td>590001</td><td>3.558928377255788</td><td>-13.939030647277832</td><td>3.0515012741088867</td><td>-13.939030647277832</td><td>3.0515012741088867</td></tr>\n",
       "<tr><td>-99.0</td><td>1.0</td><td>188.9990109305703</td><td>1.8083450149019276</td><td>0.023000000044703484</td><td>-15.320223808288574</td><td>2.4160732328891754</td><td>nan</td><td>nan</td><td>nan</td><td>nan</td><td>nan</td><td>nan</td><td>nan</td><td>nan</td><td>2</td><td>640946</td><td>65174</td><td>1.442433052038104</td><td>8212</td><td>4.476453081146994</td><td>590369</td><td>1.6957723093010066</td><td>8212</td><td>4.477660809413533</td><td>-16.997364044189453</td><td>-1.677140235900879</td><td>-16.997364044189453</td><td>-1.677140235900879</td></tr>\n",
       "<tr><td>-99.0</td><td>1.0</td><td>192.64431301412273</td><td>0.4338367053477877</td><td>0.007400000002235174</td><td>-13.532980918884277</td><td>2.1651463210582733</td><td>nan</td><td>nan</td><td>nan</td><td>nan</td><td>nan</td><td>nan</td><td>nan</td><td>nan</td><td>2</td><td>640952</td><td>19437</td><td>0.8194009054040303</td><td>590174</td><td>8.904779270786932</td><td>19437</td><td>0.9725201816793569</td><td>589944</td><td>9.083768504727468</td><td>-14.595080375671387</td><td>-1.0620994567871094</td><td>-14.595080375671387</td><td>-1.0620994567871094</td></tr>\n",
       "<tr><td>-99.0</td><td>1.0</td><td>191.06097499950573</td><td>0.1087305555443768</td><td>0.08229999989271164</td><td>inf</td><td>-0.0</td><td>nan</td><td>nan</td><td>nan</td><td>nan</td><td>nan</td><td>nan</td><td>nan</td><td>nan</td><td>0</td><td>640973</td><td>8363</td><td>0.35273580137706434</td><td>8363</td><td>0.8875457262970998</td><td>8363</td><td>0.361487538353881</td><td>8363</td><td>0.9095666459801195</td><td>-20.84092903137207</td><td>-inf</td><td>-20.84092903137207</td><td>-inf</td></tr>\n",
       "<tr><td>-99.0</td><td>1.0</td><td>192.80763257494428</td><td>-2.455246110855317</td><td>0.14059999585151672</td><td>-13.76870346069336</td><td>nan</td><td>nan</td><td>nan</td><td>nan</td><td>nan</td><td>nan</td><td>nan</td><td>nan</td><td>nan</td><td>9</td><td>641000</td><td>19243</td><td>0.8663942052486372</td><td>19243</td><td>1.561004474812941</td><td>19243</td><td>1.4099108707018995</td><td>19243</td><td>2.5402722743528376</td><td>-21.928823471069336</td><td>-8.160120010375977</td><td>-21.928823471069336</td><td>-8.160120010375977</td></tr>\n",
       "<tr><td>-99.0</td><td>1.0</td><td>188.89380818960447</td><td>-1.8498849999786775</td><td>0.13979999721050262</td><td>-13.594388961791992</td><td>3.202684223651886</td><td>nan</td><td>nan</td><td>nan</td><td>nan</td><td>nan</td><td>nan</td><td>nan</td><td>nan</td><td>9</td><td>641020</td><td>7992</td><td>5.655484317566962</td><td>7992</td><td>11.769082154613754</td><td>620862</td><td>3.983740582399639</td><td>7992</td><td>11.798339825401921</td><td>-21.459442138671875</td><td>-7.865053176879883</td><td>-21.459442138671875</td><td>-7.865053176879883</td></tr>\n",
       "<tr><td>-99.0</td><td>1.0</td><td>195.7974241855557</td><td>-0.645610216098114</td><td>0.010599999688565731</td><td>-15.815028190612793</td><td>2.627665400505066</td><td>nan</td><td>nan</td><td>nan</td><td>nan</td><td>nan</td><td>nan</td><td>nan</td><td>nan</td><td>2</td><td>641081</td><td>591337</td><td>0.4898247444932265</td><td>591097</td><td>8.49333429588214</td><td>591337</td><td>1.5759606959945431</td><td>591097</td><td>8.928302501380742</td><td>-14.790029525756836</td><td>1.024998664855957</td><td>-14.790029525756836</td><td>1.024998664855957</td></tr>\n",
       "<tr><td>-99.0</td><td>1.0</td><td>199.29944584044983</td><td>0.9865909797474982</td><td>0.0026000000070780516</td><td>-12.417573928833008</td><td>1.611286848783493</td><td>nan</td><td>nan</td><td>nan</td><td>nan</td><td>nan</td><td>nan</td><td>nan</td><td>nan</td><td>2</td><td>641142</td><td>67346</td><td>0.4020258984385085</td><td>67346</td><td>2.6060658307116027</td><td>559443</td><td>0.8596800301260439</td><td>590744</td><td>5.747123274989908</td><td>-18.511077880859375</td><td>-6.093503952026367</td><td>-18.511077880859375</td><td>-6.093503952026367</td></tr>\n",
       "<tr><td>2.0</td><td>1.0</td><td>201.71723972959848</td><td>-2.576901005405034</td><td>0.01229129545390606</td><td>-16.897815704345703</td><td>1.4540192484855652</td><td>-9.589588165283203</td><td>nan</td><td>0.0</td><td>2.02382629018129</td><td>7.52096586425454</td><td>0.3226054289594516</td><td>-1.1888047345201729</td><td>0.4384916921619206</td><td>2</td><td>641198</td><td>591791</td><td>0.21703169083399224</td><td>591804</td><td>2.497833190089756</td><td>158934</td><td>0.2865101877937501</td><td>591804</td><td>2.5133431963196426</td><td>-14.780978202819824</td><td>2.116837501525879</td><td>-14.780978202819824</td><td>2.116837501525879</td></tr>\n",
       "<tr><td>-99.0</td><td>1.0</td><td>210.0654273046183</td><td>-0.2611656048323169</td><td>0.062199998646974564</td><td>-16.961034774780273</td><td>1.6531676054000854</td><td>nan</td><td>nan</td><td>nan</td><td>nan</td><td>nan</td><td>nan</td><td>nan</td><td>nan</td><td>1</td><td>641301</td><td>628341</td><td>5.523023742934556</td><td>11725</td><td>26.65616304979293</td><td>628341</td><td>5.857288439396368</td><td>12020</td><td>18.433666392593494</td><td>-17.14265251159668</td><td>-0.18161773681640625</td><td>-17.14265251159668</td><td>-0.18161773681640625</td></tr>\n",
       "</table></div>"
      ],
      "text/plain": [
       "<Table length=12950>\n",
       "  aimc  IN_DR7_LSS ... 2D_neighbor_vir_ABSMAG_r 2D_neighbor_vir_ABSMAG_r_diff\n",
       "float64  float64   ...         float64                     float64           \n",
       "------- ---------- ... ------------------------ -----------------------------\n",
       "    0.0        1.0 ...       -16.34455108642578           -0.8098773956298828\n",
       " 106.68        1.0 ...      -17.468507766723633           -0.7681846618652344\n",
       "    0.0        1.0 ...      -16.230024337768555           -0.9391517639160156\n",
       " 199.39        1.0 ...      -16.230024337768555          -0.39837169647216797\n",
       "    0.0        1.0 ...      -18.811906814575195            -2.467355728149414\n",
       "  21.37        1.0 ...        -18.4257755279541           -1.8316230773925781\n",
       "    0.0        1.0 ...       -20.45183563232422            -5.641270637512207\n",
       "  -99.0        1.0 ...       -21.88896369934082            -7.022371292114258\n",
       "    0.0        1.0 ...      -14.308648109436035          -0.07336044311523438\n",
       "    2.0        1.0 ...      -15.580753326416016            1.0787849426269531\n",
       "    ...        ... ...                      ...                           ...\n",
       "    0.0        1.0 ...      -13.939030647277832            3.0515012741088867\n",
       "  -99.0        1.0 ...      -16.997364044189453            -1.677140235900879\n",
       "  -99.0        1.0 ...      -14.595080375671387           -1.0620994567871094\n",
       "  -99.0        1.0 ...       -20.84092903137207                          -inf\n",
       "  -99.0        1.0 ...      -21.928823471069336            -8.160120010375977\n",
       "  -99.0        1.0 ...      -21.459442138671875            -7.865053176879883\n",
       "  -99.0        1.0 ...      -14.790029525756836             1.024998664855957\n",
       "  -99.0        1.0 ...      -18.511077880859375            -6.093503952026367\n",
       "    2.0        1.0 ...      -14.780978202819824             2.116837501525879\n",
       "  -99.0        1.0 ...       -17.14265251159668          -0.18161773681640625"
      ]
     },
     "execution_count": 10,
     "metadata": {},
     "output_type": "execute_result"
    }
   ],
   "source": [
    "dwarf_table\n"
   ]
  },
  {
   "cell_type": "code",
   "execution_count": 55,
   "id": "549bc6e3",
   "metadata": {},
   "outputs": [],
   "source": [
    "# Separating into Void, Wall, or Other Dwarf Galaxies\n",
    "\n",
    "mask = dwarf_table['vflag_VF'] == 0  # Makes a boolean selection mask (numpy array)\n",
    "dwarf_wall= dwarf_table[mask]\n",
    "\n",
    "mask1 = dwarf_table['vflag_VF'] == 1  # Makes a boolean selection mask (numpy array)\n",
    "dwarf_void= dwarf_table[mask1]\n"
   ]
  },
  {
   "cell_type": "code",
   "execution_count": 86,
   "id": "7bc2819d",
   "metadata": {},
   "outputs": [
    {
     "data": {
      "image/png": "[encoded data removed]",
      "text/plain": [
       "<Figure size 1008x504 with 4 Axes>"
      ]
     },
     "metadata": {
      "needs_background": "light"
     },
     "output_type": "display_data"
    }
   ],
   "source": [
    "import matplotlib.pyplot as plt\n",
    "import numpy as np\n",
    "from matplotlib import colors\n",
    "from matplotlib.ticker import PercentFormatter\n",
    "\n",
    "plt.rcParams[\"figure.figsize\"] = (10,6) #increase size of figure\n",
    "\n",
    "n_bins = 30\n",
    "\n",
    "# Generate two normal distributions\n",
    "dist1 = dwarf_wall['2D_neighbor_ABSMAG_r']\n",
    "dist2 = dwarf_void['2D_neighbor_ABSMAG_r']\n",
    "\n",
    "dist3 = dwarf_wall['2D_neighbor_ABSMAG_r_diff']\n",
    "dist4 = dwarf_void['2D_neighbor_ABSMAG_r_diff']\n",
    "\n",
    "dist5 = dwarf_wall['2D_neighbor_vir_ABSMAG_r']\n",
    "dist6 = dwarf_void['2D_neighbor_vir_ABSMAG_r']\n",
    "\n",
    "dist7 = dwarf_wall['2D_neighbor_vir_ABSMAG_r_diff']\n",
    "dist8 = dwarf_void['2D_neighbor_vir_ABSMAG_r_diff']\n",
    "\n",
    "\n",
    "fig, axs = plt.subplots(2,2, figsize=(14,7), tight_layout=True)\n",
    "\n",
    "\n",
    "axs[0,0].hist(dist1[~np.isinf(dist1)], bins=n_bins, alpha=0.5, label='wall', color= 'k', edgecolor = 'k')\n",
    "axs[0,0].hist(dist2[~np.isinf(dist2)], bins=n_bins, alpha=0.5, label='void', color = 'r', edgecolor = 'r');\n",
    "\n",
    "axs[0,1].hist(dist3[~np.isinf(dist3)], bins=n_bins, alpha=0.5, label='wall', color= 'k', edgecolor = 'k')\n",
    "axs[0,1].hist(dist4[~np.isinf(dist4)], bins=n_bins, alpha=0.5, label='void', color = 'r', edgecolor = 'r');\n",
    "\n",
    "axs[1,0].hist(dist5[~np.isinf(dist5)], bins=n_bins, alpha=0.5, label='wall', color= 'k', edgecolor = 'k')\n",
    "axs[1,0].hist(dist6[~np.isinf(dist6)], bins=n_bins, alpha=0.5, label='void', color = 'r', edgecolor = 'r');\n",
    "\n",
    "axs[1,1].hist(dist7[~np.isinf(dist7)], bins=n_bins, alpha=0.5, label='wall', color= 'k', edgecolor = 'k')\n",
    "axs[1,1].hist(dist8[~np.isinf(dist8)], bins=n_bins, alpha=0.5, label='void', color = 'r', edgecolor = 'r');\n",
    "\n",
    "# set labels\n",
    "plt.setp(axs[0,0], xlabel='$M_{r}$')\n",
    "plt.setp(axs[0,0], ylabel='Number of Galaxies')\n",
    "\n",
    "plt.setp(axs[0,1], xlabel='Δ$M_{r}$ (neighbor - target)')\n",
    "plt.setp(axs[0,1], ylabel='Number of Galaxies')\n",
    "\n",
    "plt.setp(axs[1,0], xlabel='$M_{r}$ (vir)')\n",
    "plt.setp(axs[1,0], ylabel='Number of Galaxies')\n",
    "\n",
    "plt.setp(axs[1,1], xlabel='Δ$M_{r}$ (neighbor - target) (vir)')\n",
    "plt.setp(axs[1,1], ylabel='Number of Galaxies')\n",
    "\n",
    "axs[0,0].legend()\n",
    "axs[0,1].legend()\n",
    "axs[1,0].legend()\n",
    "axs[1,1].legend()\n",
    "\n",
    "fig.savefig('ABSMAG_2D_neighbor_hist.png')"
   ]
  },
  {
   "cell_type": "code",
   "execution_count": 81,
   "id": "9df3198a",
   "metadata": {},
   "outputs": [
    {
     "data": {
      "image/png": "[encoded data removed]",
      "text/plain": [
       "<Figure size 720x432 with 1 Axes>"
      ]
     },
     "metadata": {
      "needs_background": "light"
     },
     "output_type": "display_data"
    }
   ],
   "source": [
    "plt.rcParams[\"figure.figsize\"] = (10,6) #increase size of figure\n",
    "\n",
    "#x = dwarf_table[np.isfinite(dwarf_table['2D_neighbor_ABSMAG_r'])].values\n",
    "\n",
    "#plt.hist(x, 20)\n",
    "\n",
    "x = dwarf_table['2D_neighbor_ABSMAG_r_diff']\n",
    "#x= x[~np.isnan(x)]\n",
    "plt.hist(x[~np.isinf(x)], 20)\n",
    "\n",
    "#df[np.isfinite(df['distance'])]\n",
    "\n",
    "plt.show()"
   ]
  },
  {
   "cell_type": "code",
   "execution_count": null,
   "id": "bf40b5de",
   "metadata": {},
   "outputs": [],
   "source": []
  },
  {
   "cell_type": "code",
   "execution_count": 87,
   "id": "4e6fe1e0",
   "metadata": {},
   "outputs": [
    {
     "data": {
      "text/html": [
       "<div><i>Table length=12950</i>\n",
       "<table id=\"table2263857785728\" class=\"table-striped table-bordered table-condensed\">\n",
       "<thead><tr><th>aimc</th><th>IN_DR7_LSS</th><th>RA</th><th>DEC</th><th>Z</th><th>ELPETRO_ABSMAG_r</th><th>u_r</th><th>sSFR</th><th>HImass</th><th>flag3727</th><th>t3</th><th>Z12logOH</th><th>Zerr</th><th>logNO</th><th>NOerr</th><th>vflag_VF</th><th>ID</th><th>2D_neighbor_ID</th><th>2D_neighbor_dist</th><th>2D_neighbor_ID_vir</th><th>2D_neighbor_dist_vir</th><th>3D_neighbor_ID</th><th>3D_neighbor_dist</th><th>3D_neighbor_ID_vir</th><th>3D_neighbor_dist_vir</th><th>2D_neighbor_ABSMAG_r</th><th>2D_neighbor_ABSMAG_r_diff</th><th>2D_neighbor_vir_ABSMAG_r</th><th>2D_neighbor_vir_ABSMAG_r_diff</th></tr></thead>\n",
       "<thead><tr><th>float64</th><th>float64</th><th>float64</th><th>float64</th><th>float64</th><th>float64</th><th>float64</th><th>float64</th><th>float64</th><th>float64</th><th>float64</th><th>float64</th><th>float64</th><th>float64</th><th>float64</th><th>int32</th><th>int32</th><th>int32</th><th>float64</th><th>int32</th><th>float64</th><th>int32</th><th>float64</th><th>int32</th><th>float64</th><th>float64</th><th>float64</th><th>float64</th><th>float64</th></tr></thead>\n",
       "<tr><td>0.0</td><td>1.0</td><td>147.17645340393182</td><td>-0.3540349522432606</td><td>0.006282840855419636</td><td>-15.534673690795898</td><td>1.5979467332363129</td><td>-9.897252082824707</td><td>nan</td><td>nan</td><td>nan</td><td>nan</td><td>nan</td><td>nan</td><td>nan</td><td>2</td><td>12</td><td>49</td><td>0.18150554228021565</td><td>585714</td><td>1.3634632510011546</td><td>573</td><td>0.3210655024172438</td><td>208</td><td>2.3657856725525463</td><td>-16.34455108642578</td><td>-0.8098773956298828</td><td>-16.34455108642578</td><td>-0.8098773956298828</td></tr>\n",
       "<tr><td>106.68</td><td>1.0</td><td>146.85676432411947</td><td>-0.27409664376066756</td><td>0.02196459472179413</td><td>-16.7003231048584</td><td>1.6220477223396301</td><td>-9.639364242553711</td><td>nan</td><td>nan</td><td>nan</td><td>nan</td><td>nan</td><td>nan</td><td>nan</td><td>2</td><td>31</td><td>79</td><td>0.6704515586457357</td><td>92</td><td>2.414294367856323</td><td>80</td><td>0.9556330809587631</td><td>585700</td><td>3.7385754919749274</td><td>-17.468507766723633</td><td>-0.7681846618652344</td><td>-17.468507766723633</td><td>-0.7681846618652344</td></tr>\n",
       "<tr><td>0.0</td><td>1.0</td><td>146.19277353258968</td><td>-0.6882589506846374</td><td>0.004080323036760092</td><td>-15.290872573852539</td><td>1.220979243516922</td><td>-9.548693656921387</td><td>nan</td><td>nan</td><td>nan</td><td>nan</td><td>nan</td><td>nan</td><td>nan</td><td>2</td><td>44</td><td>585695</td><td>0.035663331434249095</td><td>639857</td><td>0.46035331496314846</td><td>585695</td><td>0.221530846641702</td><td>585695</td><td>2.8927174640703734</td><td>-16.230024337768555</td><td>-0.9391517639160156</td><td>-16.230024337768555</td><td>-0.9391517639160156</td></tr>\n",
       "<tr><td>199.39</td><td>1.0</td><td>146.00780426178756</td><td>-0.6422574964819474</td><td>0.004776299931108952</td><td>-15.831652641296387</td><td>0.7728094607591629</td><td>-7.982375621795654</td><td>nan</td><td>0.0</td><td>1.5717060395681055</td><td>7.73051787768279</td><td>0.0179600111522654</td><td>-0.5320566539047968</td><td>0.44255404846002694</td><td>2</td><td>45</td><td>585695</td><td>0.006393284307917346</td><td>585695</td><td>0.08348257342324528</td><td>639857</td><td>0.6010801341408164</td><td>639857</td><td>7.109919536505821</td><td>-16.230024337768555</td><td>-0.39837169647216797</td><td>-16.230024337768555</td><td>-0.39837169647216797</td></tr>\n",
       "<tr><td>0.0</td><td>1.0</td><td>146.6190367018052</td><td>-0.43434631860351913</td><td>0.006036635022610426</td><td>-16.34455108642578</td><td>1.7559601366519928</td><td>-9.769034385681152</td><td>nan</td><td>nan</td><td>nan</td><td>nan</td><td>nan</td><td>nan</td><td>nan</td><td>2</td><td>49</td><td>585714</td><td>0.07059729101415332</td><td>585714</td><td>0.4172620229334301</td><td>585714</td><td>0.3596492056527832</td><td>585714</td><td>2.125689993784549</td><td>-18.811906814575195</td><td>-2.467355728149414</td><td>-18.811906814575195</td><td>-2.467355728149414</td></tr>\n",
       "<tr><td>21.37</td><td>1.0</td><td>146.28299647851426</td><td>0.0641463074401177</td><td>0.021579895168542862</td><td>-16.594152450561523</td><td>2.861306369304657</td><td>-10.189197540283203</td><td>nan</td><td>nan</td><td>nan</td><td>nan</td><td>nan</td><td>nan</td><td>nan</td><td>2</td><td>91</td><td>80</td><td>0.038323438909891316</td><td>92</td><td>0.17226127693210824</td><td>92</td><td>0.10268810550034341</td><td>92</td><td>0.3052372880294029</td><td>-18.4257755279541</td><td>-1.8316230773925781</td><td>-18.4257755279541</td><td>-1.8316230773925781</td></tr>\n",
       "<tr><td>0.0</td><td>1.0</td><td>145.3209420527222</td><td>0.771115298508063</td><td>0.00658948952332139</td><td>-14.810564994812012</td><td>1.925416886806488</td><td>-9.748167991638184</td><td>nan</td><td>0.0</td><td>3.57494352664153</td><td>7.007952737418975</td><td>0.2935407103312847</td><td>-0.9956427104372425</td><td>0.4090425521885854</td><td>2</td><td>186</td><td>208</td><td>0.16133006586884238</td><td>208</td><td>0.576340261650062</td><td>208</td><td>0.6516081633066332</td><td>208</td><td>2.3278241244801396</td><td>-20.45183563232422</td><td>-5.641270637512207</td><td>-20.45183563232422</td><td>-5.641270637512207</td></tr>\n",
       "<tr><td>-99.0</td><td>1.0</td><td>145.4212238164792</td><td>0.5359777701124617</td><td>0.1459859162569046</td><td>-14.866592407226562</td><td>-3.4473413228988647</td><td>nan</td><td>nan</td><td>nan</td><td>nan</td><td>nan</td><td>nan</td><td>nan</td><td>nan</td><td>9</td><td>209</td><td>206</td><td>0.23624643923335842</td><td>206</td><td>0.5428900018158784</td><td>206</td><td>0.53709656480362</td><td>206</td><td>1.2342380947105809</td><td>-21.88896369934082</td><td>-7.022371292114258</td><td>-21.88896369934082</td><td>-7.022371292114258</td></tr>\n",
       "<tr><td>0.0</td><td>1.0</td><td>146.26576246056774</td><td>1.2304320197663696</td><td>0.006355164106935263</td><td>-14.2352876663208</td><td>1.6930833458900452</td><td>-9.700735092163086</td><td>nan</td><td>0.0</td><td>4.040375795270858</td><td>7.048466376827344</td><td>0.3785143362106475</td><td>-1.2323400004904403</td><td>0.5170923842950506</td><td>2</td><td>238</td><td>55137</td><td>0.13915957213413985</td><td>55243</td><td>0.8924983833408165</td><td>55137</td><td>0.18685834815465546</td><td>208</td><td>1.4133282793228592</td><td>-14.308648109436035</td><td>-0.07336044311523438</td><td>-14.308648109436035</td><td>-0.07336044311523438</td></tr>\n",
       "<tr><td>2.0</td><td>1.0</td><td>146.0454337391056</td><td>0.17976464937135217</td><td>0.011124187149107456</td><td>-16.65953826904297</td><td>1.9549891352653503</td><td>-9.48812198638916</td><td>nan</td><td>0.0</td><td>0.8719724346175348</td><td>8.582080122358757</td><td>0.2984090656160034</td><td>-1.430188311491932</td><td>0.32451776651737074</td><td>2</td><td>254</td><td>54956</td><td>1.4001952825790003</td><td>77446</td><td>11.368924619290762</td><td>54956</td><td>1.6348528134242828</td><td>626</td><td>12.31200649897427</td><td>-15.580753326416016</td><td>1.0787849426269531</td><td>-15.580753326416016</td><td>1.0787849426269531</td></tr>\n",
       "<tr><td>...</td><td>...</td><td>...</td><td>...</td><td>...</td><td>...</td><td>...</td><td>...</td><td>...</td><td>...</td><td>...</td><td>...</td><td>...</td><td>...</td><td>...</td><td>...</td><td>...</td><td>...</td><td>...</td><td>...</td><td>...</td><td>...</td><td>...</td><td>...</td><td>...</td><td>...</td><td>...</td><td>...</td><td>...</td></tr>\n",
       "<tr><td>0.0</td><td>1.0</td><td>185.11534575536984</td><td>1.4697403700576224</td><td>0.005367112811654806</td><td>-16.99053192138672</td><td>1.5569166839122772</td><td>-10.174919128417969</td><td>9.15</td><td>0.0</td><td>6.328823551593593</td><td>6.528073645761513</td><td>0.173028013765695</td><td>-0.8062691763949887</td><td>0.23739017922032943</td><td>2</td><td>640890</td><td>64435</td><td>0.1204015917334063</td><td>620206</td><td>2.8104190268972493</td><td>64435</td><td>0.13891726626288028</td><td>590001</td><td>3.558928377255788</td><td>-13.939030647277832</td><td>3.0515012741088867</td><td>-13.939030647277832</td><td>3.0515012741088867</td></tr>\n",
       "<tr><td>-99.0</td><td>1.0</td><td>188.9990109305703</td><td>1.8083450149019276</td><td>0.023000000044703484</td><td>-15.320223808288574</td><td>2.4160732328891754</td><td>nan</td><td>nan</td><td>nan</td><td>nan</td><td>nan</td><td>nan</td><td>nan</td><td>nan</td><td>2</td><td>640946</td><td>65174</td><td>1.442433052038104</td><td>8212</td><td>4.476453081146994</td><td>590369</td><td>1.6957723093010066</td><td>8212</td><td>4.477660809413533</td><td>-16.997364044189453</td><td>-1.677140235900879</td><td>-16.997364044189453</td><td>-1.677140235900879</td></tr>\n",
       "<tr><td>-99.0</td><td>1.0</td><td>192.64431301412273</td><td>0.4338367053477877</td><td>0.007400000002235174</td><td>-13.532980918884277</td><td>2.1651463210582733</td><td>nan</td><td>nan</td><td>nan</td><td>nan</td><td>nan</td><td>nan</td><td>nan</td><td>nan</td><td>2</td><td>640952</td><td>19437</td><td>0.8194009054040303</td><td>590174</td><td>8.904779270786932</td><td>19437</td><td>0.9725201816793569</td><td>589944</td><td>9.083768504727468</td><td>-14.595080375671387</td><td>-1.0620994567871094</td><td>-14.595080375671387</td><td>-1.0620994567871094</td></tr>\n",
       "<tr><td>-99.0</td><td>1.0</td><td>191.06097499950573</td><td>0.1087305555443768</td><td>0.08229999989271164</td><td>inf</td><td>-0.0</td><td>nan</td><td>nan</td><td>nan</td><td>nan</td><td>nan</td><td>nan</td><td>nan</td><td>nan</td><td>0</td><td>640973</td><td>8363</td><td>0.35273580137706434</td><td>8363</td><td>0.8875457262970998</td><td>8363</td><td>0.361487538353881</td><td>8363</td><td>0.9095666459801195</td><td>-20.84092903137207</td><td>-inf</td><td>-20.84092903137207</td><td>-inf</td></tr>\n",
       "<tr><td>-99.0</td><td>1.0</td><td>192.80763257494428</td><td>-2.455246110855317</td><td>0.14059999585151672</td><td>-13.76870346069336</td><td>nan</td><td>nan</td><td>nan</td><td>nan</td><td>nan</td><td>nan</td><td>nan</td><td>nan</td><td>nan</td><td>9</td><td>641000</td><td>19243</td><td>0.8663942052486372</td><td>19243</td><td>1.561004474812941</td><td>19243</td><td>1.4099108707018995</td><td>19243</td><td>2.5402722743528376</td><td>-21.928823471069336</td><td>-8.160120010375977</td><td>-21.928823471069336</td><td>-8.160120010375977</td></tr>\n",
       "<tr><td>-99.0</td><td>1.0</td><td>188.89380818960447</td><td>-1.8498849999786775</td><td>0.13979999721050262</td><td>-13.594388961791992</td><td>3.202684223651886</td><td>nan</td><td>nan</td><td>nan</td><td>nan</td><td>nan</td><td>nan</td><td>nan</td><td>nan</td><td>9</td><td>641020</td><td>7992</td><td>5.655484317566962</td><td>7992</td><td>11.769082154613754</td><td>620862</td><td>3.983740582399639</td><td>7992</td><td>11.798339825401921</td><td>-21.459442138671875</td><td>-7.865053176879883</td><td>-21.459442138671875</td><td>-7.865053176879883</td></tr>\n",
       "<tr><td>-99.0</td><td>1.0</td><td>195.7974241855557</td><td>-0.645610216098114</td><td>0.010599999688565731</td><td>-15.815028190612793</td><td>2.627665400505066</td><td>nan</td><td>nan</td><td>nan</td><td>nan</td><td>nan</td><td>nan</td><td>nan</td><td>nan</td><td>2</td><td>641081</td><td>591337</td><td>0.4898247444932265</td><td>591097</td><td>8.49333429588214</td><td>591337</td><td>1.5759606959945431</td><td>591097</td><td>8.928302501380742</td><td>-14.790029525756836</td><td>1.024998664855957</td><td>-14.790029525756836</td><td>1.024998664855957</td></tr>\n",
       "<tr><td>-99.0</td><td>1.0</td><td>199.29944584044983</td><td>0.9865909797474982</td><td>0.0026000000070780516</td><td>-12.417573928833008</td><td>1.611286848783493</td><td>nan</td><td>nan</td><td>nan</td><td>nan</td><td>nan</td><td>nan</td><td>nan</td><td>nan</td><td>2</td><td>641142</td><td>67346</td><td>0.4020258984385085</td><td>67346</td><td>2.6060658307116027</td><td>559443</td><td>0.8596800301260439</td><td>590744</td><td>5.747123274989908</td><td>-18.511077880859375</td><td>-6.093503952026367</td><td>-18.511077880859375</td><td>-6.093503952026367</td></tr>\n",
       "<tr><td>2.0</td><td>1.0</td><td>201.71723972959848</td><td>-2.576901005405034</td><td>0.01229129545390606</td><td>-16.897815704345703</td><td>1.4540192484855652</td><td>-9.589588165283203</td><td>nan</td><td>0.0</td><td>2.02382629018129</td><td>7.52096586425454</td><td>0.3226054289594516</td><td>-1.1888047345201729</td><td>0.4384916921619206</td><td>2</td><td>641198</td><td>591791</td><td>0.21703169083399224</td><td>591804</td><td>2.497833190089756</td><td>158934</td><td>0.2865101877937501</td><td>591804</td><td>2.5133431963196426</td><td>-14.780978202819824</td><td>2.116837501525879</td><td>-14.780978202819824</td><td>2.116837501525879</td></tr>\n",
       "<tr><td>-99.0</td><td>1.0</td><td>210.0654273046183</td><td>-0.2611656048323169</td><td>0.062199998646974564</td><td>-16.961034774780273</td><td>1.6531676054000854</td><td>nan</td><td>nan</td><td>nan</td><td>nan</td><td>nan</td><td>nan</td><td>nan</td><td>nan</td><td>1</td><td>641301</td><td>628341</td><td>5.523023742934556</td><td>11725</td><td>26.65616304979293</td><td>628341</td><td>5.857288439396368</td><td>12020</td><td>18.433666392593494</td><td>-17.14265251159668</td><td>-0.18161773681640625</td><td>-17.14265251159668</td><td>-0.18161773681640625</td></tr>\n",
       "</table></div>"
      ],
      "text/plain": [
       "<Table length=12950>\n",
       "  aimc  IN_DR7_LSS ... 2D_neighbor_vir_ABSMAG_r 2D_neighbor_vir_ABSMAG_r_diff\n",
       "float64  float64   ...         float64                     float64           \n",
       "------- ---------- ... ------------------------ -----------------------------\n",
       "    0.0        1.0 ...       -16.34455108642578           -0.8098773956298828\n",
       " 106.68        1.0 ...      -17.468507766723633           -0.7681846618652344\n",
       "    0.0        1.0 ...      -16.230024337768555           -0.9391517639160156\n",
       " 199.39        1.0 ...      -16.230024337768555          -0.39837169647216797\n",
       "    0.0        1.0 ...      -18.811906814575195            -2.467355728149414\n",
       "  21.37        1.0 ...        -18.4257755279541           -1.8316230773925781\n",
       "    0.0        1.0 ...       -20.45183563232422            -5.641270637512207\n",
       "  -99.0        1.0 ...       -21.88896369934082            -7.022371292114258\n",
       "    0.0        1.0 ...      -14.308648109436035          -0.07336044311523438\n",
       "    2.0        1.0 ...      -15.580753326416016            1.0787849426269531\n",
       "    ...        ... ...                      ...                           ...\n",
       "    0.0        1.0 ...      -13.939030647277832            3.0515012741088867\n",
       "  -99.0        1.0 ...      -16.997364044189453            -1.677140235900879\n",
       "  -99.0        1.0 ...      -14.595080375671387           -1.0620994567871094\n",
       "  -99.0        1.0 ...       -20.84092903137207                          -inf\n",
       "  -99.0        1.0 ...      -21.928823471069336            -8.160120010375977\n",
       "  -99.0        1.0 ...      -21.459442138671875            -7.865053176879883\n",
       "  -99.0        1.0 ...      -14.790029525756836             1.024998664855957\n",
       "  -99.0        1.0 ...      -18.511077880859375            -6.093503952026367\n",
       "    2.0        1.0 ...      -14.780978202819824             2.116837501525879\n",
       "  -99.0        1.0 ...       -17.14265251159668          -0.18161773681640625"
      ]
     },
     "execution_count": 87,
     "metadata": {},
     "output_type": "execute_result"
    }
   ],
   "source": [
    "dwarf_table"
   ]
  },
  {
   "cell_type": "code",
   "execution_count": null,
   "id": "043fe55c",
   "metadata": {},
   "outputs": [],
   "source": [
    "dwarfs_OH"
   ]
  }
 ],
 "metadata": {
  "kernelspec": {
   "display_name": "Python 3 (ipykernel)",
   "language": "python",
   "name": "python3"
  },
  "language_info": {
   "codemirror_mode": {
    "name": "ipython",
    "version": 3
   },
   "file_extension": ".py",
   "mimetype": "text/x-python",
   "name": "python",
   "nbconvert_exporter": "python",
   "pygments_lexer": "ipython3",
   "version": "3.9.12"
  }
 },
 "nbformat": 4,
 "nbformat_minor": 5
}
